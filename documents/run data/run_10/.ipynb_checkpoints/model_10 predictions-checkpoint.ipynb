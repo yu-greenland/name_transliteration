{
 "cells": [
  {
   "cell_type": "code",
   "execution_count": 1,
   "id": "f062e756",
   "metadata": {},
   "outputs": [],
   "source": [
    "language = 'ja'\n",
    "import name_transliteration.model_trainer_and_tester as model_trainer_and_tester\n",
    "loaded_model = model_trainer_and_tester.ModelTrainerAndTester(\n",
    "    language=language\n",
    ")\n",
    "loaded_model.loadDataParameters()\n",
    "loaded_model.createDecoderEncoder('model_10')"
   ]
  },
  {
   "cell_type": "code",
   "execution_count": 2,
   "id": "3608d9a9",
   "metadata": {},
   "outputs": [
    {
     "name": "stdout",
     "output_type": "stream",
     "text": [
      "\n",
      "evaluating on test set with 0 edit threshold...\n",
      "9/9 [==============================] - 1s 60ms/step - loss: 0.2031 - accuracy: 0.9655\n",
      "test loss, test acc: [0.20307865738868713, 0.9654783606529236]\n",
      "evaluating on test set with 0.1 edit threshold...\n",
      "13/13 [==============================] - 1s 65ms/step - loss: 0.2679 - accuracy: 0.9554\n",
      "test loss, test acc: [0.2679181396961212, 0.9553797245025635]\n",
      "evaluating on test set with 0.25 edit threshold...\n",
      "26/26 [==============================] - 2s 58ms/step - loss: 0.6348 - accuracy: 0.9079\n",
      "test loss, test acc: [0.634767472743988, 0.9079391956329346]\n"
     ]
    }
   ],
   "source": [
    "loaded_model.evaluateOnTestData('model_10')"
   ]
  },
  {
   "cell_type": "code",
   "execution_count": 3,
   "id": "76e73377",
   "metadata": {},
   "outputs": [
    {
     "data": {
      "text/plain": [
       "('なると\\n', 0.9999957)"
      ]
     },
     "execution_count": 3,
     "metadata": {},
     "output_type": "execute_result"
    }
   ],
   "source": [
    "loaded_model.predict(\"naruto\")"
   ]
  },
  {
   "cell_type": "code",
   "execution_count": 4,
   "id": "d686e1a6",
   "metadata": {},
   "outputs": [
    {
     "data": {
      "text/plain": [
       "('ゆず\\n', 0.99997723)"
      ]
     },
     "execution_count": 4,
     "metadata": {},
     "output_type": "execute_result"
    }
   ],
   "source": [
    "loaded_model.predict(\"yuzu\")"
   ]
  },
  {
   "cell_type": "code",
   "execution_count": 5,
   "id": "7087a62c",
   "metadata": {},
   "outputs": [
    {
     "data": {
      "text/plain": [
       "('レエレンディ\\n', 0.69096136)"
      ]
     },
     "execution_count": 5,
     "metadata": {},
     "output_type": "execute_result"
    }
   ],
   "source": [
    "loaded_model.predict(\"greenland\")"
   ]
  },
  {
   "cell_type": "code",
   "execution_count": 6,
   "id": "c083d2ba",
   "metadata": {},
   "outputs": [
    {
     "data": {
      "text/plain": [
       "('いりけりずあ\\n', 0.8760117)"
      ]
     },
     "execution_count": 6,
     "metadata": {},
     "output_type": "execute_result"
    }
   ],
   "source": [
    "loaded_model.predict(\"i like pizza\")"
   ]
  },
  {
   "cell_type": "code",
   "execution_count": null,
   "id": "f3a2c49a",
   "metadata": {},
   "outputs": [],
   "source": []
  }
 ],
 "metadata": {
  "kernelspec": {
   "display_name": "Python 3",
   "language": "python",
   "name": "python3"
  },
  "language_info": {
   "codemirror_mode": {
    "name": "ipython",
    "version": 3
   },
   "file_extension": ".py",
   "mimetype": "text/x-python",
   "name": "python",
   "nbconvert_exporter": "python",
   "pygments_lexer": "ipython3",
   "version": "3.8.2"
  }
 },
 "nbformat": 4,
 "nbformat_minor": 5
}
