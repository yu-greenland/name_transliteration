{
 "cells": [
  {
   "cell_type": "code",
   "execution_count": 1,
   "id": "f062e756",
   "metadata": {},
   "outputs": [],
   "source": [
    "language = 'ja'\n",
    "import name_transliteration.model_trainer_and_tester as model_trainer_and_tester\n",
    "loaded_model = model_trainer_and_tester.ModelTrainerAndTester(\n",
    "    language=language\n",
    ")\n",
    "loaded_model.loadDataParameters()\n",
    "loaded_model.createDecoderEncoder('model_25')"
   ]
  },
  {
   "cell_type": "code",
   "execution_count": 2,
   "id": "3608d9a9",
   "metadata": {},
   "outputs": [
    {
     "name": "stdout",
     "output_type": "stream",
     "text": [
      "\n",
      "evaluating on test set with 0 edit threshold...\n",
      "9/9 [==============================] - 2s 64ms/step - loss: 0.2510 - accuracy: 0.9569\n",
      "test loss, test acc: [0.250957727432251, 0.9569043517112732]\n",
      "evaluating on test set with 0.1 edit threshold...\n",
      "13/13 [==============================] - 1s 67ms/step - loss: 0.3246 - accuracy: 0.9432\n",
      "test loss, test acc: [0.32462969422340393, 0.943196177482605]\n",
      "evaluating on test set with 0.25 edit threshold...\n",
      "26/26 [==============================] - 2s 69ms/step - loss: 0.4534 - accuracy: 0.9244\n",
      "test loss, test acc: [0.4534108340740204, 0.9243704080581665]\n"
     ]
    }
   ],
   "source": [
    "loaded_model.evaluateOnTestData('model_25')"
   ]
  },
  {
   "cell_type": "code",
   "execution_count": 3,
   "id": "76e73377",
   "metadata": {},
   "outputs": [
    {
     "data": {
      "text/plain": [
       "('なると\\n', 0.98858696)"
      ]
     },
     "execution_count": 3,
     "metadata": {},
     "output_type": "execute_result"
    }
   ],
   "source": [
    "loaded_model.predict(\"naruto\")"
   ]
  },
  {
   "cell_type": "code",
   "execution_count": 4,
   "id": "d686e1a6",
   "metadata": {},
   "outputs": [
    {
     "data": {
      "text/plain": [
       "('ゆず\\n', 0.9913873)"
      ]
     },
     "execution_count": 4,
     "metadata": {},
     "output_type": "execute_result"
    }
   ],
   "source": [
    "loaded_model.predict(\"yuzu\")"
   ]
  },
  {
   "cell_type": "code",
   "execution_count": 5,
   "id": "d19cce5b",
   "metadata": {},
   "outputs": [
    {
     "data": {
      "text/plain": [
       "('グレンペーラ\\n', 0.99257046)"
      ]
     },
     "execution_count": 5,
     "metadata": {},
     "output_type": "execute_result"
    }
   ],
   "source": [
    "loaded_model.predict(\"greenland\")"
   ]
  },
  {
   "cell_type": "code",
   "execution_count": 6,
   "id": "08fc71f5",
   "metadata": {},
   "outputs": [
    {
     "data": {
      "text/plain": [
       "('いりけぴあ\\n', 0.62201613)"
      ]
     },
     "execution_count": 6,
     "metadata": {},
     "output_type": "execute_result"
    }
   ],
   "source": [
    "loaded_model.predict(\"i like pizza\")"
   ]
  },
  {
   "cell_type": "code",
   "execution_count": 7,
   "id": "4068d2ea",
   "metadata": {},
   "outputs": [
    {
     "data": {
      "text/plain": [
       "('じょしあ\\n', 0.58437246)"
      ]
     },
     "execution_count": 7,
     "metadata": {},
     "output_type": "execute_result"
    }
   ],
   "source": [
    "loaded_model.predict(\"joshua\")"
   ]
  },
  {
   "cell_type": "code",
   "execution_count": null,
   "id": "16357382",
   "metadata": {},
   "outputs": [],
   "source": []
  }
 ],
 "metadata": {
  "kernelspec": {
   "display_name": "Python 3",
   "language": "python",
   "name": "python3"
  },
  "language_info": {
   "codemirror_mode": {
    "name": "ipython",
    "version": 3
   },
   "file_extension": ".py",
   "mimetype": "text/x-python",
   "name": "python",
   "nbconvert_exporter": "python",
   "pygments_lexer": "ipython3",
   "version": "3.8.2"
  }
 },
 "nbformat": 4,
 "nbformat_minor": 5
}
