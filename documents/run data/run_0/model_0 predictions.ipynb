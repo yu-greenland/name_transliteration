{
 "cells": [
  {
   "cell_type": "code",
   "execution_count": 1,
   "id": "f9ea9b84",
   "metadata": {},
   "outputs": [],
   "source": [
    "language = 'ja'\n",
    "import name_transliteration.model_trainer_and_tester as model_trainer_and_tester\n",
    "loaded_model = model_trainer_and_tester.ModelTrainerAndTester(\n",
    "    language=language\n",
    ")\n",
    "loaded_model.loadDataParameters()\n",
    "loaded_model.createDecoderEncoder('model_0')"
   ]
  },
  {
   "cell_type": "code",
   "execution_count": 2,
   "id": "bf88665e",
   "metadata": {},
   "outputs": [
    {
     "name": "stdout",
     "output_type": "stream",
     "text": [
      "\n",
      "evaluating on test set with 0 edit threshold...\n",
      "9/9 [==============================] - 2s 59ms/step - loss: 0.2000 - accuracy: 0.9662\n",
      "test loss, test acc: [0.19999532401561737, 0.9661552309989929]\n",
      "evaluating on test set with 0.1 edit threshold...\n",
      "13/13 [==============================] - 1s 58ms/step - loss: 0.5211 - accuracy: 0.9313\n",
      "test loss, test acc: [0.5211201310157776, 0.9313291311264038]\n",
      "evaluating on test set with 0.25 edit threshold...\n",
      "26/26 [==============================] - 2s 59ms/step - loss: 1.1019 - accuracy: 0.8838\n",
      "test loss, test acc: [1.1019363403320312, 0.8838298320770264]\n"
     ]
    }
   ],
   "source": [
    "loaded_model.evaluateOnTestData('model_0')"
   ]
  },
  {
   "cell_type": "code",
   "execution_count": 3,
   "id": "cdb2b61b",
   "metadata": {},
   "outputs": [
    {
     "data": {
      "text/plain": [
       "('なると\\n', 1.0)"
      ]
     },
     "execution_count": 3,
     "metadata": {},
     "output_type": "execute_result"
    }
   ],
   "source": [
    "loaded_model.predict(\"naruto\")"
   ]
  },
  {
   "cell_type": "code",
   "execution_count": 4,
   "id": "db9cc92b",
   "metadata": {},
   "outputs": [
    {
     "data": {
      "text/plain": [
       "('ゆず\\n', 0.9999995)"
      ]
     },
     "execution_count": 4,
     "metadata": {},
     "output_type": "execute_result"
    }
   ],
   "source": [
    "loaded_model.predict(\"yuzu\")"
   ]
  },
  {
   "cell_type": "code",
   "execution_count": 5,
   "id": "48d46184",
   "metadata": {},
   "outputs": [
    {
     "data": {
      "text/plain": [
       "('ゲグソンラン\\n', 1.0)"
      ]
     },
     "execution_count": 5,
     "metadata": {},
     "output_type": "execute_result"
    }
   ],
   "source": [
    "loaded_model.predict(\"greenland\")"
   ]
  },
  {
   "cell_type": "code",
   "execution_count": 6,
   "id": "10026fcb",
   "metadata": {},
   "outputs": [
    {
     "data": {
      "text/plain": [
       "('ぴけん\\n', 0.9999975)"
      ]
     },
     "execution_count": 6,
     "metadata": {},
     "output_type": "execute_result"
    }
   ],
   "source": [
    "loaded_model.predict(\"i like pizza\")"
   ]
  },
  {
   "cell_type": "code",
   "execution_count": 7,
   "id": "6890076e",
   "metadata": {},
   "outputs": [
    {
     "data": {
      "text/plain": [
       "('ジョシュー\\n', 0.9999901)"
      ]
     },
     "execution_count": 7,
     "metadata": {},
     "output_type": "execute_result"
    }
   ],
   "source": [
    "loaded_model.predict(\"joshua\")"
   ]
  },
  {
   "cell_type": "code",
   "execution_count": 8,
   "id": "65b9d1ec",
   "metadata": {},
   "outputs": [
    {
     "data": {
      "text/plain": [
       "('ひいや\\n', 0.99999857)"
      ]
     },
     "execution_count": 8,
     "metadata": {},
     "output_type": "execute_result"
    }
   ],
   "source": [
    "loaded_model.predict(\"lily\")"
   ]
  },
  {
   "cell_type": "code",
   "execution_count": null,
   "id": "f7e10066",
   "metadata": {},
   "outputs": [],
   "source": []
  }
 ],
 "metadata": {
  "kernelspec": {
   "display_name": "Python 3",
   "language": "python",
   "name": "python3"
  },
  "language_info": {
   "codemirror_mode": {
    "name": "ipython",
    "version": 3
   },
   "file_extension": ".py",
   "mimetype": "text/x-python",
   "name": "python",
   "nbconvert_exporter": "python",
   "pygments_lexer": "ipython3",
   "version": "3.8.2"
  }
 },
 "nbformat": 4,
 "nbformat_minor": 5
}
