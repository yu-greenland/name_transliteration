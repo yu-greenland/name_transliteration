{
 "cells": [
  {
   "cell_type": "markdown",
   "id": "489095e2",
   "metadata": {},
   "source": [
    "This notebook is testing the effect that edit distance has on the final transliteration model.\n",
    "\n",
    "My hypothesis is that the higher the edit distance, the more validation loss will be had.\n",
    "\n",
    "It goes through the pre-processing of data all the way to outputting a model that can be re-used later on. It even performs some basic evaluation namely plotting training and validation loss.\n",
    "\n",
    "Works best on Japanese ('ja') as the Twitter data used contains higher portions of Japanese Tweets compared to other languages that are not English. Also the standard transliteration used when evaluating suitable name pairs works very well in Japanese."
   ]
  },
  {
   "cell_type": "code",
   "execution_count": 1,
   "id": "8ce9b6d7",
   "metadata": {},
   "outputs": [],
   "source": [
    "language = 'ja'"
   ]
  },
  {
   "cell_type": "code",
   "execution_count": 2,
   "id": "3de56144",
   "metadata": {},
   "outputs": [
    {
     "name": "stdout",
     "output_type": "stream",
     "text": [
      "./data/stream-2021-01-13T01:21:29.804195.gz\n",
      "./data/stream-2021-01-12T23:08:30.828340.gz\n",
      "./data/stream-2021-01-13T00:02:22.807571.gz\n",
      "./data/stream-2021-01-13T02:14:13.914215.gz\n",
      "./data/stream-2021-01-13T03:09:29.015229.gz\n",
      "./data/stream-2021-01-13T00:55:27.831486.gz\n",
      "./data/stream-2021-01-12T23:35:55.813786.gz\n",
      "./data/stream-2021-01-13T00:28:46.798948.gz\n",
      "./data/stream-2021-01-13T01:47:06.536491.gz\n",
      "./data/stream-2021-01-13T02:42:07.071964.gz\n"
     ]
    },
    {
     "name": "stderr",
     "output_type": "stream",
     "text": [
      "/Users/yug/Documents/GitHub/name_transliteration/name_transliteration/filtering.py:54: SettingWithCopyWarning: \n",
      "A value is trying to be set on a copy of a slice from a DataFrame.\n",
      "Try using .loc[row_indexer,col_indexer] = value instead\n",
      "\n",
      "See the caveats in the documentation: https://pandas.pydata.org/pandas-docs/stable/user_guide/indexing.html#returning-a-view-versus-a-copy\n",
      "  df['screen_name'] = df['screen_name'].apply(self.removeNonLanguageCharacters)\n"
     ]
    },
    {
     "name": "stdout",
     "output_type": "stream",
     "text": [
      "Saving filtered names. 140052 number of rows. \n"
     ]
    }
   ],
   "source": [
    "import name_transliteration.filtering as filter\n",
    "\n",
    "my_filter = filter.Filter(language)\n",
    "my_filter.filterData(\"./data/\")\n",
    "\n",
    "my_filter.saveDataAsText()"
   ]
  },
  {
   "cell_type": "code",
   "execution_count": null,
   "id": "200c5c88",
   "metadata": {},
   "outputs": [
    {
     "name": "stdout",
     "output_type": "stream",
     "text": [
      "Saving cleansed names as: ja_0_edit_distance_language_cleansed.txt 4730 number of rows. \n",
      "Number of samples: 4730\n",
      "Number of unique input tokens: 24\n",
      "Number of unique output tokens: 871\n",
      "Max sequence length for inputs: 15\n",
      "Max sequence length for outputs: 11\n",
      "Epoch 1/50\n",
      "60/60 [==============================] - 10s 117ms/step - loss: 2.9431 - accuracy: 0.5662 - val_loss: 1.9057 - val_accuracy: 0.6253\n",
      "Epoch 2/50\n",
      "60/60 [==============================] - 5s 86ms/step - loss: 1.8722 - accuracy: 0.6345 - val_loss: 1.8536 - val_accuracy: 0.6387\n",
      "Epoch 3/50\n",
      "60/60 [==============================] - 5s 84ms/step - loss: 1.7857 - accuracy: 0.6517 - val_loss: 1.7196 - val_accuracy: 0.6848\n",
      "Epoch 4/50\n",
      "60/60 [==============================] - 5s 85ms/step - loss: 1.6908 - accuracy: 0.6700 - val_loss: 1.6691 - val_accuracy: 0.6840\n",
      "Epoch 5/50\n",
      "60/60 [==============================] - 5s 85ms/step - loss: 1.6410 - accuracy: 0.6840 - val_loss: 1.6311 - val_accuracy: 0.6978\n",
      "Epoch 6/50\n",
      "60/60 [==============================] - 5s 86ms/step - loss: 1.5830 - accuracy: 0.6958 - val_loss: 1.6513 - val_accuracy: 0.6951\n",
      "Epoch 7/50\n",
      "60/60 [==============================] - 6s 94ms/step - loss: 1.5717 - accuracy: 0.6981 - val_loss: 1.5844 - val_accuracy: 0.7016\n",
      "Epoch 8/50\n",
      "60/60 [==============================] - 5s 90ms/step - loss: 1.5029 - accuracy: 0.7044 - val_loss: 1.6242 - val_accuracy: 0.7029\n",
      "Epoch 9/50\n",
      "60/60 [==============================] - 5s 86ms/step - loss: 1.4467 - accuracy: 0.7127 - val_loss: 1.5171 - val_accuracy: 0.7077\n",
      "Epoch 10/50\n",
      "60/60 [==============================] - 5s 87ms/step - loss: 1.3950 - accuracy: 0.7155 - val_loss: 1.4403 - val_accuracy: 0.7195\n",
      "Epoch 11/50\n",
      "60/60 [==============================] - 5s 84ms/step - loss: 1.3434 - accuracy: 0.7230 - val_loss: 1.4191 - val_accuracy: 0.7256\n",
      "Epoch 12/50\n",
      "60/60 [==============================] - 5s 83ms/step - loss: 1.2797 - accuracy: 0.7298 - val_loss: 1.4305 - val_accuracy: 0.7213\n",
      "Epoch 13/50\n",
      "60/60 [==============================] - 5s 84ms/step - loss: 1.2434 - accuracy: 0.7342 - val_loss: 1.3454 - val_accuracy: 0.7306\n",
      "Epoch 14/50\n",
      "60/60 [==============================] - 5s 84ms/step - loss: 1.1830 - accuracy: 0.7461 - val_loss: 1.3619 - val_accuracy: 0.7266\n",
      "Epoch 15/50\n",
      "60/60 [==============================] - 5s 84ms/step - loss: 1.1395 - accuracy: 0.7515 - val_loss: 1.2384 - val_accuracy: 0.7486\n",
      "Epoch 16/50\n",
      "60/60 [==============================] - 5s 84ms/step - loss: 1.0733 - accuracy: 0.7618 - val_loss: 1.2133 - val_accuracy: 0.7590\n",
      "Epoch 17/50\n",
      "60/60 [==============================] - 6s 98ms/step - loss: 0.9971 - accuracy: 0.7773 - val_loss: 1.2007 - val_accuracy: 0.7575\n",
      "Epoch 18/50\n",
      "60/60 [==============================] - 5s 90ms/step - loss: 0.9457 - accuracy: 0.7859 - val_loss: 1.2124 - val_accuracy: 0.7579\n",
      "Epoch 19/50\n",
      "60/60 [==============================] - 5s 85ms/step - loss: 0.9000 - accuracy: 0.7942 - val_loss: 1.1024 - val_accuracy: 0.7787\n",
      "Epoch 20/50\n",
      "60/60 [==============================] - 5s 87ms/step - loss: 0.8428 - accuracy: 0.8081 - val_loss: 1.0999 - val_accuracy: 0.7817\n",
      "Epoch 21/50\n",
      "60/60 [==============================] - 5s 89ms/step - loss: 0.7943 - accuracy: 0.8171 - val_loss: 1.1291 - val_accuracy: 0.7702\n",
      "Epoch 22/50\n",
      "60/60 [==============================] - 5s 90ms/step - loss: 0.7667 - accuracy: 0.8219 - val_loss: 1.0444 - val_accuracy: 0.7879\n",
      "Epoch 23/50\n",
      "60/60 [==============================] - 5s 87ms/step - loss: 0.7139 - accuracy: 0.8338 - val_loss: 1.0149 - val_accuracy: 0.7968\n",
      "Epoch 24/50\n",
      "60/60 [==============================] - 5s 84ms/step - loss: 0.6760 - accuracy: 0.8388 - val_loss: 0.9974 - val_accuracy: 0.7974\n",
      "Epoch 25/50\n",
      "60/60 [==============================] - 5s 82ms/step - loss: 0.6292 - accuracy: 0.8516 - val_loss: 0.9945 - val_accuracy: 0.7984\n",
      "Epoch 26/50\n",
      "60/60 [==============================] - 5s 86ms/step - loss: 0.6046 - accuracy: 0.8538 - val_loss: 0.9765 - val_accuracy: 0.8063\n",
      "Epoch 27/50\n",
      "60/60 [==============================] - 5s 84ms/step - loss: 0.5531 - accuracy: 0.8678 - val_loss: 0.9727 - val_accuracy: 0.8075\n",
      "Epoch 28/50\n",
      "60/60 [==============================] - 5s 84ms/step - loss: 0.5235 - accuracy: 0.8738 - val_loss: 0.9278 - val_accuracy: 0.8202\n",
      "Epoch 29/50\n",
      "60/60 [==============================] - 5s 84ms/step - loss: 0.4917 - accuracy: 0.8836 - val_loss: 0.9227 - val_accuracy: 0.8176\n",
      "Epoch 30/50\n",
      "60/60 [==============================] - 5s 83ms/step - loss: 0.4510 - accuracy: 0.8924 - val_loss: 0.9251 - val_accuracy: 0.8167\n",
      "Epoch 31/50\n",
      "60/60 [==============================] - 5s 85ms/step - loss: 0.4175 - accuracy: 0.9018 - val_loss: 0.8952 - val_accuracy: 0.8264\n",
      "Epoch 32/50\n",
      "60/60 [==============================] - 5s 88ms/step - loss: 0.3937 - accuracy: 0.9059 - val_loss: 0.9664 - val_accuracy: 0.8113\n",
      "Epoch 33/50\n",
      "60/60 [==============================] - 5s 90ms/step - loss: 0.3639 - accuracy: 0.9152 - val_loss: 0.9479 - val_accuracy: 0.8149\n",
      "Epoch 34/50\n",
      "60/60 [==============================] - 5s 92ms/step - loss: 0.3514 - accuracy: 0.9171 - val_loss: 0.8807 - val_accuracy: 0.8307\n",
      "Epoch 35/50\n",
      "60/60 [==============================] - 5s 85ms/step - loss: 0.3130 - accuracy: 0.9279 - val_loss: 0.8716 - val_accuracy: 0.8295\n",
      "Epoch 36/50\n",
      "60/60 [==============================] - 5s 85ms/step - loss: 0.2800 - accuracy: 0.9392 - val_loss: 0.8834 - val_accuracy: 0.8317\n",
      "Epoch 37/50\n",
      "60/60 [==============================] - 5s 85ms/step - loss: 0.2696 - accuracy: 0.9394 - val_loss: 0.8523 - val_accuracy: 0.8389\n",
      "Epoch 38/50\n",
      "60/60 [==============================] - 5s 86ms/step - loss: 0.2450 - accuracy: 0.9473 - val_loss: 0.8606 - val_accuracy: 0.8354\n",
      "Epoch 39/50\n",
      "60/60 [==============================] - 5s 87ms/step - loss: 0.2259 - accuracy: 0.9530 - val_loss: 0.8695 - val_accuracy: 0.8380\n",
      "Epoch 40/50\n",
      "35/60 [================>.............] - ETA: 1s - loss: 0.2090 - accuracy: 0.9570"
     ]
    }
   ],
   "source": [
    "import name_transliteration.cleansing as cleanse\n",
    "import name_transliteration.model_trainer as model_trainer\n",
    "\n",
    "edit_thresholds = [0, 0.1, 0.2, 0.3, 0.4, 0.5, 0.6, 0.7, 0.8, 0.9, 1]\n",
    "\n",
    "for i in edit_thresholds:\n",
    "    my_cleanser = cleanse.Cleanse(my_filter.getDataFrame(), edit_threshold=i)\n",
    "    my_cleanser.cleanseData()\n",
    "\n",
    "    my_cleanser.saveDataAsText()\n",
    "\n",
    "    model_trainer = model_trainer.ModelTrainer(language=language, data_path = './ja_'+str(int(i*10))+'_edit_distance_language_cleansed.txt', epochs=50)\n",
    "\n",
    "    model_trainer.runWholeTrainProcess()\n",
    "\n",
    "    model_trainer.plotLoss(file_name = str(i)+'_loss.png')\n",
    "    model_trainer.plotAccuracy(file_name = str(i)+'_accuracy.png')"
   ]
  },
  {
   "cell_type": "code",
   "execution_count": null,
   "id": "aca3a956",
   "metadata": {},
   "outputs": [],
   "source": []
  }
 ],
 "metadata": {
  "kernelspec": {
   "display_name": "Python 3",
   "language": "python",
   "name": "python3"
  },
  "language_info": {
   "codemirror_mode": {
    "name": "ipython",
    "version": 3
   },
   "file_extension": ".py",
   "mimetype": "text/x-python",
   "name": "python",
   "nbconvert_exporter": "python",
   "pygments_lexer": "ipython3",
   "version": "3.8.2"
  }
 },
 "nbformat": 4,
 "nbformat_minor": 5
}
