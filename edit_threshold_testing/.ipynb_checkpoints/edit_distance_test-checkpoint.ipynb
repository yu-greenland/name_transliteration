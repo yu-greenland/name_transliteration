{
 "cells": [
  {
   "cell_type": "markdown",
   "id": "489095e2",
   "metadata": {},
   "source": [
    "This notebook is testing the effect that edit distance has on the final transliteration model.\n",
    "\n",
    "My hypothesis is that the higher the edit distance, the more validation loss will be had.\n",
    "\n",
    "It goes through the pre-processing of data all the way to outputting a model that can be re-used later on. It even performs some basic evaluation namely plotting training and validation loss.\n",
    "\n",
    "Works best on Japanese ('ja') as the Twitter data used contains higher portions of Japanese Tweets compared to other languages that are not English. Also the standard transliteration used when evaluating suitable name pairs works very well in Japanese."
   ]
  },
  {
   "cell_type": "code",
   "execution_count": 1,
   "id": "8ce9b6d7",
   "metadata": {},
   "outputs": [],
   "source": [
    "language = 'ja'"
   ]
  },
  {
   "cell_type": "code",
   "execution_count": 2,
   "id": "3de56144",
   "metadata": {},
   "outputs": [
    {
     "name": "stdout",
     "output_type": "stream",
     "text": [
      "./data/stream-2021-01-13T01:21:29.804195.gz\n",
      "./data/stream-2021-01-12T23:08:30.828340.gz\n",
      "./data/stream-2021-01-13T00:02:22.807571.gz\n",
      "./data/stream-2021-01-13T02:14:13.914215.gz\n",
      "./data/stream-2021-01-13T03:09:29.015229.gz\n",
      "./data/stream-2021-01-13T00:55:27.831486.gz\n",
      "./data/stream-2021-01-12T23:35:55.813786.gz\n",
      "./data/stream-2021-01-13T00:28:46.798948.gz\n",
      "./data/stream-2021-01-13T01:47:06.536491.gz\n",
      "./data/stream-2021-01-13T02:42:07.071964.gz\n"
     ]
    },
    {
     "name": "stderr",
     "output_type": "stream",
     "text": [
      "/Users/yug/Documents/GitHub/name_transliteration/name_transliteration/filtering.py:54: SettingWithCopyWarning: \n",
      "A value is trying to be set on a copy of a slice from a DataFrame.\n",
      "Try using .loc[row_indexer,col_indexer] = value instead\n",
      "\n",
      "See the caveats in the documentation: https://pandas.pydata.org/pandas-docs/stable/user_guide/indexing.html#returning-a-view-versus-a-copy\n",
      "  df['screen_name'] = df['screen_name'].apply(self.removeNonLanguageCharacters)\n"
     ]
    },
    {
     "name": "stdout",
     "output_type": "stream",
     "text": [
      "Saving filtered names. 140052 number of rows. \n"
     ]
    }
   ],
   "source": [
    "import name_transliteration.filtering as filter\n",
    "\n",
    "my_filter = filter.Filter(language)\n",
    "my_filter.filterData(\"./data/\")\n",
    "\n",
    "my_filter.saveDataAsText()"
   ]
  },
  {
   "cell_type": "code",
   "execution_count": 3,
   "id": "200c5c88",
   "metadata": {},
   "outputs": [
    {
     "name": "stdout",
     "output_type": "stream",
     "text": [
      "Saving cleansed names as: ja_0_edit_distance_language_cleansed.txt 4730 number of rows. \n",
      "Number of samples: 4730\n",
      "Number of unique input tokens: 24\n",
      "Number of unique output tokens: 871\n",
      "Max sequence length for inputs: 15\n",
      "Max sequence length for outputs: 11\n",
      "Epoch 1/50\n",
      "60/60 [==============================] - 9s 107ms/step - loss: 2.9397 - accuracy: 0.5644 - val_loss: 1.8733 - val_accuracy: 0.6534\n",
      "Epoch 2/50\n",
      "60/60 [==============================] - 5s 87ms/step - loss: 1.8568 - accuracy: 0.6387 - val_loss: 1.7719 - val_accuracy: 0.6363\n",
      "Epoch 3/50\n",
      "60/60 [==============================] - 5s 90ms/step - loss: 1.7524 - accuracy: 0.6506 - val_loss: 1.8064 - val_accuracy: 0.6607\n",
      "Epoch 4/50\n",
      "60/60 [==============================] - 5s 87ms/step - loss: 1.6782 - accuracy: 0.6701 - val_loss: 1.6394 - val_accuracy: 0.6953\n",
      "Epoch 5/50\n",
      "60/60 [==============================] - 5s 87ms/step - loss: 1.6032 - accuracy: 0.6906 - val_loss: 1.6914 - val_accuracy: 0.6808\n",
      "Epoch 6/50\n",
      "60/60 [==============================] - 5s 87ms/step - loss: 1.5766 - accuracy: 0.6891 - val_loss: 1.6132 - val_accuracy: 0.6978\n",
      "Epoch 7/50\n",
      "60/60 [==============================] - 5s 90ms/step - loss: 1.5293 - accuracy: 0.7001 - val_loss: 1.5563 - val_accuracy: 0.7036\n",
      "Epoch 8/50\n",
      "60/60 [==============================] - 5s 88ms/step - loss: 1.4686 - accuracy: 0.7060 - val_loss: 1.5782 - val_accuracy: 0.6879\n",
      "Epoch 9/50\n",
      "60/60 [==============================] - 5s 87ms/step - loss: 1.4369 - accuracy: 0.7102 - val_loss: 1.4573 - val_accuracy: 0.7167\n",
      "Epoch 10/50\n",
      "60/60 [==============================] - 5s 86ms/step - loss: 1.3298 - accuracy: 0.7268 - val_loss: 1.3852 - val_accuracy: 0.7292\n",
      "Epoch 11/50\n",
      "60/60 [==============================] - 5s 85ms/step - loss: 1.2520 - accuracy: 0.7387 - val_loss: 1.3813 - val_accuracy: 0.7261\n",
      "Epoch 12/50\n",
      "60/60 [==============================] - 5s 85ms/step - loss: 1.1892 - accuracy: 0.7460 - val_loss: 1.2731 - val_accuracy: 0.7437\n",
      "Epoch 13/50\n",
      "60/60 [==============================] - 5s 85ms/step - loss: 1.1228 - accuracy: 0.7548 - val_loss: 1.2060 - val_accuracy: 0.7572\n",
      "Epoch 14/50\n",
      "60/60 [==============================] - 5s 84ms/step - loss: 1.0405 - accuracy: 0.7674 - val_loss: 1.2432 - val_accuracy: 0.7469\n",
      "Epoch 15/50\n",
      "60/60 [==============================] - 5s 84ms/step - loss: 0.9967 - accuracy: 0.7772 - val_loss: 1.1558 - val_accuracy: 0.7652\n",
      "Epoch 16/50\n",
      "60/60 [==============================] - 5s 85ms/step - loss: 0.9291 - accuracy: 0.7893 - val_loss: 1.1219 - val_accuracy: 0.7736\n",
      "Epoch 17/50\n",
      "60/60 [==============================] - 5s 87ms/step - loss: 0.8808 - accuracy: 0.7980 - val_loss: 1.0911 - val_accuracy: 0.7791\n",
      "Epoch 18/50\n",
      "60/60 [==============================] - 5s 89ms/step - loss: 0.8055 - accuracy: 0.8139 - val_loss: 1.0462 - val_accuracy: 0.7896\n",
      "Epoch 19/50\n",
      "60/60 [==============================] - 5s 88ms/step - loss: 0.7529 - accuracy: 0.8236 - val_loss: 0.9890 - val_accuracy: 0.8020\n",
      "Epoch 20/50\n",
      "60/60 [==============================] - 5s 85ms/step - loss: 0.7216 - accuracy: 0.8287 - val_loss: 1.0526 - val_accuracy: 0.7824\n",
      "Epoch 21/50\n",
      "60/60 [==============================] - 5s 87ms/step - loss: 0.6754 - accuracy: 0.8401 - val_loss: 1.0073 - val_accuracy: 0.7955\n",
      "Epoch 22/50\n",
      "60/60 [==============================] - 5s 88ms/step - loss: 0.6449 - accuracy: 0.8471 - val_loss: 0.9752 - val_accuracy: 0.8012\n",
      "Epoch 23/50\n",
      "60/60 [==============================] - 5s 86ms/step - loss: 0.5890 - accuracy: 0.8599 - val_loss: 0.9376 - val_accuracy: 0.8109\n",
      "Epoch 24/50\n",
      "60/60 [==============================] - 5s 84ms/step - loss: 0.5580 - accuracy: 0.8666 - val_loss: 0.9340 - val_accuracy: 0.8137\n",
      "Epoch 25/50\n",
      "60/60 [==============================] - 5s 86ms/step - loss: 0.5239 - accuracy: 0.8736 - val_loss: 0.8857 - val_accuracy: 0.8254\n",
      "Epoch 26/50\n",
      "60/60 [==============================] - 5s 89ms/step - loss: 0.4890 - accuracy: 0.8821 - val_loss: 0.8802 - val_accuracy: 0.8288\n",
      "Epoch 27/50\n",
      "60/60 [==============================] - 5s 86ms/step - loss: 0.4473 - accuracy: 0.8923 - val_loss: 0.8983 - val_accuracy: 0.8186\n",
      "Epoch 28/50\n",
      "60/60 [==============================] - 5s 84ms/step - loss: 0.4276 - accuracy: 0.8979 - val_loss: 0.8703 - val_accuracy: 0.8277\n",
      "Epoch 29/50\n",
      "60/60 [==============================] - 5s 84ms/step - loss: 0.3986 - accuracy: 0.9052 - val_loss: 0.9084 - val_accuracy: 0.8222\n",
      "Epoch 30/50\n",
      "60/60 [==============================] - 5s 86ms/step - loss: 0.3676 - accuracy: 0.9140 - val_loss: 0.8931 - val_accuracy: 0.8239\n",
      "Epoch 31/50\n",
      "60/60 [==============================] - 5s 85ms/step - loss: 0.3454 - accuracy: 0.9191 - val_loss: 0.8311 - val_accuracy: 0.8383\n",
      "Epoch 32/50\n",
      "60/60 [==============================] - 5s 83ms/step - loss: 0.3173 - accuracy: 0.9276 - val_loss: 0.8747 - val_accuracy: 0.8299\n",
      "Epoch 33/50\n",
      "60/60 [==============================] - 5s 83ms/step - loss: 0.3012 - accuracy: 0.9322 - val_loss: 0.8954 - val_accuracy: 0.8292\n",
      "Epoch 34/50\n",
      "60/60 [==============================] - 5s 85ms/step - loss: 0.2718 - accuracy: 0.9386 - val_loss: 0.8980 - val_accuracy: 0.8232\n",
      "Epoch 35/50\n",
      "60/60 [==============================] - 5s 85ms/step - loss: 0.2592 - accuracy: 0.9431 - val_loss: 0.8496 - val_accuracy: 0.8432\n",
      "Epoch 36/50\n",
      "60/60 [==============================] - 5s 90ms/step - loss: 0.2277 - accuracy: 0.9504 - val_loss: 0.9044 - val_accuracy: 0.8331\n",
      "Epoch 37/50\n",
      "60/60 [==============================] - 5s 84ms/step - loss: 0.2207 - accuracy: 0.9545 - val_loss: 0.8385 - val_accuracy: 0.8451\n",
      "Epoch 38/50\n",
      "60/60 [==============================] - 5s 85ms/step - loss: 0.2005 - accuracy: 0.9605 - val_loss: 0.8640 - val_accuracy: 0.8373\n",
      "Epoch 39/50\n",
      "60/60 [==============================] - 5s 84ms/step - loss: 0.1811 - accuracy: 0.9653 - val_loss: 0.8426 - val_accuracy: 0.8427\n",
      "Epoch 40/50\n",
      "60/60 [==============================] - 5s 84ms/step - loss: 0.1639 - accuracy: 0.9692 - val_loss: 0.8520 - val_accuracy: 0.8445\n",
      "Epoch 41/50\n",
      "60/60 [==============================] - 5s 83ms/step - loss: 0.1493 - accuracy: 0.9704 - val_loss: 0.8835 - val_accuracy: 0.8360\n",
      "Epoch 42/50\n",
      "60/60 [==============================] - 5s 83ms/step - loss: 0.1419 - accuracy: 0.9735 - val_loss: 0.8722 - val_accuracy: 0.8414\n",
      "Epoch 43/50\n",
      "60/60 [==============================] - 5s 84ms/step - loss: 0.1276 - accuracy: 0.9777 - val_loss: 0.8465 - val_accuracy: 0.8482\n",
      "Epoch 44/50\n",
      "60/60 [==============================] - 6s 92ms/step - loss: 0.1133 - accuracy: 0.9807 - val_loss: 0.8494 - val_accuracy: 0.8423\n",
      "Epoch 45/50\n",
      "60/60 [==============================] - 5s 86ms/step - loss: 0.1074 - accuracy: 0.9818 - val_loss: 0.8949 - val_accuracy: 0.8453\n",
      "Epoch 46/50\n",
      "60/60 [==============================] - 5s 86ms/step - loss: 0.1031 - accuracy: 0.9828 - val_loss: 0.8918 - val_accuracy: 0.8372\n",
      "Epoch 47/50\n",
      "60/60 [==============================] - 6s 93ms/step - loss: 0.0923 - accuracy: 0.9842 - val_loss: 0.8681 - val_accuracy: 0.8383\n",
      "Epoch 48/50\n",
      "60/60 [==============================] - 5s 88ms/step - loss: 0.0862 - accuracy: 0.9854 - val_loss: 0.8683 - val_accuracy: 0.8444\n",
      "Epoch 49/50\n",
      "60/60 [==============================] - 5s 85ms/step - loss: 0.0778 - accuracy: 0.9879 - val_loss: 0.9482 - val_accuracy: 0.8264\n",
      "Epoch 50/50\n",
      "60/60 [==============================] - 5s 84ms/step - loss: 0.0868 - accuracy: 0.9841 - val_loss: 0.9298 - val_accuracy: 0.8411\n"
     ]
    },
    {
     "name": "stderr",
     "output_type": "stream",
     "text": [
      "WARNING:absl:Found untraced functions such as lstm_cell_layer_call_fn, lstm_cell_layer_call_and_return_conditional_losses, lstm_cell_1_layer_call_fn, lstm_cell_1_layer_call_and_return_conditional_losses, lstm_cell_layer_call_fn while saving (showing 5 of 10). These functions will not be directly callable after loading.\n",
      "WARNING:absl:Found untraced functions such as lstm_cell_layer_call_fn, lstm_cell_layer_call_and_return_conditional_losses, lstm_cell_1_layer_call_fn, lstm_cell_1_layer_call_and_return_conditional_losses, lstm_cell_layer_call_fn while saving (showing 5 of 10). These functions will not be directly callable after loading.\n",
      "INFO:tensorflow:Assets written to: ja_model_50/assets\n"
     ]
    },
    {
     "data": {
      "image/png": "[encoded data removed]",
      "text/plain": [
       "<Figure size 432x288 with 1 Axes>"
      ]
     },
     "metadata": {
      "needs_background": "light"
     },
     "output_type": "display_data"
    },
    {
     "data": {
      "image/png": "[encoded data removed]",
      "text/plain": [
       "<Figure size 432x288 with 1 Axes>"
      ]
     },
     "metadata": {
      "needs_background": "light"
     },
     "output_type": "display_data"
    },
    {
     "name": "stdout",
     "output_type": "stream",
     "text": [
      "Saving cleansed names as: ja_0.1_edit_distance_language_cleansed.txt 6602 number of rows. \n"
     ]
    },
    {
     "ename": "AttributeError",
     "evalue": "'ModelTrainer' object has no attribute 'ModelTrainer'",
     "output_type": "error",
     "traceback": [
      "\u001b[0;31m---------------------------------------------------------------------------\u001b[0m",
      "\u001b[0;31mAttributeError\u001b[0m                            Traceback (most recent call last)",
      "\u001b[0;32m<ipython-input-3-5b18f0ff2ef7>\u001b[0m in \u001b[0;36m<module>\u001b[0;34m\u001b[0m\n\u001b[1;32m     10\u001b[0m     \u001b[0mmy_cleanser\u001b[0m\u001b[0;34m.\u001b[0m\u001b[0msaveDataAsText\u001b[0m\u001b[0;34m(\u001b[0m\u001b[0;34m)\u001b[0m\u001b[0;34m\u001b[0m\u001b[0;34m\u001b[0m\u001b[0m\n\u001b[1;32m     11\u001b[0m \u001b[0;34m\u001b[0m\u001b[0m\n\u001b[0;32m---> 12\u001b[0;31m     \u001b[0mmodel_trainer\u001b[0m \u001b[0;34m=\u001b[0m \u001b[0mmodel_trainer\u001b[0m\u001b[0;34m.\u001b[0m\u001b[0mModelTrainer\u001b[0m\u001b[0;34m(\u001b[0m\u001b[0mlanguage\u001b[0m\u001b[0;34m=\u001b[0m\u001b[0mlanguage\u001b[0m\u001b[0;34m,\u001b[0m \u001b[0mdata_path\u001b[0m \u001b[0;34m=\u001b[0m \u001b[0;34m'./ja_'\u001b[0m\u001b[0;34m+\u001b[0m\u001b[0mstr\u001b[0m\u001b[0;34m(\u001b[0m\u001b[0mi\u001b[0m\u001b[0;34m)\u001b[0m\u001b[0;34m+\u001b[0m\u001b[0;34m'_edit_distance_language_cleansed.txt'\u001b[0m\u001b[0;34m,\u001b[0m \u001b[0mepochs\u001b[0m\u001b[0;34m=\u001b[0m\u001b[0;36m50\u001b[0m\u001b[0;34m)\u001b[0m\u001b[0;34m\u001b[0m\u001b[0;34m\u001b[0m\u001b[0m\n\u001b[0m\u001b[1;32m     13\u001b[0m \u001b[0;34m\u001b[0m\u001b[0m\n\u001b[1;32m     14\u001b[0m     \u001b[0mmodel_trainer\u001b[0m\u001b[0;34m.\u001b[0m\u001b[0mrunWholeTrainProcess\u001b[0m\u001b[0;34m(\u001b[0m\u001b[0;34m)\u001b[0m\u001b[0;34m\u001b[0m\u001b[0;34m\u001b[0m\u001b[0m\n",
      "\u001b[0;31mAttributeError\u001b[0m: 'ModelTrainer' object has no attribute 'ModelTrainer'"
     ]
    },
    {
     "data": {
      "text/plain": [
       "<Figure size 432x288 with 0 Axes>"
      ]
     },
     "metadata": {},
     "output_type": "display_data"
    }
   ],
   "source": [
    "import name_transliteration.cleansing as cleanse\n",
    "import name_transliteration.model_trainer as model_trainer\n",
    "\n",
    "edit_thresholds = [0, 0.1, 0.2, 0.3, 0.4, 0.5, 0.6, 0.7, 0.8, 0.9, 1]\n",
    "\n",
    "for i in edit_thresholds:\n",
    "    my_cleanser = cleanse.Cleanse(my_filter.getDataFrame(), edit_threshold=i)\n",
    "    my_cleanser.cleanseData()\n",
    "\n",
    "    my_cleanser.saveDataAsText()\n",
    "\n",
    "    model_trainer = model_trainer.ModelTrainer(language=language, data_path = './ja_'+str(int(i*10))+'_edit_distance_language_cleansed.txt', epochs=50)\n",
    "\n",
    "    model_trainer.runWholeTrainProcess()\n",
    "\n",
    "    model_trainer.plotLoss(file_name = str(i)+'_loss.png')\n",
    "    model_trainer.plotAccuracy(file_name = str(i)+'_accuracy.png')"
   ]
  },
  {
   "cell_type": "code",
   "execution_count": null,
   "id": "aca3a956",
   "metadata": {},
   "outputs": [],
   "source": []
  }
 ],
 "metadata": {
  "kernelspec": {
   "display_name": "Python 3",
   "language": "python",
   "name": "python3"
  },
  "language_info": {
   "codemirror_mode": {
    "name": "ipython",
    "version": 3
   },
   "file_extension": ".py",
   "mimetype": "text/x-python",
   "name": "python",
   "nbconvert_exporter": "python",
   "pygments_lexer": "ipython3",
   "version": "3.8.2"
  }
 },
 "nbformat": 4,
 "nbformat_minor": 5
}
