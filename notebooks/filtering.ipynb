{
 "cells": [
  {
   "cell_type": "markdown",
   "metadata": {},
   "source": [
    "# Filtering\n",
    "\n",
    "This note book will be dedicated to filtering the Twitter data.\n",
    "\n",
    "This is part of the filtering stage described in the Design Document.\n",
    "\n",
    "## input:\n",
    "    - raw JSON twitter data\n",
    "## output:\n",
    "    - a csv file with user name, screen name\n",
    "    \n",
    "    - (later on maybe include other meta data like verified or not and creation date)\n",
    "    \n",
    "    - names that are obviously wrong, such as names with just emojis will be filtered out\n"
   ]
  },
  {
   "cell_type": "code",
   "execution_count": 1,
   "metadata": {},
   "outputs": [],
   "source": [
    "# the language we want to capture\n",
    "language = 'es'"
   ]
  },
  {
   "cell_type": "code",
   "execution_count": 2,
   "metadata": {},
   "outputs": [],
   "source": [
    "# the list that is going to contain all the dataframe information\n",
    "df_list = []\n",
    "\n",
    "# the path to the gzip twitter data\n",
    "data_path = \"../data/\""
   ]
  },
  {
   "cell_type": "code",
   "execution_count": 3,
   "metadata": {},
   "outputs": [
    {
     "name": "stdout",
     "output_type": "stream",
     "text": [
      "../data/stream-2021-03-11T14_18_25.811596.gz\n",
      "../data/stream-2021-03-11T13_43_30.827953.gz\n",
      "../data/stream-2021-03-11T13_08_08.830007.gz\n",
      "CPU times: user 47.5 s, sys: 545 ms, total: 48 s\n",
      "Wall time: 48.5 s\n"
     ]
    }
   ],
   "source": [
    "%%time\n",
    "import gzip\n",
    "import json\n",
    "import os\n",
    "\n",
    "# finds all files in the data path and combines them together\n",
    "for file in os.listdir(data_path):\n",
    "    if file.endswith(\".gz\"):\n",
    "        print(data_path+file)\n",
    "        with gzip.open(data_path+file) as f:\n",
    "            for line in f:\n",
    "                json_line = json.loads(line)\n",
    "                filtered_dict = {\n",
    "                    \"screen_name\": json_line[\"user\"][\"screen_name\"],\n",
    "                    \"username\": json_line[\"user\"][\"name\"],\n",
    "                    \"language\": json_line[\"lang\"]\n",
    "                }\n",
    "                df_list.append(filtered_dict)"
   ]
  },
  {
   "cell_type": "code",
   "execution_count": 4,
   "metadata": {},
   "outputs": [],
   "source": [
    "# create the twitter data data frame\n",
    "import pandas as pd\n",
    "twitter_data = pd.DataFrame(df_list)"
   ]
  },
  {
   "cell_type": "code",
   "execution_count": 5,
   "metadata": {},
   "outputs": [],
   "source": [
    "language_dataframe = twitter_data[twitter_data[\"language\"] == language]"
   ]
  },
  {
   "cell_type": "code",
   "execution_count": 6,
   "metadata": {},
   "outputs": [
    {
     "data": {
      "text/html": [
       "<div>\n",
       "<style scoped>\n",
       "    .dataframe tbody tr th:only-of-type {\n",
       "        vertical-align: middle;\n",
       "    }\n",
       "\n",
       "    .dataframe tbody tr th {\n",
       "        vertical-align: top;\n",
       "    }\n",
       "\n",
       "    .dataframe thead th {\n",
       "        text-align: right;\n",
       "    }\n",
       "</style>\n",
       "<table border=\"1\" class=\"dataframe\">\n",
       "  <thead>\n",
       "    <tr style=\"text-align: right;\">\n",
       "      <th></th>\n",
       "      <th>language</th>\n",
       "      <th>screen_name</th>\n",
       "      <th>username</th>\n",
       "    </tr>\n",
       "  </thead>\n",
       "  <tbody>\n",
       "    <tr>\n",
       "      <th>1</th>\n",
       "      <td>es</td>\n",
       "      <td>iREKINISTA</td>\n",
       "      <td>ᷥᤣ🍒ᬼૢ ཻུ۪۪˚⁺TAREASTAREASTAREAS♿- REKIBESTB0Y .</td>\n",
       "    </tr>\n",
       "    <tr>\n",
       "      <th>14</th>\n",
       "      <td>es</td>\n",
       "      <td>moonslightz</td>\n",
       "      <td>yas | cr: o triste fim de policarpo quaresma</td>\n",
       "    </tr>\n",
       "    <tr>\n",
       "      <th>29</th>\n",
       "      <td>es</td>\n",
       "      <td>nataliaaaaaaamm</td>\n",
       "      <td>Natssss</td>\n",
       "    </tr>\n",
       "    <tr>\n",
       "      <th>31</th>\n",
       "      <td>es</td>\n",
       "      <td>vxntegogh</td>\n",
       "      <td>❥•MAFERᴮᴱ🐯🎨</td>\n",
       "    </tr>\n",
       "    <tr>\n",
       "      <th>47</th>\n",
       "      <td>es</td>\n",
       "      <td>indanitem_</td>\n",
       "      <td>INDANI</td>\n",
       "    </tr>\n",
       "    <tr>\n",
       "      <th>54</th>\n",
       "      <td>es</td>\n",
       "      <td>AlexaNioDelSol1</td>\n",
       "      <td>Vane Alexa 👑💔🚪🏃🏃mi papá no me quiere 😭</td>\n",
       "    </tr>\n",
       "    <tr>\n",
       "      <th>86</th>\n",
       "      <td>es</td>\n",
       "      <td>mauriciopera96</td>\n",
       "      <td>Mauricio Peralta</td>\n",
       "    </tr>\n",
       "    <tr>\n",
       "      <th>92</th>\n",
       "      <td>es</td>\n",
       "      <td>giawtteoyl</td>\n",
       "      <td>︎ ︎︎tini</td>\n",
       "    </tr>\n",
       "    <tr>\n",
       "      <th>94</th>\n",
       "      <td>es</td>\n",
       "      <td>Virgini05227696</td>\n",
       "      <td>Queen</td>\n",
       "    </tr>\n",
       "    <tr>\n",
       "      <th>120</th>\n",
       "      <td>es</td>\n",
       "      <td>cattrina23</td>\n",
       "      <td>catrinaa🥀</td>\n",
       "    </tr>\n",
       "  </tbody>\n",
       "</table>\n",
       "</div>"
      ],
      "text/plain": [
       "    language      screen_name                                         username\n",
       "1         es       iREKINISTA  ᷥᤣ🍒ᬼૢ ཻུ۪۪˚⁺TAREASTAREASTAREAS♿- REKIBESTB0Y .\n",
       "14        es      moonslightz     yas | cr: o triste fim de policarpo quaresma\n",
       "29        es  nataliaaaaaaamm                                          Natssss\n",
       "31        es        vxntegogh                                    ❥•MAFERᴮᴱ🐯🎨\n",
       "47        es       indanitem_                                           INDANI\n",
       "54        es  AlexaNioDelSol1     Vane Alexa 👑💔🚪🏃🏃mi papá no me quiere 😭\n",
       "86        es   mauriciopera96                                 Mauricio Peralta\n",
       "92        es       giawtteoyl                                         ︎ ︎︎tini\n",
       "94        es  Virgini05227696                                            Queen\n",
       "120       es       cattrina23                                       catrinaa🥀"
      ]
     },
     "execution_count": 6,
     "metadata": {},
     "output_type": "execute_result"
    }
   ],
   "source": [
    "language_dataframe.head(10)"
   ]
  },
  {
   "cell_type": "code",
   "execution_count": 7,
   "metadata": {},
   "outputs": [
    {
     "name": "stderr",
     "output_type": "stream",
     "text": [
      "/Library/Frameworks/Python.framework/Versions/2.7/lib/python2.7/site-packages/ipykernel_launcher.py:13: SettingWithCopyWarning: \n",
      "A value is trying to be set on a copy of a slice from a DataFrame.\n",
      "Try using .loc[row_indexer,col_indexer] = value instead\n",
      "\n",
      "See the caveats in the documentation: http://pandas.pydata.org/pandas-docs/stable/indexing.html#indexing-view-versus-copy\n",
      "  del sys.path[0]\n"
     ]
    }
   ],
   "source": [
    "# remove emjojis\n",
    "import re\n",
    "def deEmojify(text):\n",
    "    regrex_pattern = re.compile(\n",
    "    u\"(\\ud83d[\\ude00-\\ude4f])|\"  # emoticons\n",
    "    u\"(\\ud83c[\\udf00-\\uffff])|\"  # symbols & pictographs (1 of 2)\n",
    "    u\"(\\ud83d[\\u0000-\\uddff])|\"  # symbols & pictographs (2 of 2)\n",
    "    u\"(\\ud83d[\\ude80-\\udeff])|\"  # transport & map symbols\n",
    "    u\"(\\ud83c[\\udde0-\\uddff])\"  # flags (iOS)\n",
    "    \"+\", flags=re.UNICODE)\n",
    "    return regrex_pattern.sub(r'',text)\n",
    "\n",
    "language_dataframe[\"username\"] = language_dataframe[\"username\"].apply(deEmojify)"
   ]
  },
  {
   "cell_type": "code",
   "execution_count": 8,
   "metadata": {},
   "outputs": [],
   "source": [
    "# remove all rows where the username is empty, this removes names which are just emojis\n",
    "language_dataframe = language_dataframe[language_dataframe.username != '']"
   ]
  },
  {
   "cell_type": "code",
   "execution_count": 9,
   "metadata": {},
   "outputs": [
    {
     "data": {
      "text/plain": [
       "1    ᷥᤣᬼૢ ཻུ۪۪˚⁺TAREASTAREASTAREAS♿- REKIBESTB0Y .\n",
       "Name: username, dtype: object"
      ]
     },
     "execution_count": 9,
     "metadata": {},
     "output_type": "execute_result"
    }
   ],
   "source": [
    "language_dataframe[\"username\"].head(1)"
   ]
  },
  {
   "cell_type": "code",
   "execution_count": 10,
   "metadata": {},
   "outputs": [],
   "source": [
    "language_dataframe.dropna(inplace=True)\n",
    "language_dataframe.drop_duplicates()\n",
    "language_dataframe.reset_index(drop=True, inplace=True)"
   ]
  },
  {
   "cell_type": "code",
   "execution_count": 11,
   "metadata": {},
   "outputs": [
    {
     "name": "stdout",
     "output_type": "stream",
     "text": [
      "filtered folder already created\n"
     ]
    }
   ],
   "source": [
    "# saves to disk\n",
    "try:\n",
    "    os.mkdir('filtered') \n",
    "except OSError as error:\n",
    "    print('filtered folder already created')\n",
    "language_dataframe.to_json('filtered/'+language+'_language_filtered.json',orient=\"records\",lines=True)"
   ]
  },
  {
   "cell_type": "code",
   "execution_count": null,
   "metadata": {},
   "outputs": [],
   "source": []
  },
  {
   "cell_type": "code",
   "execution_count": null,
   "metadata": {},
   "outputs": [],
   "source": []
  }
 ],
 "metadata": {
  "kernelspec": {
   "display_name": "Python 3",
   "language": "python",
   "name": "python3"
  },
  "language_info": {
   "codemirror_mode": {
    "name": "ipython",
    "version": 2
   },
   "file_extension": ".py",
   "mimetype": "text/x-python",
   "name": "python",
   "nbconvert_exporter": "python",
   "pygments_lexer": "ipython2",
   "version": "2.7.17"
  }
 },
 "nbformat": 4,
 "nbformat_minor": 2
}
