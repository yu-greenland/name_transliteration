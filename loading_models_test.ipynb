{
 "cells": [
  {
   "cell_type": "markdown",
   "id": "245ac863",
   "metadata": {},
   "source": [
    "This notebook shows how to load up a pre-trained model and use it to make predictions\n",
    "The weights from the weights are saved but not the extra information such as the token vocabulary of the target language. This is why processing of the data is still neccesary as the decoder that predicts stuff is not saved in model."
   ]
  },
  {
   "cell_type": "code",
   "execution_count": 1,
   "id": "ff4bdc9f",
   "metadata": {},
   "outputs": [],
   "source": [
    "import name_transliteration.model_trainer as model_trainer"
   ]
  },
  {
   "cell_type": "code",
   "execution_count": 2,
   "id": "bc2a72b5",
   "metadata": {},
   "outputs": [],
   "source": [
    "model_trainer = model_trainer.ModelTrainer(data_path = './'+'ja'+'_language_cleansed.txt')"
   ]
  },
  {
   "cell_type": "code",
   "execution_count": 3,
   "id": "46ef65c1",
   "metadata": {},
   "outputs": [
    {
     "name": "stdout",
     "output_type": "stream",
     "text": [
      "Number of samples: 24290\n",
      "Number of unique input tokens: 27\n",
      "Number of unique output tokens: 1908\n",
      "Max sequence length for inputs: 17\n",
      "Max sequence length for outputs: 13\n"
     ]
    }
   ],
   "source": [
    "model_trainer.processData()"
   ]
  },
  {
   "cell_type": "code",
   "execution_count": 4,
   "id": "fd7d9aec",
   "metadata": {},
   "outputs": [],
   "source": [
    "model_trainer.createDecoderEncoder('model_50')"
   ]
  },
  {
   "cell_type": "code",
   "execution_count": 7,
   "id": "97e99a96",
   "metadata": {},
   "outputs": [
    {
     "data": {
      "text/plain": [
       "'ジョウハン\\n'"
      ]
     },
     "execution_count": 7,
     "metadata": {},
     "output_type": "execute_result"
    }
   ],
   "source": [
    "model_trainer.predict(\"johnathon\")"
   ]
  },
  {
   "cell_type": "code",
   "execution_count": null,
   "id": "712ba527",
   "metadata": {},
   "outputs": [],
   "source": []
  },
  {
   "cell_type": "code",
   "execution_count": null,
   "id": "15270ea3",
   "metadata": {},
   "outputs": [],
   "source": []
  }
 ],
 "metadata": {
  "kernelspec": {
   "display_name": "Python 3",
   "language": "python",
   "name": "python3"
  },
  "language_info": {
   "codemirror_mode": {
    "name": "ipython",
    "version": 3
   },
   "file_extension": ".py",
   "mimetype": "text/x-python",
   "name": "python",
   "nbconvert_exporter": "python",
   "pygments_lexer": "ipython3",
   "version": "3.8.2"
  }
 },
 "nbformat": 4,
 "nbformat_minor": 5
}
