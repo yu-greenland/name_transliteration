{
 "cells": [
  {
   "cell_type": "code",
   "execution_count": 1,
   "id": "8ce9b6d7",
   "metadata": {},
   "outputs": [],
   "source": [
    "language = 'ja'\n",
    "import name_transliteration.filtering as filter\n",
    "import name_transliteration.cleansing as cleanse\n",
    "import name_transliteration.model_trainer_and_tester as model_trainer_and_tester"
   ]
  },
  {
   "cell_type": "code",
   "execution_count": 2,
   "id": "3de56144",
   "metadata": {},
   "outputs": [
    {
     "name": "stdout",
     "output_type": "stream",
     "text": [
      "./data/stream-2021-03-07T03:05:07.831679.gz\n",
      "./data/stream-2021-01-13T01:21:29.804195.gz\n",
      "./data/stream-2021-01-13T04:07:46.253913.gz\n",
      "./data/stream-2021-01-12T23:08:30.828340.gz\n",
      "./data/stream-2021-01-13T03:38:20.383129.gz\n",
      "./data/stream-2021-03-07T06:30:03.830030.gz\n",
      "./data/stream-2021-01-13T04:37:35.200990.gz\n",
      "./data/stream-2021-03-07T03:34:53.811604.gz\n",
      "./data/stream-2021-04-17T07:23:41.809159.gz\n",
      "./data/stream-2021-01-12T22:39:33.810384.gz\n",
      "./data/stream-2021-03-06T03:25:42.946878.gz\n",
      "./data/stream-2021-01-12T22:09:26.798946.gz\n",
      "./data/stream-2021-03-07T04:06:04.938654.gz\n",
      "./data/stream-2021-03-07T01:39:45.126113.gz\n",
      "./data/stream-2021-03-07T08:30:55.833881.gz\n",
      "./data/stream-2021-03-07T02:36:22.842559.gz\n",
      "./data/stream-2021-03-06T01:33:50.975776.gz\n",
      "./data/stream-2021-03-06T01:59:57.825571.gz\n",
      "./data/stream-2021-03-07T07:50:03.791977.gz\n",
      "./data/stream-2021-04-17T04:49:34.818794.gz\n",
      "./data/stream-2021-03-06T00:38:21.058969.gz\n",
      "./data/stream-2021-03-07T01:29:37.938029.gz\n",
      "./data/stream-2021-01-13T00:02:22.807571.gz\n",
      "./data/stream-2021-03-06T23:16:19.931951.gz\n",
      "./data/stream-2021-01-13T02:14:13.914215.gz\n",
      "./data/stream-2021-03-07T05:50:51.797120.gz\n",
      "./data/stream-2021-03-06T02:27:32.944437.gz\n",
      "./data/stream-2021-04-17T06:45:57.765273.gz\n",
      "./data/stream-2021-03-06T22:46:55.051822.gz\n",
      "./data/stream-2021-04-17T05:28:35.936895.gz\n",
      "./data/stream-2021-03-06T03:56:50.840797.gz\n",
      "./data/stream-2021-03-06T23:44:28.885165.gz\n",
      "./data/stream-2021-03-07T00:38:41.940824.gz\n",
      "./data/stream-2021-04-17T03:33:36.470062.gz\n",
      "./data/stream-2021-03-07T01:54:03.127902.gz\n",
      "./data/stream-2021-03-07T01:04:07.119423.gz\n",
      "./data/stream-2021-01-13T03:09:29.015229.gz\n",
      "./data/stream-2021-03-07T06:39:59.560376.gz\n",
      "./data/stream-2021-04-17T06:07:42.842366.gz\n",
      "./data/stream-2021-01-13T00:55:27.831486.gz\n",
      "./data/stream-2021-03-06T04:30:10.792693.gz\n",
      "./data/stream-2021-01-13T05:09:14.938774.gz\n",
      "./data/stream-2021-03-06T02:55:50.791026.gz\n",
      "./data/stream-2021-04-17T03:36:31.821630.gz\n",
      "./data/stream-2021-03-07T04:38:41.798997.gz\n",
      "./data/stream-2021-01-12T23:35:55.813786.gz\n",
      "./data/stream-2021-01-13T00:28:46.798948.gz\n",
      "./data/stream-2021-03-07T00:12:11.870181.gz\n",
      "./data/stream-2021-04-17T04:12:10.798493.gz\n",
      "./data/stream-2021-03-07T05:13:24.789931.gz\n",
      "./data/stream-2021-01-13T01:47:06.536491.gz\n",
      "./data/stream-2021-01-13T02:42:07.071964.gz\n"
     ]
    }
   ],
   "source": [
    "# filter testing and training data\n",
    "\n",
    "my_filter = filter.Filter(language)\n",
    "my_filter.filterData(\"./data/\")"
   ]
  },
  {
   "cell_type": "code",
   "execution_count": 3,
   "id": "f9f56249",
   "metadata": {},
   "outputs": [],
   "source": [
    "# split filtered data into two sets\n",
    "filtered_set_A = my_filter.getDataFrame().iloc[:int(len(my_filter.getDataFrame())/2)]\n",
    "filtered_set_B = my_filter.getDataFrame().iloc[int(len(my_filter.getDataFrame())/2):]"
   ]
  },
  {
   "cell_type": "code",
   "execution_count": 4,
   "id": "99da999d",
   "metadata": {},
   "outputs": [
    {
     "data": {
      "text/html": [
       "<div>\n",
       "<style scoped>\n",
       "    .dataframe tbody tr th:only-of-type {\n",
       "        vertical-align: middle;\n",
       "    }\n",
       "\n",
       "    .dataframe tbody tr th {\n",
       "        vertical-align: top;\n",
       "    }\n",
       "\n",
       "    .dataframe thead th {\n",
       "        text-align: right;\n",
       "    }\n",
       "</style>\n",
       "<table border=\"1\" class=\"dataframe\">\n",
       "  <thead>\n",
       "    <tr style=\"text-align: right;\">\n",
       "      <th></th>\n",
       "      <th>username</th>\n",
       "      <th>screen_name</th>\n",
       "      <th>language</th>\n",
       "    </tr>\n",
       "  </thead>\n",
       "  <tbody>\n",
       "    <tr>\n",
       "      <th>265297</th>\n",
       "      <td>telu_game</td>\n",
       "      <td>てる</td>\n",
       "      <td>ja</td>\n",
       "    </tr>\n",
       "    <tr>\n",
       "      <th>265298</th>\n",
       "      <td>kyoya000802</td>\n",
       "      <td>おっぱい好きょん</td>\n",
       "      <td>ja</td>\n",
       "    </tr>\n",
       "    <tr>\n",
       "      <th>265299</th>\n",
       "      <td>wing_10</td>\n",
       "      <td>うぃんぐ音楽好き</td>\n",
       "      <td>ja</td>\n",
       "    </tr>\n",
       "    <tr>\n",
       "      <th>265300</th>\n",
       "      <td>Pmin163T</td>\n",
       "      <td>キラ</td>\n",
       "      <td>ja</td>\n",
       "    </tr>\n",
       "    <tr>\n",
       "      <th>265301</th>\n",
       "      <td>PonPonz_uuuuu</td>\n",
       "      <td>ぽんず</td>\n",
       "      <td>ja</td>\n",
       "    </tr>\n",
       "    <tr>\n",
       "      <th>...</th>\n",
       "      <td>...</td>\n",
       "      <td>...</td>\n",
       "      <td>...</td>\n",
       "    </tr>\n",
       "    <tr>\n",
       "      <th>530590</th>\n",
       "      <td>Ohana0876</td>\n",
       "      <td>まあ</td>\n",
       "      <td>ja</td>\n",
       "    </tr>\n",
       "    <tr>\n",
       "      <th>530591</th>\n",
       "      <td>ichinosekopipe</td>\n",
       "      <td>まおいつ組コピペ</td>\n",
       "      <td>ja</td>\n",
       "    </tr>\n",
       "    <tr>\n",
       "      <th>530592</th>\n",
       "      <td>mjtrognmgm</td>\n",
       "      <td>あ</td>\n",
       "      <td>ja</td>\n",
       "    </tr>\n",
       "    <tr>\n",
       "      <th>530593</th>\n",
       "      <td>cat_It_s_noisy</td>\n",
       "      <td>霹</td>\n",
       "      <td>ja</td>\n",
       "    </tr>\n",
       "    <tr>\n",
       "      <th>530594</th>\n",
       "      <td>3nO1l6S79lyBm5y</td>\n",
       "      <td>尻まるだし子</td>\n",
       "      <td>ja</td>\n",
       "    </tr>\n",
       "  </tbody>\n",
       "</table>\n",
       "<p>265298 rows × 3 columns</p>\n",
       "</div>"
      ],
      "text/plain": [
       "               username screen_name language\n",
       "265297        telu_game          てる       ja\n",
       "265298      kyoya000802    おっぱい好きょん       ja\n",
       "265299          wing_10    うぃんぐ音楽好き       ja\n",
       "265300         Pmin163T          キラ       ja\n",
       "265301    PonPonz_uuuuu         ぽんず       ja\n",
       "...                 ...         ...      ...\n",
       "530590        Ohana0876          まあ       ja\n",
       "530591   ichinosekopipe    まおいつ組コピペ       ja\n",
       "530592       mjtrognmgm           あ       ja\n",
       "530593   cat_It_s_noisy           霹       ja\n",
       "530594  3nO1l6S79lyBm5y      尻まるだし子       ja\n",
       "\n",
       "[265298 rows x 3 columns]"
      ]
     },
     "execution_count": 4,
     "metadata": {},
     "output_type": "execute_result"
    }
   ],
   "source": [
    "filtered_set_B"
   ]
  },
  {
   "cell_type": "code",
   "execution_count": 5,
   "id": "d3d032a5",
   "metadata": {},
   "outputs": [],
   "source": [
    "# instantiate the cleanser\n",
    "my_cleanser = cleanse.Cleanser()\n",
    "\n",
    "# the split data is uncleansed btw\n",
    "my_cleanser.splitTrainTest(filtered_set_A)\n",
    "\n",
    "\n",
    "# this does the cleansing of the test datasets\n",
    "my_cleanser.createTestDataSets()\n",
    "# this does the cleansing of the training dataset\n",
    "my_cleanser.createTrainDataSet(edit_threshold = 0.3)"
   ]
  },
  {
   "cell_type": "code",
   "execution_count": 6,
   "id": "1583650c",
   "metadata": {},
   "outputs": [
    {
     "name": "stdout",
     "output_type": "stream",
     "text": [
      "Saved cleansed names as: \n",
      "train_30_edit_distance_language_cleansed.txt 29606 number of rows. \n",
      "test1_cleansed.txt 174 number of rows. \n",
      "test2_cleansed.txt 234 number of rows. \n",
      "test3_cleansed.txt 481 number of rows. \n",
      "\n"
     ]
    }
   ],
   "source": [
    "my_cleanser.saveTestAndTrain()"
   ]
  },
  {
   "cell_type": "code",
   "execution_count": 7,
   "id": "77b49f8e",
   "metadata": {
    "scrolled": true
   },
   "outputs": [
    {
     "name": "stdout",
     "output_type": "stream",
     "text": [
      "Number of unique input tokens: 27\n",
      "Number of unique output tokens: 2239\n",
      "Max sequence length for inputs: 22\n",
      "Max sequence length for outputs: 15\n",
      "Epoch 1/20\n",
      "741/741 [==============================] - 108s 142ms/step - loss: 1.8409 - accuracy: 0.7001 - val_loss: 1.3920 - val_accuracy: 0.7473\n",
      "Epoch 2/20\n",
      "741/741 [==============================] - 107s 144ms/step - loss: 1.3276 - accuracy: 0.7551 - val_loss: 1.2446 - val_accuracy: 0.7625\n",
      "Epoch 3/20\n",
      "741/741 [==============================] - 101s 136ms/step - loss: 1.1792 - accuracy: 0.7743 - val_loss: 1.1134 - val_accuracy: 0.7849\n",
      "Epoch 4/20\n",
      "741/741 [==============================] - 100s 135ms/step - loss: 1.0466 - accuracy: 0.7976 - val_loss: 1.0091 - val_accuracy: 0.8061\n",
      "Epoch 5/20\n",
      "741/741 [==============================] - 100s 136ms/step - loss: 0.9561 - accuracy: 0.8142 - val_loss: 0.9373 - val_accuracy: 0.8198\n",
      "Epoch 6/20\n",
      "741/741 [==============================] - 101s 136ms/step - loss: 0.8808 - accuracy: 0.8298 - val_loss: 0.8992 - val_accuracy: 0.8255\n",
      "Epoch 7/20\n",
      "741/741 [==============================] - 100s 135ms/step - loss: 0.8042 - accuracy: 0.8443 - val_loss: 0.8564 - val_accuracy: 0.8356\n",
      "Epoch 8/20\n",
      "741/741 [==============================] - 100s 135ms/step - loss: 0.7440 - accuracy: 0.8563 - val_loss: 0.8164 - val_accuracy: 0.8463\n",
      "Epoch 9/20\n",
      "741/741 [==============================] - 100s 135ms/step - loss: 0.7082 - accuracy: 0.8629 - val_loss: 0.7842 - val_accuracy: 0.8520\n",
      "Epoch 10/20\n",
      "741/741 [==============================] - 99s 134ms/step - loss: 0.6653 - accuracy: 0.8724 - val_loss: 0.7716 - val_accuracy: 0.8546\n",
      "Epoch 11/20\n",
      "741/741 [==============================] - 100s 134ms/step - loss: 0.6305 - accuracy: 0.8791 - val_loss: 0.7396 - val_accuracy: 0.8631\n",
      "Epoch 12/20\n",
      "741/741 [==============================] - 100s 135ms/step - loss: 0.5956 - accuracy: 0.8866 - val_loss: 0.7549 - val_accuracy: 0.8594\n",
      "Epoch 13/20\n",
      "741/741 [==============================] - 100s 135ms/step - loss: 0.5694 - accuracy: 0.8921 - val_loss: 0.7426 - val_accuracy: 0.8637\n",
      "Epoch 14/20\n",
      "741/741 [==============================] - 100s 134ms/step - loss: 0.5464 - accuracy: 0.8982 - val_loss: 0.7359 - val_accuracy: 0.8646\n",
      "Epoch 15/20\n",
      "741/741 [==============================] - 100s 135ms/step - loss: 0.5213 - accuracy: 0.9032 - val_loss: 0.7434 - val_accuracy: 0.8658\n",
      "Epoch 16/20\n",
      "741/741 [==============================] - 100s 134ms/step - loss: 0.4980 - accuracy: 0.9084 - val_loss: 0.7435 - val_accuracy: 0.8651\n",
      "Epoch 17/20\n",
      "741/741 [==============================] - 100s 134ms/step - loss: 0.4875 - accuracy: 0.9116 - val_loss: 0.7537 - val_accuracy: 0.8644\n",
      "Epoch 18/20\n",
      "741/741 [==============================] - 100s 135ms/step - loss: 0.4636 - accuracy: 0.9172 - val_loss: 0.7480 - val_accuracy: 0.8657\n",
      "Epoch 19/20\n",
      "741/741 [==============================] - 100s 134ms/step - loss: 0.4478 - accuracy: 0.9210 - val_loss: 0.7554 - val_accuracy: 0.8669\n",
      "Epoch 20/20\n",
      "741/741 [==============================] - 100s 135ms/step - loss: 0.4308 - accuracy: 0.9256 - val_loss: 0.7628 - val_accuracy: 0.8659\n"
     ]
    },
    {
     "name": "stderr",
     "output_type": "stream",
     "text": [
      "WARNING:absl:Found untraced functions such as lstm_cell_layer_call_fn, lstm_cell_layer_call_and_return_conditional_losses, lstm_cell_1_layer_call_fn, lstm_cell_1_layer_call_and_return_conditional_losses, lstm_cell_layer_call_fn while saving (showing 5 of 10). These functions will not be directly callable after loading.\n",
      "WARNING:absl:Found untraced functions such as lstm_cell_layer_call_fn, lstm_cell_layer_call_and_return_conditional_losses, lstm_cell_1_layer_call_fn, lstm_cell_1_layer_call_and_return_conditional_losses, lstm_cell_layer_call_fn while saving (showing 5 of 10). These functions will not be directly callable after loading.\n",
      "INFO:tensorflow:Assets written to: test_model/assets\n"
     ]
    }
   ],
   "source": [
    "trainer_and_tester = model_trainer_and_tester.ModelTrainerAndTester(\n",
    "    language=language, \n",
    "    epochs=20\n",
    ")\n",
    "trainer_and_tester.runWholeTrainProcess('train_30_edit_distance_language_cleansed.txt', 'test_model')"
   ]
  },
  {
   "cell_type": "code",
   "execution_count": 8,
   "id": "6d521f62",
   "metadata": {},
   "outputs": [
    {
     "name": "stdout",
     "output_type": "stream",
     "text": [
      "\n",
      "evaluating on test set with 0 edit threshold...\n",
      "6/6 [==============================] - 1s 37ms/step - loss: 0.3967 - accuracy: 0.9226\n",
      "test loss, test acc: [0.39670878648757935, 0.9226053357124329]\n",
      "evaluating on test set with 0.1 edit threshold...\n",
      "8/8 [==============================] - 0s 38ms/step - loss: 0.5549 - accuracy: 0.8969\n",
      "test loss, test acc: [0.5549078583717346, 0.8968660831451416]\n",
      "evaluating on test set with 0.25 edit threshold...\n",
      "16/16 [==============================] - 1s 40ms/step - loss: 0.7257 - accuracy: 0.8715\n",
      "test loss, test acc: [0.7256614565849304, 0.8715176582336426]\n"
     ]
    }
   ],
   "source": [
    "trainer_and_tester.evaluateOnTestData(\"test_model\")"
   ]
  },
  {
   "cell_type": "code",
   "execution_count": 9,
   "id": "e58e12ab",
   "metadata": {},
   "outputs": [
    {
     "data": {
      "text/plain": [
       "('ゆずきち\\n', 0.9979564)"
      ]
     },
     "execution_count": 9,
     "metadata": {},
     "output_type": "execute_result"
    }
   ],
   "source": [
    "trainer_and_tester.predict(\"yuzukichi\")"
   ]
  },
  {
   "cell_type": "code",
   "execution_count": 10,
   "id": "fcefe365",
   "metadata": {},
   "outputs": [],
   "source": [
    "import re\n",
    "\n",
    "def transformUserName(line):\n",
    "    # strip numbers\n",
    "    text = re.sub(r'\\d+', '', line)\n",
    "    # underscores to spaces\n",
    "    text = re.sub(r'_', ' ', text)\n",
    "    # add a space between lower case and upper case words\n",
    "    text = re.sub(r\"(\\w)([A-Z])\", r\"\\1 \\2\", text)\n",
    "    return text.lower().strip()"
   ]
  },
  {
   "cell_type": "code",
   "execution_count": 11,
   "id": "7483cb41",
   "metadata": {},
   "outputs": [],
   "source": [
    "import numpy as np\n",
    "def predict(name:str):\n",
    "    # need to check here if the length off the name is going to exceed the maximum encoder length\n",
    "    if len(name) > trainer_and_tester.max_encoder_seq_length:\n",
    "        # return nothing if we cannot handle it\n",
    "        return (\"\", 0)\n",
    "    one_hot_vector = np.zeros(\n",
    "        (1, trainer_and_tester.max_encoder_seq_length, trainer_and_tester.num_encoder_tokens), dtype=\"float32\"\n",
    "    )\n",
    "    sequence_end = 0\n",
    "    for t, char in enumerate(name):\n",
    "        if char in trainer_and_tester.input_token_index:\n",
    "            one_hot_vector[0, t, trainer_and_tester.input_token_index[char]] = 1.0\n",
    "        else:\n",
    "            # return nothing if we cannot handle it, token has not been encountered before\n",
    "            return (\"\", 0)\n",
    "        sequence_end = t\n",
    "    # from when the sequence ends, we have to fill up the rest with spaces\n",
    "    one_hot_vector[0, sequence_end + 1 :, trainer_and_tester.input_token_index[\" \"]] = 1.0\n",
    "    return trainer_and_tester.decode_sequence(one_hot_vector[0:1])"
   ]
  },
  {
   "cell_type": "code",
   "execution_count": 12,
   "id": "2eae4aea",
   "metadata": {},
   "outputs": [],
   "source": [
    "def predict_confidence(name):\n",
    "    _, conf = predict(name)\n",
    "    return conf"
   ]
  },
  {
   "cell_type": "code",
   "execution_count": 13,
   "id": "83215069",
   "metadata": {},
   "outputs": [],
   "source": [
    "filtered_set_B[\"username_pretty\"] = filtered_set_B[\"username\"].apply(transformUserName)"
   ]
  },
  {
   "cell_type": "code",
   "execution_count": null,
   "id": "f2807c7c",
   "metadata": {},
   "outputs": [],
   "source": [
    "filtered_set_B[\"conf\"] = filtered_set_B[\"username_pretty\"].apply(predict_confidence)"
   ]
  },
  {
   "cell_type": "code",
   "execution_count": null,
   "id": "06f45904",
   "metadata": {},
   "outputs": [],
   "source": [
    "filtered_set_B"
   ]
  },
  {
   "cell_type": "code",
   "execution_count": null,
   "id": "1803195e",
   "metadata": {},
   "outputs": [],
   "source": [
    "filtered_set_B.to_pickle(\"with_confidence_df_re_run\")"
   ]
  },
  {
   "cell_type": "code",
   "execution_count": null,
   "id": "8f0d2ab7",
   "metadata": {},
   "outputs": [],
   "source": [
    "filtered_set_B.loc[filtered_set_B['conf'] > 0.95]"
   ]
  },
  {
   "cell_type": "code",
   "execution_count": null,
   "id": "376d9146",
   "metadata": {},
   "outputs": [],
   "source": [
    "# drop_list = []\n",
    "\n",
    "# for index, row in filtered_set_B.iterrows():\n",
    "#     clean_username = transformUserName(row[\"username\"])\n",
    "#     _, prob = trainer_and_tester.predict(clean_username)\n",
    "#     print(prob)\n",
    "#     if prob < 0.9:\n",
    "#         drop_list.append(index)"
   ]
  },
  {
   "cell_type": "code",
   "execution_count": null,
   "id": "e7c8bd7a",
   "metadata": {},
   "outputs": [],
   "source": []
  }
 ],
 "metadata": {
  "kernelspec": {
   "display_name": "Python 3",
   "language": "python",
   "name": "python3"
  },
  "language_info": {
   "codemirror_mode": {
    "name": "ipython",
    "version": 3
   },
   "file_extension": ".py",
   "mimetype": "text/x-python",
   "name": "python",
   "nbconvert_exporter": "python",
   "pygments_lexer": "ipython3",
   "version": "3.8.2"
  }
 },
 "nbformat": 4,
 "nbformat_minor": 5
}
