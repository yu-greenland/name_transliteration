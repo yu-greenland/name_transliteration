{
 "cells": [
  {
   "cell_type": "code",
   "execution_count": 1,
   "id": "f44f455a",
   "metadata": {},
   "outputs": [],
   "source": [
    "language = 'ja'\n",
    "import name_transliteration.filtering as filter\n",
    "import name_transliteration.cleansing as cleanse\n",
    "import name_transliteration.model_trainer_and_tester as model_trainer_and_tester"
   ]
  },
  {
   "cell_type": "code",
   "execution_count": 2,
   "id": "6dc75682",
   "metadata": {},
   "outputs": [
    {
     "name": "stdout",
     "output_type": "stream",
     "text": [
      "./data/stream-2021-03-07T03:05:07.831679.gz\n",
      "./data/stream-2021-01-13T01:21:29.804195.gz\n",
      "./data/stream-2021-01-13T04:07:46.253913.gz\n",
      "./data/stream-2021-01-12T23:08:30.828340.gz\n",
      "./data/stream-2021-01-13T03:38:20.383129.gz\n"
     ]
    }
   ],
   "source": [
    "# filter testing and training data\n",
    "my_filter = filter.Filter(language)\n",
    "my_filter.filterData(\"./data/\",5)\n",
    "\n",
    "# split filtered data into two sets\n",
    "filtered_set_A = my_filter.getDataFrame().iloc[:int(len(my_filter.getDataFrame())/2)]\n",
    "filtered_set_B = my_filter.getDataFrame().iloc[int(len(my_filter.getDataFrame())/2):]"
   ]
  },
  {
   "cell_type": "code",
   "execution_count": 3,
   "id": "f0c114e2",
   "metadata": {},
   "outputs": [],
   "source": [
    "# instantiate the cleanser\n",
    "my_cleanser = cleanse.Cleanser()\n",
    "\n",
    "# perform pre-processing on set B and save\n",
    "filtered_set_B[\"username\"] = filtered_set_B[\"username\"].apply(my_cleanser.transformUserName)\n",
    "filtered_set_B = filtered_set_B[['username','screen_name']]\n",
    "filtered_set_B.to_csv('filtered_set_B.txt', header=None, index=None, sep='\\t', mode='w')"
   ]
  },
  {
   "cell_type": "code",
   "execution_count": 4,
   "id": "8593340f",
   "metadata": {},
   "outputs": [
    {
     "name": "stdout",
     "output_type": "stream",
     "text": [
      "Saved cleansed names as: \n",
      "train_30_edit_distance_language_cleansed.txt 2300 number of rows. \n",
      "test1_cleansed.txt 150 number of rows. \n",
      "test2_cleansed.txt 215 number of rows. \n",
      "test3_cleansed.txt 430 number of rows. \n",
      "\n"
     ]
    }
   ],
   "source": [
    "\n",
    "# the split data is uncleansed btw\n",
    "my_cleanser.splitTrainTest(filtered_set_A)\n",
    "\n",
    "# this does the cleansing of the test datasets\n",
    "my_cleanser.createTestDataSets()\n",
    "# this does the cleansing of the training dataset\n",
    "my_cleanser.createTrainDataSet(edit_threshold = 0.3)\n",
    "# save cleansed test and train files\n",
    "my_cleanser.saveTestAndTrain()"
   ]
  },
  {
   "cell_type": "code",
   "execution_count": 5,
   "id": "5cd06dae",
   "metadata": {
    "scrolled": true
   },
   "outputs": [
    {
     "name": "stdout",
     "output_type": "stream",
     "text": [
      "Number of unique input tokens: 27\n",
      "Number of unique output tokens: 2972\n",
      "Max sequence length for inputs: 22\n",
      "Max sequence length for outputs: 51\n",
      "Epoch 1/20\n",
      "23/23 [==============================] - 16s 541ms/step - loss: 3.5494 - accuracy: 0.7677 - val_loss: 0.5120 - val_accuracy: 0.9124\n",
      "Epoch 2/20\n",
      "23/23 [==============================] - 12s 538ms/step - loss: 0.4848 - accuracy: 0.9127 - val_loss: 0.4819 - val_accuracy: 0.9137\n",
      "Epoch 3/20\n",
      "23/23 [==============================] - 13s 557ms/step - loss: 0.4542 - accuracy: 0.9139 - val_loss: 0.4650 - val_accuracy: 0.9175\n",
      "Epoch 4/20\n",
      "23/23 [==============================] - 12s 508ms/step - loss: 0.4318 - accuracy: 0.9177 - val_loss: 0.4676 - val_accuracy: 0.9223\n",
      "Epoch 5/20\n",
      "23/23 [==============================] - 11s 475ms/step - loss: 0.4317 - accuracy: 0.9183 - val_loss: 0.4683 - val_accuracy: 0.9220\n",
      "Epoch 6/20\n",
      "23/23 [==============================] - 11s 473ms/step - loss: 0.4470 - accuracy: 0.9171 - val_loss: 0.4646 - val_accuracy: 0.9175\n",
      "Epoch 7/20\n",
      "23/23 [==============================] - 11s 476ms/step - loss: 0.4134 - accuracy: 0.9200 - val_loss: 0.4642 - val_accuracy: 0.9218\n",
      "Epoch 8/20\n",
      "23/23 [==============================] - 11s 475ms/step - loss: 0.4227 - accuracy: 0.9186 - val_loss: 0.4599 - val_accuracy: 0.9176\n",
      "Epoch 9/20\n",
      "23/23 [==============================] - 12s 524ms/step - loss: 0.4201 - accuracy: 0.9180 - val_loss: 0.4585 - val_accuracy: 0.9204\n",
      "Epoch 10/20\n",
      "23/23 [==============================] - 11s 473ms/step - loss: 0.4061 - accuracy: 0.9208 - val_loss: 0.4947 - val_accuracy: 0.9050\n",
      "Epoch 11/20\n",
      "23/23 [==============================] - 14s 592ms/step - loss: 0.4126 - accuracy: 0.9196 - val_loss: 0.4565 - val_accuracy: 0.9245\n",
      "Epoch 12/20\n",
      "23/23 [==============================] - 13s 563ms/step - loss: 0.4026 - accuracy: 0.9229 - val_loss: 0.4565 - val_accuracy: 0.9307\n",
      "Epoch 13/20\n",
      "23/23 [==============================] - 11s 488ms/step - loss: 0.3974 - accuracy: 0.9254 - val_loss: 0.4512 - val_accuracy: 0.9309\n",
      "Epoch 14/20\n",
      "23/23 [==============================] - 11s 477ms/step - loss: 0.3880 - accuracy: 0.9275 - val_loss: 0.4473 - val_accuracy: 0.9324\n",
      "Epoch 15/20\n",
      "23/23 [==============================] - 12s 504ms/step - loss: 0.3823 - accuracy: 0.9291 - val_loss: 0.4443 - val_accuracy: 0.9321\n",
      "Epoch 16/20\n",
      "23/23 [==============================] - 11s 470ms/step - loss: 0.3835 - accuracy: 0.9291 - val_loss: 0.4492 - val_accuracy: 0.9324\n",
      "Epoch 17/20\n",
      "23/23 [==============================] - 11s 460ms/step - loss: 0.3758 - accuracy: 0.9302 - val_loss: 0.4390 - val_accuracy: 0.9324\n",
      "Epoch 18/20\n",
      "23/23 [==============================] - 15s 658ms/step - loss: 0.3733 - accuracy: 0.9299 - val_loss: 0.4451 - val_accuracy: 0.9314\n",
      "Epoch 19/20\n",
      "23/23 [==============================] - 12s 510ms/step - loss: 0.3787 - accuracy: 0.9291 - val_loss: 0.4305 - val_accuracy: 0.9324\n",
      "Epoch 20/20\n",
      "23/23 [==============================] - 12s 507ms/step - loss: 0.3619 - accuracy: 0.9309 - val_loss: 0.4290 - val_accuracy: 0.9331\n"
     ]
    },
    {
     "name": "stderr",
     "output_type": "stream",
     "text": [
      "WARNING:absl:Found untraced functions such as lstm_cell_layer_call_and_return_conditional_losses, lstm_cell_layer_call_fn, lstm_cell_1_layer_call_and_return_conditional_losses, lstm_cell_1_layer_call_fn, lstm_cell_layer_call_fn while saving (showing 5 of 10). These functions will not be directly callable after loading.\n",
      "WARNING:absl:Found untraced functions such as lstm_cell_layer_call_and_return_conditional_losses, lstm_cell_layer_call_fn, lstm_cell_1_layer_call_and_return_conditional_losses, lstm_cell_1_layer_call_fn, lstm_cell_layer_call_fn while saving (showing 5 of 10). These functions will not be directly callable after loading.\n",
      "INFO:tensorflow:Assets written to: ja_model_20/assets\n"
     ]
    }
   ],
   "source": [
    "# train model and save model 1\n",
    "trainer_and_tester = model_trainer_and_tester.ModelTrainerAndTester(\n",
    "    language=language, \n",
    "    epochs=20\n",
    ")\n",
    "trainer_and_tester.determineDimensions(['train_30_edit_distance_language_cleansed.txt', 'test1_cleansed.txt', 'test2_cleansed.txt', 'test3_cleansed.txt', 'filtered_set_B.txt'])\n",
    "train_encode_input, train_decode_input, train_decode_output = trainer_and_tester.processData('train_10_edit_distance_language_cleansed.txt')\n",
    "trainer_and_tester.buildModel()\n",
    "trainer_and_tester.trainModel(language + '_model_'+str(20), train_encode_input, train_decode_input, train_decode_output)\n",
    "trainer_and_tester.createDecoderEncoder(language + '_model_'+str(20))"
   ]
  },
  {
   "cell_type": "code",
   "execution_count": 6,
   "id": "c4bc8f47",
   "metadata": {},
   "outputs": [
    {
     "name": "stdout",
     "output_type": "stream",
     "text": [
      "\n",
      "evaluating on test set with 0 edit threshold...\n",
      "5/5 [==============================] - 1s 133ms/step - loss: 0.3799 - accuracy: 0.9375\n",
      "test loss, test acc: [0.3798932731151581, 0.9375163316726685]\n",
      "evaluating on test set with 0.1 edit threshold...\n",
      "7/7 [==============================] - 1s 160ms/step - loss: 0.4315 - accuracy: 0.9307\n",
      "test loss, test acc: [0.43153053522109985, 0.9306885600090027]\n",
      "evaluating on test set with 0.25 edit threshold...\n",
      "14/14 [==============================] - 3s 160ms/step - loss: 0.4497 - accuracy: 0.9285\n",
      "test loss, test acc: [0.44968193769454956, 0.928545355796814]\n"
     ]
    }
   ],
   "source": [
    "trainer_and_tester.evaluateOnTestData(language + '_model_'+str(20))"
   ]
  },
  {
   "cell_type": "code",
   "execution_count": 7,
   "id": "b3a9573a",
   "metadata": {},
   "outputs": [],
   "source": [
    "# encoder_input_data, decoder_input_data, _ = trainer_and_tester.processData('filtered_set_B.txt')"
   ]
  },
  {
   "cell_type": "code",
   "execution_count": 8,
   "id": "94514f84",
   "metadata": {},
   "outputs": [],
   "source": [
    "def predict_confidence(name, model_class):\n",
    "    _, conf = model_class.predict(name)\n",
    "    return conf"
   ]
  },
  {
   "cell_type": "code",
   "execution_count": 9,
   "id": "c9982b5e",
   "metadata": {},
   "outputs": [
    {
     "data": {
      "text/html": [
       "<div>\n",
       "<style scoped>\n",
       "    .dataframe tbody tr th:only-of-type {\n",
       "        vertical-align: middle;\n",
       "    }\n",
       "\n",
       "    .dataframe tbody tr th {\n",
       "        vertical-align: top;\n",
       "    }\n",
       "\n",
       "    .dataframe thead th {\n",
       "        text-align: right;\n",
       "    }\n",
       "</style>\n",
       "<table border=\"1\" class=\"dataframe\">\n",
       "  <thead>\n",
       "    <tr style=\"text-align: right;\">\n",
       "      <th></th>\n",
       "      <th>username</th>\n",
       "      <th>screen_name</th>\n",
       "    </tr>\n",
       "  </thead>\n",
       "  <tbody>\n",
       "    <tr>\n",
       "      <th>25831</th>\n",
       "      <td>oharafumi</td>\n",
       "      <td>ふみ</td>\n",
       "    </tr>\n",
       "    <tr>\n",
       "      <th>25832</th>\n",
       "      <td>gy w</td>\n",
       "      <td>半片</td>\n",
       "    </tr>\n",
       "    <tr>\n",
       "      <th>25833</th>\n",
       "      <td>d op er</td>\n",
       "      <td>リイ</td>\n",
       "    </tr>\n",
       "    <tr>\n",
       "      <th>25834</th>\n",
       "      <td>azumi s goods</td>\n",
       "      <td>アズミ取引垢</td>\n",
       "    </tr>\n",
       "    <tr>\n",
       "      <th>25835</th>\n",
       "      <td>andy</td>\n",
       "      <td>あんじー</td>\n",
       "    </tr>\n",
       "    <tr>\n",
       "      <th>...</th>\n",
       "      <td>...</td>\n",
       "      <td>...</td>\n",
       "    </tr>\n",
       "    <tr>\n",
       "      <th>51658</th>\n",
       "      <td>sir</td>\n",
       "      <td>さー</td>\n",
       "    </tr>\n",
       "    <tr>\n",
       "      <th>51659</th>\n",
       "      <td>jimoto  love</td>\n",
       "      <td>やっぱり地元が一番</td>\n",
       "    </tr>\n",
       "    <tr>\n",
       "      <th>51660</th>\n",
       "      <td>erusyadai lucife</td>\n",
       "      <td>ルシフェル</td>\n",
       "    </tr>\n",
       "    <tr>\n",
       "      <th>51661</th>\n",
       "      <td>japan lawson</td>\n",
       "      <td>ローソン公式返信用アカウント</td>\n",
       "    </tr>\n",
       "    <tr>\n",
       "      <th>51662</th>\n",
       "      <td>susususmum</td>\n",
       "      <td>スススフライト</td>\n",
       "    </tr>\n",
       "  </tbody>\n",
       "</table>\n",
       "<p>25832 rows × 2 columns</p>\n",
       "</div>"
      ],
      "text/plain": [
       "               username     screen_name\n",
       "25831         oharafumi              ふみ\n",
       "25832              gy w              半片\n",
       "25833           d op er              リイ\n",
       "25834     azumi s goods          アズミ取引垢\n",
       "25835              andy            あんじー\n",
       "...                 ...             ...\n",
       "51658               sir              さー\n",
       "51659      jimoto  love       やっぱり地元が一番\n",
       "51660  erusyadai lucife           ルシフェル\n",
       "51661      japan lawson  ローソン公式返信用アカウント\n",
       "51662        susususmum         スススフライト\n",
       "\n",
       "[25832 rows x 2 columns]"
      ]
     },
     "execution_count": 9,
     "metadata": {},
     "output_type": "execute_result"
    }
   ],
   "source": [
    "filtered_set_B"
   ]
  },
  {
   "cell_type": "code",
   "execution_count": 10,
   "id": "81d6db78",
   "metadata": {},
   "outputs": [],
   "source": [
    "# filtered_set_B[\"conf\"] = filtered_set_B[\"username\"].apply(predict_confidence)\n",
    "# this didn't have the exact same result as the other notebook\n",
    "# filtered_set_B.to_pickle(\"with_confidence_df\")"
   ]
  },
  {
   "cell_type": "code",
   "execution_count": 11,
   "id": "7d6196eb",
   "metadata": {},
   "outputs": [],
   "source": [
    "import pandas as pd\n",
    "filtered_set_B = pd.read_pickle(\"with_confidence_df\")"
   ]
  },
  {
   "cell_type": "code",
   "execution_count": 12,
   "id": "84d32256",
   "metadata": {},
   "outputs": [],
   "source": [
    "cleansed_set_B_95 = filtered_set_B.loc[filtered_set_B['conf'] > 0.95]"
   ]
  },
  {
   "cell_type": "code",
   "execution_count": 13,
   "id": "75f3ac20",
   "metadata": {},
   "outputs": [],
   "source": [
    "cleansed_set_B_95_just_names = cleansed_set_B_95[['username_pretty','screen_name']]"
   ]
  },
  {
   "cell_type": "code",
   "execution_count": 14,
   "id": "2d7def6d",
   "metadata": {},
   "outputs": [],
   "source": [
    "cleansed_set_B_95_just_names.to_csv('model_cleansed_names.txt', header=None, index=None, sep='\\t', mode='w')"
   ]
  },
  {
   "cell_type": "code",
   "execution_count": 15,
   "id": "8add3ec0",
   "metadata": {
    "scrolled": true
   },
   "outputs": [
    {
     "name": "stdout",
     "output_type": "stream",
     "text": [
      "Number of unique input tokens: 27\n",
      "Number of unique output tokens: 937\n",
      "Max sequence length for inputs: 19\n",
      "Max sequence length for outputs: 43\n",
      "Epoch 1/20\n",
      "21/21 [==============================] - 6s 182ms/step - loss: 3.2954 - accuracy: 0.7149 - val_loss: 0.8984 - val_accuracy: 0.8613\n",
      "Epoch 2/20\n",
      "21/21 [==============================] - 3s 149ms/step - loss: 0.9094 - accuracy: 0.8595 - val_loss: 0.8778 - val_accuracy: 0.8625\n",
      "Epoch 3/20\n",
      "21/21 [==============================] - 4s 169ms/step - loss: 0.8777 - accuracy: 0.8636 - val_loss: 0.9020 - val_accuracy: 0.8635\n",
      "Epoch 4/20\n",
      "21/21 [==============================] - 3s 165ms/step - loss: 0.8133 - accuracy: 0.8684 - val_loss: 0.8771 - val_accuracy: 0.8633\n",
      "Epoch 5/20\n",
      "21/21 [==============================] - 4s 191ms/step - loss: 0.8245 - accuracy: 0.8665 - val_loss: 0.8873 - val_accuracy: 0.8640\n",
      "Epoch 6/20\n",
      "21/21 [==============================] - 3s 166ms/step - loss: 0.8412 - accuracy: 0.8631 - val_loss: 0.8771 - val_accuracy: 0.8633\n",
      "Epoch 7/20\n",
      "21/21 [==============================] - 3s 152ms/step - loss: 0.8309 - accuracy: 0.8655 - val_loss: 0.9061 - val_accuracy: 0.8639\n",
      "Epoch 8/20\n",
      "21/21 [==============================] - 3s 150ms/step - loss: 0.8227 - accuracy: 0.8676 - val_loss: 0.8578 - val_accuracy: 0.8677\n",
      "Epoch 9/20\n",
      "21/21 [==============================] - 3s 151ms/step - loss: 0.8346 - accuracy: 0.8595 - val_loss: 0.8484 - val_accuracy: 0.8723\n",
      "Epoch 10/20\n",
      "21/21 [==============================] - 3s 148ms/step - loss: 0.7462 - accuracy: 0.8726 - val_loss: 1.6527 - val_accuracy: 0.8820\n",
      "Epoch 11/20\n",
      "21/21 [==============================] - 4s 176ms/step - loss: 0.9149 - accuracy: 0.8697 - val_loss: 0.8482 - val_accuracy: 0.8663\n",
      "Epoch 12/20\n",
      "21/21 [==============================] - 4s 172ms/step - loss: 0.7779 - accuracy: 0.8691 - val_loss: 0.8195 - val_accuracy: 0.8747\n",
      "Epoch 13/20\n",
      "21/21 [==============================] - 4s 171ms/step - loss: 0.7367 - accuracy: 0.8731 - val_loss: 0.8318 - val_accuracy: 0.8692\n",
      "Epoch 14/20\n",
      "21/21 [==============================] - 3s 165ms/step - loss: 0.7354 - accuracy: 0.8732 - val_loss: 0.8281 - val_accuracy: 0.8789\n",
      "Epoch 15/20\n",
      "21/21 [==============================] - 4s 214ms/step - loss: 0.7838 - accuracy: 0.8735 - val_loss: 0.8077 - val_accuracy: 0.8797\n",
      "Epoch 16/20\n",
      "21/21 [==============================] - 3s 160ms/step - loss: 0.7104 - accuracy: 0.8771 - val_loss: 0.8145 - val_accuracy: 0.8779\n",
      "Epoch 17/20\n",
      "21/21 [==============================] - 3s 149ms/step - loss: 0.7405 - accuracy: 0.8704 - val_loss: 0.8135 - val_accuracy: 0.8812\n",
      "Epoch 18/20\n",
      "21/21 [==============================] - 3s 148ms/step - loss: 0.6861 - accuracy: 0.8789 - val_loss: 0.8326 - val_accuracy: 0.8824\n",
      "Epoch 19/20\n",
      "21/21 [==============================] - 3s 156ms/step - loss: 0.7475 - accuracy: 0.8661 - val_loss: 0.7993 - val_accuracy: 0.8823\n",
      "Epoch 20/20\n",
      "21/21 [==============================] - 3s 154ms/step - loss: 0.6678 - accuracy: 0.8820 - val_loss: 0.8000 - val_accuracy: 0.8814\n"
     ]
    },
    {
     "name": "stderr",
     "output_type": "stream",
     "text": [
      "WARNING:absl:Found untraced functions such as lstm_cell_6_layer_call_and_return_conditional_losses, lstm_cell_6_layer_call_fn, lstm_cell_7_layer_call_and_return_conditional_losses, lstm_cell_7_layer_call_fn, lstm_cell_6_layer_call_fn while saving (showing 5 of 10). These functions will not be directly callable after loading.\n",
      "WARNING:absl:Found untraced functions such as lstm_cell_6_layer_call_and_return_conditional_losses, lstm_cell_6_layer_call_fn, lstm_cell_7_layer_call_and_return_conditional_losses, lstm_cell_7_layer_call_fn, lstm_cell_6_layer_call_fn while saving (showing 5 of 10). These functions will not be directly callable after loading.\n",
      "INFO:tensorflow:Assets written to: ja_model_20_v2/assets\n"
     ]
    }
   ],
   "source": [
    "# train model 2 and save model 2\n",
    "trainer_and_tester2 = model_trainer_and_tester.ModelTrainerAndTester(\n",
    "    language=language, \n",
    "    epochs=20\n",
    ")\n",
    "# trainer_and_tester2.determineDimensions(['train_10_edit_distance_language_cleansed.txt', 'test1_cleansed.txt', 'test2_cleansed.txt', 'test3_cleansed.txt', 'filtered_set_B.txt','model_cleansed_names.txt'])\n",
    "# train_encode_input, train_decode_input, train_decode_output = trainer_and_tester2.processData('model_cleansed_names.txt')\n",
    "# trainer_and_tester2.buildModel()\n",
    "# trainer_and_tester2.trainModel(language + '_model_'+str(20)+'_v2', train_encode_input, train_decode_input, train_decode_output)\n",
    "# trainer_and_tester2.createDecoderEncoder(language + '_model_'+str(20)+'_v2')\n",
    "\n",
    "trainer_and_tester2.runWholeTrainProcess('model_cleansed_names.txt', 'ja_model_20_v2')"
   ]
  },
  {
   "cell_type": "code",
   "execution_count": 16,
   "id": "3011e7ee",
   "metadata": {},
   "outputs": [
    {
     "name": "stdout",
     "output_type": "stream",
     "text": [
      "\n",
      "evaluating on test set with 0 edit threshold...\n",
      "5/5 [==============================] - 1s 51ms/step - loss: 0.4885 - accuracy: 0.9236\n",
      "test loss, test acc: [0.4885435402393341, 0.9235658645629883]\n",
      "evaluating on test set with 0.1 edit threshold...\n",
      "7/7 [==============================] - 0s 57ms/step - loss: 0.5423 - accuracy: 0.9160\n",
      "test loss, test acc: [0.5423395037651062, 0.91595458984375]\n",
      "evaluating on test set with 0.25 edit threshold...\n",
      "14/14 [==============================] - 1s 52ms/step - loss: 0.5509 - accuracy: 0.9147\n",
      "test loss, test acc: [0.5509322285652161, 0.9147106409072876]\n"
     ]
    }
   ],
   "source": [
    "trainer_and_tester2.evaluateOnTestData(language + '_model_'+str(20)+'_v2')"
   ]
  },
  {
   "cell_type": "code",
   "execution_count": 17,
   "id": "31be838f",
   "metadata": {},
   "outputs": [
    {
     "name": "stdout",
     "output_type": "stream",
     "text": [
      "('あくち\\n', 0.22617334)\n",
      "('お\\n', 0.0751004)\n"
     ]
    }
   ],
   "source": [
    "print(trainer_and_tester.predict('reiwatomo'))\n",
    "print(trainer_and_tester2.predict('reiwatomo'))"
   ]
  },
  {
   "cell_type": "code",
   "execution_count": 18,
   "id": "d15fe059",
   "metadata": {},
   "outputs": [],
   "source": [
    "training_set_A = my_cleanser.training_dataframe"
   ]
  },
  {
   "cell_type": "code",
   "execution_count": 22,
   "id": "f14e4d2f",
   "metadata": {
    "scrolled": false
   },
   "outputs": [
    {
     "data": {
      "text/html": [
       "<div>\n",
       "<style scoped>\n",
       "    .dataframe tbody tr th:only-of-type {\n",
       "        vertical-align: middle;\n",
       "    }\n",
       "\n",
       "    .dataframe tbody tr th {\n",
       "        vertical-align: top;\n",
       "    }\n",
       "\n",
       "    .dataframe thead th {\n",
       "        text-align: right;\n",
       "    }\n",
       "</style>\n",
       "<table border=\"1\" class=\"dataframe\">\n",
       "  <thead>\n",
       "    <tr style=\"text-align: right;\">\n",
       "      <th></th>\n",
       "      <th>index</th>\n",
       "      <th>username</th>\n",
       "      <th>screen_name</th>\n",
       "      <th>language</th>\n",
       "    </tr>\n",
       "  </thead>\n",
       "  <tbody>\n",
       "    <tr>\n",
       "      <th>0</th>\n",
       "      <td>10</td>\n",
       "      <td>amaimono no</td>\n",
       "      <td>甘いもの</td>\n",
       "      <td>ja</td>\n",
       "    </tr>\n",
       "    <tr>\n",
       "      <th>1</th>\n",
       "      <td>33</td>\n",
       "      <td>animejikkyobot</td>\n",
       "      <td>アニメ実況</td>\n",
       "      <td>ja</td>\n",
       "    </tr>\n",
       "    <tr>\n",
       "      <th>2</th>\n",
       "      <td>42</td>\n",
       "      <td>tsudayan</td>\n",
       "      <td>つだやん</td>\n",
       "      <td>ja</td>\n",
       "    </tr>\n",
       "    <tr>\n",
       "      <th>3</th>\n",
       "      <td>47</td>\n",
       "      <td>ayu ko</td>\n",
       "      <td>鮎子</td>\n",
       "      <td>ja</td>\n",
       "    </tr>\n",
       "    <tr>\n",
       "      <th>4</th>\n",
       "      <td>63</td>\n",
       "      <td>mashiroharu</td>\n",
       "      <td>ましろはる</td>\n",
       "      <td>ja</td>\n",
       "    </tr>\n",
       "    <tr>\n",
       "      <th>...</th>\n",
       "      <td>...</td>\n",
       "      <td>...</td>\n",
       "      <td>...</td>\n",
       "      <td>...</td>\n",
       "    </tr>\n",
       "    <tr>\n",
       "      <th>2295</th>\n",
       "      <td>25766</td>\n",
       "      <td>future</td>\n",
       "      <td>ふつれ</td>\n",
       "      <td>ja</td>\n",
       "    </tr>\n",
       "    <tr>\n",
       "      <th>2296</th>\n",
       "      <td>25786</td>\n",
       "      <td>ri o</td>\n",
       "      <td>りお</td>\n",
       "      <td>ja</td>\n",
       "    </tr>\n",
       "    <tr>\n",
       "      <th>2297</th>\n",
       "      <td>25791</td>\n",
       "      <td>future</td>\n",
       "      <td>ふつれ</td>\n",
       "      <td>ja</td>\n",
       "    </tr>\n",
       "    <tr>\n",
       "      <th>2298</th>\n",
       "      <td>25804</td>\n",
       "      <td>paprikasan</td>\n",
       "      <td>パプリカ</td>\n",
       "      <td>ja</td>\n",
       "    </tr>\n",
       "    <tr>\n",
       "      <th>2299</th>\n",
       "      <td>25808</td>\n",
       "      <td>zigo aku</td>\n",
       "      <td>じごあく</td>\n",
       "      <td>ja</td>\n",
       "    </tr>\n",
       "  </tbody>\n",
       "</table>\n",
       "<p>2300 rows × 4 columns</p>\n",
       "</div>"
      ],
      "text/plain": [
       "      index        username screen_name language\n",
       "0        10     amaimono no        甘いもの       ja\n",
       "1        33  animejikkyobot       アニメ実況       ja\n",
       "2        42        tsudayan        つだやん       ja\n",
       "3        47          ayu ko          鮎子       ja\n",
       "4        63     mashiroharu       ましろはる       ja\n",
       "...     ...             ...         ...      ...\n",
       "2295  25766          future         ふつれ       ja\n",
       "2296  25786            ri o          りお       ja\n",
       "2297  25791          future         ふつれ       ja\n",
       "2298  25804      paprikasan        パプリカ       ja\n",
       "2299  25808        zigo aku        じごあく       ja\n",
       "\n",
       "[2300 rows x 4 columns]"
      ]
     },
     "execution_count": 22,
     "metadata": {},
     "output_type": "execute_result"
    }
   ],
   "source": [
    "training_set_A"
   ]
  },
  {
   "cell_type": "code",
   "execution_count": 24,
   "id": "aca1b6bc",
   "metadata": {},
   "outputs": [
    {
     "data": {
      "text/plain": [
       "('お\\n', 0.07910247)"
      ]
     },
     "execution_count": 24,
     "metadata": {},
     "output_type": "execute_result"
    }
   ],
   "source": [
    "trainer_and_tester2.predict('zigo aku')"
   ]
  },
  {
   "cell_type": "code",
   "execution_count": 21,
   "id": "705dd48d",
   "metadata": {
    "scrolled": true
   },
   "outputs": [
    {
     "ename": "KeyboardInterrupt",
     "evalue": "",
     "output_type": "error",
     "traceback": [
      "\u001b[0;31m---------------------------------------------------------------------------\u001b[0m",
      "\u001b[0;31mKeyboardInterrupt\u001b[0m                         Traceback (most recent call last)",
      "\u001b[0;32m<ipython-input-21-732443efe440>\u001b[0m in \u001b[0;36m<module>\u001b[0;34m\u001b[0m\n\u001b[0;32m----> 1\u001b[0;31m \u001b[0mtraining_set_A\u001b[0m\u001b[0;34m[\u001b[0m\u001b[0;34m\"conf\"\u001b[0m\u001b[0;34m]\u001b[0m \u001b[0;34m=\u001b[0m \u001b[0mtraining_set_A\u001b[0m\u001b[0;34m[\u001b[0m\u001b[0;34m\"username\"\u001b[0m\u001b[0;34m]\u001b[0m\u001b[0;34m.\u001b[0m\u001b[0mapply\u001b[0m\u001b[0;34m(\u001b[0m\u001b[0mpredict_confidence\u001b[0m\u001b[0;34m,\u001b[0m \u001b[0margs\u001b[0m\u001b[0;34m=\u001b[0m\u001b[0;34m(\u001b[0m\u001b[0mtrainer_and_tester2\u001b[0m\u001b[0;34m,\u001b[0m\u001b[0;34m)\u001b[0m\u001b[0;34m)\u001b[0m\u001b[0;34m\u001b[0m\u001b[0;34m\u001b[0m\u001b[0m\n\u001b[0m",
      "\u001b[0;32m~/Library/Caches/pypoetry/virtualenvs/name-transliteration-sfy7S-9L-py3.8/lib/python3.8/site-packages/pandas/core/series.py\u001b[0m in \u001b[0;36mapply\u001b[0;34m(self, func, convert_dtype, args, **kwds)\u001b[0m\n\u001b[1;32m   4136\u001b[0m             \u001b[0;32melse\u001b[0m\u001b[0;34m:\u001b[0m\u001b[0;34m\u001b[0m\u001b[0;34m\u001b[0m\u001b[0m\n\u001b[1;32m   4137\u001b[0m                 \u001b[0mvalues\u001b[0m \u001b[0;34m=\u001b[0m \u001b[0mself\u001b[0m\u001b[0;34m.\u001b[0m\u001b[0mastype\u001b[0m\u001b[0;34m(\u001b[0m\u001b[0mobject\u001b[0m\u001b[0;34m)\u001b[0m\u001b[0;34m.\u001b[0m\u001b[0m_values\u001b[0m\u001b[0;34m\u001b[0m\u001b[0;34m\u001b[0m\u001b[0m\n\u001b[0;32m-> 4138\u001b[0;31m                 \u001b[0mmapped\u001b[0m \u001b[0;34m=\u001b[0m \u001b[0mlib\u001b[0m\u001b[0;34m.\u001b[0m\u001b[0mmap_infer\u001b[0m\u001b[0;34m(\u001b[0m\u001b[0mvalues\u001b[0m\u001b[0;34m,\u001b[0m \u001b[0mf\u001b[0m\u001b[0;34m,\u001b[0m \u001b[0mconvert\u001b[0m\u001b[0;34m=\u001b[0m\u001b[0mconvert_dtype\u001b[0m\u001b[0;34m)\u001b[0m\u001b[0;34m\u001b[0m\u001b[0;34m\u001b[0m\u001b[0m\n\u001b[0m\u001b[1;32m   4139\u001b[0m \u001b[0;34m\u001b[0m\u001b[0m\n\u001b[1;32m   4140\u001b[0m         \u001b[0;32mif\u001b[0m \u001b[0mlen\u001b[0m\u001b[0;34m(\u001b[0m\u001b[0mmapped\u001b[0m\u001b[0;34m)\u001b[0m \u001b[0;32mand\u001b[0m \u001b[0misinstance\u001b[0m\u001b[0;34m(\u001b[0m\u001b[0mmapped\u001b[0m\u001b[0;34m[\u001b[0m\u001b[0;36m0\u001b[0m\u001b[0;34m]\u001b[0m\u001b[0;34m,\u001b[0m \u001b[0mSeries\u001b[0m\u001b[0;34m)\u001b[0m\u001b[0;34m:\u001b[0m\u001b[0;34m\u001b[0m\u001b[0;34m\u001b[0m\u001b[0m\n",
      "\u001b[0;32mpandas/_libs/lib.pyx\u001b[0m in \u001b[0;36mpandas._libs.lib.map_infer\u001b[0;34m()\u001b[0m\n",
      "\u001b[0;32m~/Library/Caches/pypoetry/virtualenvs/name-transliteration-sfy7S-9L-py3.8/lib/python3.8/site-packages/pandas/core/series.py\u001b[0m in \u001b[0;36mf\u001b[0;34m(x)\u001b[0m\n\u001b[1;32m   4121\u001b[0m \u001b[0;34m\u001b[0m\u001b[0m\n\u001b[1;32m   4122\u001b[0m             \u001b[0;32mdef\u001b[0m \u001b[0mf\u001b[0m\u001b[0;34m(\u001b[0m\u001b[0mx\u001b[0m\u001b[0;34m)\u001b[0m\u001b[0;34m:\u001b[0m\u001b[0;34m\u001b[0m\u001b[0;34m\u001b[0m\u001b[0m\n\u001b[0;32m-> 4123\u001b[0;31m                 \u001b[0;32mreturn\u001b[0m \u001b[0mfunc\u001b[0m\u001b[0;34m(\u001b[0m\u001b[0mx\u001b[0m\u001b[0;34m,\u001b[0m \u001b[0;34m*\u001b[0m\u001b[0margs\u001b[0m\u001b[0;34m,\u001b[0m \u001b[0;34m**\u001b[0m\u001b[0mkwds\u001b[0m\u001b[0;34m)\u001b[0m\u001b[0;34m\u001b[0m\u001b[0;34m\u001b[0m\u001b[0m\n\u001b[0m\u001b[1;32m   4124\u001b[0m \u001b[0;34m\u001b[0m\u001b[0m\n\u001b[1;32m   4125\u001b[0m         \u001b[0;32melse\u001b[0m\u001b[0;34m:\u001b[0m\u001b[0;34m\u001b[0m\u001b[0;34m\u001b[0m\u001b[0m\n",
      "\u001b[0;32m<ipython-input-8-c9b1203a3f04>\u001b[0m in \u001b[0;36mpredict_confidence\u001b[0;34m(name, model_class)\u001b[0m\n\u001b[1;32m      1\u001b[0m \u001b[0;32mdef\u001b[0m \u001b[0mpredict_confidence\u001b[0m\u001b[0;34m(\u001b[0m\u001b[0mname\u001b[0m\u001b[0;34m,\u001b[0m \u001b[0mmodel_class\u001b[0m\u001b[0;34m)\u001b[0m\u001b[0;34m:\u001b[0m\u001b[0;34m\u001b[0m\u001b[0;34m\u001b[0m\u001b[0m\n\u001b[0;32m----> 2\u001b[0;31m     \u001b[0m_\u001b[0m\u001b[0;34m,\u001b[0m \u001b[0mconf\u001b[0m \u001b[0;34m=\u001b[0m \u001b[0mmodel_class\u001b[0m\u001b[0;34m.\u001b[0m\u001b[0mpredict\u001b[0m\u001b[0;34m(\u001b[0m\u001b[0mname\u001b[0m\u001b[0;34m)\u001b[0m\u001b[0;34m\u001b[0m\u001b[0;34m\u001b[0m\u001b[0m\n\u001b[0m\u001b[1;32m      3\u001b[0m     \u001b[0;32mreturn\u001b[0m \u001b[0mconf\u001b[0m\u001b[0;34m\u001b[0m\u001b[0;34m\u001b[0m\u001b[0m\n",
      "\u001b[0;32m~/Documents/GitHub/name_transliteration/name_transliteration/model_trainer_and_tester.py\u001b[0m in \u001b[0;36mpredict\u001b[0;34m(self, name)\u001b[0m\n\u001b[1;32m    298\u001b[0m         \u001b[0;31m# from when the sequence ends, we have to fill up the rest with spaces\u001b[0m\u001b[0;34m\u001b[0m\u001b[0;34m\u001b[0m\u001b[0;34m\u001b[0m\u001b[0m\n\u001b[1;32m    299\u001b[0m         \u001b[0mone_hot_vector\u001b[0m\u001b[0;34m[\u001b[0m\u001b[0;36m0\u001b[0m\u001b[0;34m,\u001b[0m \u001b[0msequence_end\u001b[0m \u001b[0;34m+\u001b[0m \u001b[0;36m1\u001b[0m \u001b[0;34m:\u001b[0m\u001b[0;34m,\u001b[0m \u001b[0mself\u001b[0m\u001b[0;34m.\u001b[0m\u001b[0minput_token_index\u001b[0m\u001b[0;34m[\u001b[0m\u001b[0;34m\" \"\u001b[0m\u001b[0;34m]\u001b[0m\u001b[0;34m]\u001b[0m \u001b[0;34m=\u001b[0m \u001b[0;36m1.0\u001b[0m\u001b[0;34m\u001b[0m\u001b[0;34m\u001b[0m\u001b[0m\n\u001b[0;32m--> 300\u001b[0;31m         \u001b[0;32mreturn\u001b[0m \u001b[0mself\u001b[0m\u001b[0;34m.\u001b[0m\u001b[0mdecode_sequence\u001b[0m\u001b[0;34m(\u001b[0m\u001b[0mone_hot_vector\u001b[0m\u001b[0;34m[\u001b[0m\u001b[0;36m0\u001b[0m\u001b[0;34m:\u001b[0m\u001b[0;36m1\u001b[0m\u001b[0;34m]\u001b[0m\u001b[0;34m)\u001b[0m\u001b[0;34m\u001b[0m\u001b[0;34m\u001b[0m\u001b[0m\n\u001b[0m\u001b[1;32m    301\u001b[0m \u001b[0;34m\u001b[0m\u001b[0m\n\u001b[1;32m    302\u001b[0m     \u001b[0;32mdef\u001b[0m \u001b[0mbatch_predict\u001b[0m\u001b[0;34m(\u001b[0m\u001b[0mself\u001b[0m\u001b[0;34m,\u001b[0m \u001b[0mlist_of_names\u001b[0m\u001b[0;34m)\u001b[0m\u001b[0;34m:\u001b[0m\u001b[0;34m\u001b[0m\u001b[0;34m\u001b[0m\u001b[0m\n",
      "\u001b[0;32m~/Documents/GitHub/name_transliteration/name_transliteration/model_trainer_and_tester.py\u001b[0m in \u001b[0;36mdecode_sequence\u001b[0;34m(self, input_seq)\u001b[0m\n\u001b[1;32m    247\u001b[0m \u001b[0;34m\u001b[0m\u001b[0m\n\u001b[1;32m    248\u001b[0m             \u001b[0;31m# see if output_tokens are probabilties from softmax\u001b[0m\u001b[0;34m\u001b[0m\u001b[0;34m\u001b[0m\u001b[0;34m\u001b[0m\u001b[0m\n\u001b[0;32m--> 249\u001b[0;31m             \u001b[0moutput_tokens\u001b[0m\u001b[0;34m,\u001b[0m \u001b[0mh\u001b[0m\u001b[0;34m,\u001b[0m \u001b[0mc\u001b[0m \u001b[0;34m=\u001b[0m \u001b[0mself\u001b[0m\u001b[0;34m.\u001b[0m\u001b[0mdecoder_model\u001b[0m\u001b[0;34m.\u001b[0m\u001b[0mpredict\u001b[0m\u001b[0;34m(\u001b[0m\u001b[0;34m[\u001b[0m\u001b[0mtarget_seq\u001b[0m\u001b[0;34m]\u001b[0m \u001b[0;34m+\u001b[0m \u001b[0mstates_value\u001b[0m\u001b[0;34m)\u001b[0m\u001b[0;34m\u001b[0m\u001b[0;34m\u001b[0m\u001b[0m\n\u001b[0m\u001b[1;32m    250\u001b[0m             \u001b[0;31m# print(\"output_tokens: \" + str(output_tokens))\u001b[0m\u001b[0;34m\u001b[0m\u001b[0;34m\u001b[0m\u001b[0;34m\u001b[0m\u001b[0m\n\u001b[1;32m    251\u001b[0m             \u001b[0;31m# print(\"h: \" + str(h))\u001b[0m\u001b[0;34m\u001b[0m\u001b[0;34m\u001b[0m\u001b[0;34m\u001b[0m\u001b[0m\n",
      "\u001b[0;32m~/Library/Caches/pypoetry/virtualenvs/name-transliteration-sfy7S-9L-py3.8/lib/python3.8/site-packages/tensorflow/python/keras/engine/training.py\u001b[0m in \u001b[0;36mpredict\u001b[0;34m(self, x, batch_size, verbose, steps, callbacks, max_queue_size, workers, use_multiprocessing)\u001b[0m\n\u001b[1;32m   1623\u001b[0m       \u001b[0mcallbacks\u001b[0m\u001b[0;34m.\u001b[0m\u001b[0mon_predict_begin\u001b[0m\u001b[0;34m(\u001b[0m\u001b[0;34m)\u001b[0m\u001b[0;34m\u001b[0m\u001b[0;34m\u001b[0m\u001b[0m\n\u001b[1;32m   1624\u001b[0m       \u001b[0mbatch_outputs\u001b[0m \u001b[0;34m=\u001b[0m \u001b[0;32mNone\u001b[0m\u001b[0;34m\u001b[0m\u001b[0;34m\u001b[0m\u001b[0m\n\u001b[0;32m-> 1625\u001b[0;31m       \u001b[0;32mfor\u001b[0m \u001b[0m_\u001b[0m\u001b[0;34m,\u001b[0m \u001b[0miterator\u001b[0m \u001b[0;32min\u001b[0m \u001b[0mdata_handler\u001b[0m\u001b[0;34m.\u001b[0m\u001b[0menumerate_epochs\u001b[0m\u001b[0;34m(\u001b[0m\u001b[0;34m)\u001b[0m\u001b[0;34m:\u001b[0m  \u001b[0;31m# Single epoch.\u001b[0m\u001b[0;34m\u001b[0m\u001b[0;34m\u001b[0m\u001b[0m\n\u001b[0m\u001b[1;32m   1626\u001b[0m         \u001b[0;32mwith\u001b[0m \u001b[0mdata_handler\u001b[0m\u001b[0;34m.\u001b[0m\u001b[0mcatch_stop_iteration\u001b[0m\u001b[0;34m(\u001b[0m\u001b[0;34m)\u001b[0m\u001b[0;34m:\u001b[0m\u001b[0;34m\u001b[0m\u001b[0;34m\u001b[0m\u001b[0m\n\u001b[1;32m   1627\u001b[0m           \u001b[0;32mfor\u001b[0m \u001b[0mstep\u001b[0m \u001b[0;32min\u001b[0m \u001b[0mdata_handler\u001b[0m\u001b[0;34m.\u001b[0m\u001b[0msteps\u001b[0m\u001b[0;34m(\u001b[0m\u001b[0;34m)\u001b[0m\u001b[0;34m:\u001b[0m\u001b[0;34m\u001b[0m\u001b[0;34m\u001b[0m\u001b[0m\n",
      "\u001b[0;32m~/Library/Caches/pypoetry/virtualenvs/name-transliteration-sfy7S-9L-py3.8/lib/python3.8/site-packages/tensorflow/python/keras/engine/data_adapter.py\u001b[0m in \u001b[0;36menumerate_epochs\u001b[0;34m(self)\u001b[0m\n\u001b[1;32m   1131\u001b[0m     \u001b[0;34m\"\"\"Yields `(epoch, tf.data.Iterator)`.\"\"\"\u001b[0m\u001b[0;34m\u001b[0m\u001b[0;34m\u001b[0m\u001b[0m\n\u001b[1;32m   1132\u001b[0m     \u001b[0;32mwith\u001b[0m \u001b[0mself\u001b[0m\u001b[0;34m.\u001b[0m\u001b[0m_truncate_execution_to_epoch\u001b[0m\u001b[0;34m(\u001b[0m\u001b[0;34m)\u001b[0m\u001b[0;34m:\u001b[0m\u001b[0;34m\u001b[0m\u001b[0;34m\u001b[0m\u001b[0m\n\u001b[0;32m-> 1133\u001b[0;31m       \u001b[0mdata_iterator\u001b[0m \u001b[0;34m=\u001b[0m \u001b[0miter\u001b[0m\u001b[0;34m(\u001b[0m\u001b[0mself\u001b[0m\u001b[0;34m.\u001b[0m\u001b[0m_dataset\u001b[0m\u001b[0;34m)\u001b[0m\u001b[0;34m\u001b[0m\u001b[0;34m\u001b[0m\u001b[0m\n\u001b[0m\u001b[1;32m   1134\u001b[0m       \u001b[0;32mfor\u001b[0m \u001b[0mepoch\u001b[0m \u001b[0;32min\u001b[0m \u001b[0mrange\u001b[0m\u001b[0;34m(\u001b[0m\u001b[0mself\u001b[0m\u001b[0;34m.\u001b[0m\u001b[0m_initial_epoch\u001b[0m\u001b[0;34m,\u001b[0m \u001b[0mself\u001b[0m\u001b[0;34m.\u001b[0m\u001b[0m_epochs\u001b[0m\u001b[0;34m)\u001b[0m\u001b[0;34m:\u001b[0m\u001b[0;34m\u001b[0m\u001b[0;34m\u001b[0m\u001b[0m\n\u001b[1;32m   1135\u001b[0m         \u001b[0;32mif\u001b[0m \u001b[0mself\u001b[0m\u001b[0;34m.\u001b[0m\u001b[0m_insufficient_data\u001b[0m\u001b[0;34m:\u001b[0m  \u001b[0;31m# Set by `catch_stop_iteration`.\u001b[0m\u001b[0;34m\u001b[0m\u001b[0;34m\u001b[0m\u001b[0m\n",
      "\u001b[0;32m~/Library/Caches/pypoetry/virtualenvs/name-transliteration-sfy7S-9L-py3.8/lib/python3.8/site-packages/tensorflow/python/data/ops/dataset_ops.py\u001b[0m in \u001b[0;36m__iter__\u001b[0;34m(self)\u001b[0m\n\u001b[1;32m    420\u001b[0m     \u001b[0;32mif\u001b[0m \u001b[0mcontext\u001b[0m\u001b[0;34m.\u001b[0m\u001b[0mexecuting_eagerly\u001b[0m\u001b[0;34m(\u001b[0m\u001b[0;34m)\u001b[0m \u001b[0;32mor\u001b[0m \u001b[0mops\u001b[0m\u001b[0;34m.\u001b[0m\u001b[0minside_function\u001b[0m\u001b[0;34m(\u001b[0m\u001b[0;34m)\u001b[0m\u001b[0;34m:\u001b[0m\u001b[0;34m\u001b[0m\u001b[0;34m\u001b[0m\u001b[0m\n\u001b[1;32m    421\u001b[0m       \u001b[0;32mwith\u001b[0m \u001b[0mops\u001b[0m\u001b[0;34m.\u001b[0m\u001b[0mcolocate_with\u001b[0m\u001b[0;34m(\u001b[0m\u001b[0mself\u001b[0m\u001b[0;34m.\u001b[0m\u001b[0m_variant_tensor\u001b[0m\u001b[0;34m)\u001b[0m\u001b[0;34m:\u001b[0m\u001b[0;34m\u001b[0m\u001b[0;34m\u001b[0m\u001b[0m\n\u001b[0;32m--> 422\u001b[0;31m         \u001b[0;32mreturn\u001b[0m \u001b[0miterator_ops\u001b[0m\u001b[0;34m.\u001b[0m\u001b[0mOwnedIterator\u001b[0m\u001b[0;34m(\u001b[0m\u001b[0mself\u001b[0m\u001b[0;34m)\u001b[0m\u001b[0;34m\u001b[0m\u001b[0;34m\u001b[0m\u001b[0m\n\u001b[0m\u001b[1;32m    423\u001b[0m     \u001b[0;32melse\u001b[0m\u001b[0;34m:\u001b[0m\u001b[0;34m\u001b[0m\u001b[0;34m\u001b[0m\u001b[0m\n\u001b[1;32m    424\u001b[0m       raise RuntimeError(\"__iter__() is only supported inside of tf.function \"\n",
      "\u001b[0;32m~/Library/Caches/pypoetry/virtualenvs/name-transliteration-sfy7S-9L-py3.8/lib/python3.8/site-packages/tensorflow/python/data/ops/iterator_ops.py\u001b[0m in \u001b[0;36m__init__\u001b[0;34m(self, dataset, components, element_spec)\u001b[0m\n\u001b[1;32m    680\u001b[0m       \u001b[0;32mif\u001b[0m \u001b[0;34m(\u001b[0m\u001b[0mcomponents\u001b[0m \u001b[0;32mis\u001b[0m \u001b[0;32mnot\u001b[0m \u001b[0;32mNone\u001b[0m \u001b[0;32mor\u001b[0m \u001b[0melement_spec\u001b[0m \u001b[0;32mis\u001b[0m \u001b[0;32mnot\u001b[0m \u001b[0;32mNone\u001b[0m\u001b[0;34m)\u001b[0m\u001b[0;34m:\u001b[0m\u001b[0;34m\u001b[0m\u001b[0;34m\u001b[0m\u001b[0m\n\u001b[1;32m    681\u001b[0m         \u001b[0;32mraise\u001b[0m \u001b[0mValueError\u001b[0m\u001b[0;34m(\u001b[0m\u001b[0merror_message\u001b[0m\u001b[0;34m)\u001b[0m\u001b[0;34m\u001b[0m\u001b[0;34m\u001b[0m\u001b[0m\n\u001b[0;32m--> 682\u001b[0;31m       \u001b[0mself\u001b[0m\u001b[0;34m.\u001b[0m\u001b[0m_create_iterator\u001b[0m\u001b[0;34m(\u001b[0m\u001b[0mdataset\u001b[0m\u001b[0;34m)\u001b[0m\u001b[0;34m\u001b[0m\u001b[0;34m\u001b[0m\u001b[0m\n\u001b[0m\u001b[1;32m    683\u001b[0m \u001b[0;34m\u001b[0m\u001b[0m\n\u001b[1;32m    684\u001b[0m   \u001b[0;32mdef\u001b[0m \u001b[0m_create_iterator\u001b[0m\u001b[0;34m(\u001b[0m\u001b[0mself\u001b[0m\u001b[0;34m,\u001b[0m \u001b[0mdataset\u001b[0m\u001b[0;34m)\u001b[0m\u001b[0;34m:\u001b[0m\u001b[0;34m\u001b[0m\u001b[0;34m\u001b[0m\u001b[0m\n",
      "\u001b[0;32m~/Library/Caches/pypoetry/virtualenvs/name-transliteration-sfy7S-9L-py3.8/lib/python3.8/site-packages/tensorflow/python/data/ops/iterator_ops.py\u001b[0m in \u001b[0;36m_create_iterator\u001b[0;34m(self, dataset)\u001b[0m\n\u001b[1;32m    703\u001b[0m               \u001b[0moutput_types\u001b[0m\u001b[0;34m=\u001b[0m\u001b[0mself\u001b[0m\u001b[0;34m.\u001b[0m\u001b[0m_flat_output_types\u001b[0m\u001b[0;34m,\u001b[0m\u001b[0;34m\u001b[0m\u001b[0;34m\u001b[0m\u001b[0m\n\u001b[1;32m    704\u001b[0m               output_shapes=self._flat_output_shapes))\n\u001b[0;32m--> 705\u001b[0;31m       \u001b[0mgen_dataset_ops\u001b[0m\u001b[0;34m.\u001b[0m\u001b[0mmake_iterator\u001b[0m\u001b[0;34m(\u001b[0m\u001b[0mds_variant\u001b[0m\u001b[0;34m,\u001b[0m \u001b[0mself\u001b[0m\u001b[0;34m.\u001b[0m\u001b[0m_iterator_resource\u001b[0m\u001b[0;34m)\u001b[0m\u001b[0;34m\u001b[0m\u001b[0;34m\u001b[0m\u001b[0m\n\u001b[0m\u001b[1;32m    706\u001b[0m       \u001b[0;31m# Delete the resource when this object is deleted\u001b[0m\u001b[0;34m\u001b[0m\u001b[0;34m\u001b[0m\u001b[0;34m\u001b[0m\u001b[0m\n\u001b[1;32m    707\u001b[0m       self._resource_deleter = IteratorResourceDeleter(\n",
      "\u001b[0;32m~/Library/Caches/pypoetry/virtualenvs/name-transliteration-sfy7S-9L-py3.8/lib/python3.8/site-packages/tensorflow/python/ops/gen_dataset_ops.py\u001b[0m in \u001b[0;36mmake_iterator\u001b[0;34m(dataset, iterator, name)\u001b[0m\n\u001b[1;32m   2969\u001b[0m   \u001b[0;32mif\u001b[0m \u001b[0mtld\u001b[0m\u001b[0;34m.\u001b[0m\u001b[0mis_eager\u001b[0m\u001b[0;34m:\u001b[0m\u001b[0;34m\u001b[0m\u001b[0;34m\u001b[0m\u001b[0m\n\u001b[1;32m   2970\u001b[0m     \u001b[0;32mtry\u001b[0m\u001b[0;34m:\u001b[0m\u001b[0;34m\u001b[0m\u001b[0;34m\u001b[0m\u001b[0m\n\u001b[0;32m-> 2971\u001b[0;31m       _result = pywrap_tfe.TFE_Py_FastPathExecute(\n\u001b[0m\u001b[1;32m   2972\u001b[0m         _ctx, \"MakeIterator\", name, dataset, iterator)\n\u001b[1;32m   2973\u001b[0m       \u001b[0;32mreturn\u001b[0m \u001b[0m_result\u001b[0m\u001b[0;34m\u001b[0m\u001b[0;34m\u001b[0m\u001b[0m\n",
      "\u001b[0;31mKeyboardInterrupt\u001b[0m: "
     ]
    }
   ],
   "source": [
    "training_set_A[\"conf\"] = training_set_A[\"username\"].apply(predict_confidence, args=(trainer_and_tester2,))"
   ]
  },
  {
   "cell_type": "code",
   "execution_count": 29,
   "id": "b690cb4d",
   "metadata": {},
   "outputs": [
    {
     "name": "stdout",
     "output_type": "stream",
     "text": [
      "CPU times: user 1.07 s, sys: 112 ms, total: 1.18 s\n",
      "Wall time: 1.22 s\n"
     ]
    }
   ],
   "source": [
    "%%time\n",
    "for i in range(10):\n",
    "    trainer_and_tester2.predict('zigo aku')"
   ]
  },
  {
   "cell_type": "code",
   "execution_count": 34,
   "id": "e02cdf2a",
   "metadata": {},
   "outputs": [
    {
     "name": "stdout",
     "output_type": "stream",
     "text": [
      "CPU times: user 2.08 s, sys: 90.9 ms, total: 2.17 s\n",
      "Wall time: 2.14 s\n"
     ]
    }
   ],
   "source": [
    "%%time\n",
    "for i in range(20):\n",
    "    trainer_and_tester2.predict('zigo aku')"
   ]
  },
  {
   "cell_type": "code",
   "execution_count": 33,
   "id": "a3873580",
   "metadata": {},
   "outputs": [
    {
     "name": "stdout",
     "output_type": "stream",
     "text": [
      "CPU times: user 5.1 s, sys: 248 ms, total: 5.35 s\n",
      "Wall time: 5.26 s\n"
     ]
    }
   ],
   "source": [
    "%%time\n",
    "for i in range(50):\n",
    "    trainer_and_tester2.predict('zigo aku')"
   ]
  },
  {
   "cell_type": "code",
   "execution_count": 35,
   "id": "5e44658b",
   "metadata": {},
   "outputs": [
    {
     "name": "stdout",
     "output_type": "stream",
     "text": [
      "CPU times: user 10.1 s, sys: 377 ms, total: 10.5 s\n",
      "Wall time: 10.2 s\n"
     ]
    }
   ],
   "source": [
    "%%time\n",
    "for i in range(100):\n",
    "    trainer_and_tester2.predict('zigo aku')"
   ]
  },
  {
   "cell_type": "code",
   "execution_count": 36,
   "id": "62e1f222",
   "metadata": {},
   "outputs": [
    {
     "data": {
      "text/plain": [
       "7.3693888888888885"
      ]
     },
     "execution_count": 36,
     "metadata": {},
     "output_type": "execute_result"
    }
   ],
   "source": [
    "265298/10/60/60"
   ]
  },
  {
   "cell_type": "code",
   "execution_count": 45,
   "id": "732eb2d2",
   "metadata": {},
   "outputs": [],
   "source": [
    "test_encoder_input, test_decoder_input, test_decoder_output = trainer_and_tester.processData('small_names.txt')"
   ]
  },
  {
   "cell_type": "code",
   "execution_count": 46,
   "id": "ab298875",
   "metadata": {},
   "outputs": [
    {
     "data": {
      "text/plain": [
       "array([[[0., 0., 0., ..., 0., 0., 0.],\n",
       "        [0., 0., 0., ..., 0., 0., 0.],\n",
       "        [0., 0., 0., ..., 0., 0., 0.],\n",
       "        ...,\n",
       "        [1., 0., 0., ..., 0., 0., 0.],\n",
       "        [1., 0., 0., ..., 0., 0., 0.],\n",
       "        [1., 0., 0., ..., 0., 0., 0.]],\n",
       "\n",
       "       [[0., 0., 0., ..., 0., 0., 0.],\n",
       "        [0., 0., 0., ..., 0., 0., 0.],\n",
       "        [1., 0., 0., ..., 0., 0., 0.],\n",
       "        ...,\n",
       "        [1., 0., 0., ..., 0., 0., 0.],\n",
       "        [1., 0., 0., ..., 0., 0., 0.],\n",
       "        [1., 0., 0., ..., 0., 0., 0.]],\n",
       "\n",
       "       [[0., 0., 0., ..., 0., 0., 0.],\n",
       "        [1., 0., 0., ..., 0., 0., 0.],\n",
       "        [0., 0., 0., ..., 0., 0., 0.],\n",
       "        ...,\n",
       "        [1., 0., 0., ..., 0., 0., 0.],\n",
       "        [1., 0., 0., ..., 0., 0., 0.],\n",
       "        [1., 0., 0., ..., 0., 0., 0.]],\n",
       "\n",
       "       ...,\n",
       "\n",
       "       [[0., 0., 0., ..., 0., 0., 0.],\n",
       "        [0., 0., 0., ..., 0., 0., 0.],\n",
       "        [0., 0., 0., ..., 0., 0., 0.],\n",
       "        ...,\n",
       "        [1., 0., 0., ..., 0., 0., 0.],\n",
       "        [1., 0., 0., ..., 0., 0., 0.],\n",
       "        [1., 0., 0., ..., 0., 0., 0.]],\n",
       "\n",
       "       [[0., 0., 0., ..., 0., 0., 0.],\n",
       "        [0., 1., 0., ..., 0., 0., 0.],\n",
       "        [0., 0., 0., ..., 0., 0., 0.],\n",
       "        ...,\n",
       "        [1., 0., 0., ..., 0., 0., 0.],\n",
       "        [1., 0., 0., ..., 0., 0., 0.],\n",
       "        [1., 0., 0., ..., 0., 0., 0.]],\n",
       "\n",
       "       [[0., 0., 0., ..., 0., 0., 0.],\n",
       "        [0., 0., 0., ..., 0., 0., 0.],\n",
       "        [0., 0., 0., ..., 0., 0., 0.],\n",
       "        ...,\n",
       "        [1., 0., 0., ..., 0., 0., 0.],\n",
       "        [1., 0., 0., ..., 0., 0., 0.],\n",
       "        [1., 0., 0., ..., 0., 0., 0.]]], dtype=float32)"
      ]
     },
     "execution_count": 46,
     "metadata": {},
     "output_type": "execute_result"
    }
   ],
   "source": [
    "test_encoder_input"
   ]
  },
  {
   "cell_type": "code",
   "execution_count": 48,
   "id": "0a5d422d",
   "metadata": {},
   "outputs": [],
   "source": [
    "prediction = trainer_and_tester.model.predict([test_encoder_input, test_decoder_input])"
   ]
  },
  {
   "cell_type": "code",
   "execution_count": 68,
   "id": "44dd83c7",
   "metadata": {},
   "outputs": [
    {
     "data": {
      "text/plain": [
       "<tensorflow.python.keras.engine.functional.Functional at 0x182e7bf40>"
      ]
     },
     "execution_count": 68,
     "metadata": {},
     "output_type": "execute_result"
    }
   ],
   "source": [
    "trainer_and_tester.model"
   ]
  },
  {
   "cell_type": "code",
   "execution_count": 101,
   "id": "edaccf06",
   "metadata": {},
   "outputs": [
    {
     "data": {
      "text/plain": [
       "('あくち\\n', 0.16680214)"
      ]
     },
     "execution_count": 101,
     "metadata": {},
     "output_type": "execute_result"
    }
   ],
   "source": [
    "trainer_and_tester.predict(\"oharafumi\")"
   ]
  },
  {
   "cell_type": "code",
   "execution_count": 111,
   "id": "b693bc42",
   "metadata": {},
   "outputs": [
    {
     "data": {
      "text/plain": [
       "' '"
      ]
     },
     "execution_count": 111,
     "metadata": {},
     "output_type": "execute_result"
    }
   ],
   "source": [
    "trainer_and_tester.reverse_target_char_index[0]"
   ]
  },
  {
   "cell_type": "code",
   "execution_count": 113,
   "id": "ef6fd485",
   "metadata": {},
   "outputs": [
    {
     "name": "stdout",
     "output_type": "stream",
     "text": [
      "42\n",
      "42\n",
      "42\n",
      "42\n",
      "42\n",
      "42\n",
      "42\n"
     ]
    }
   ],
   "source": [
    "prob_list = []\n",
    "for i in range(len(prediction)):\n",
    "    char_idx = np.argmax(prediction[i,0,:])\n",
    "    print(char_idx)\n",
    "#     j = 1\n",
    "#     while char_idx != 0:\n",
    "#         char_idx = np.argmax(prediction[i,j,:])\n",
    "#         print(char_idx)\n",
    "    "
   ]
  },
  {
   "cell_type": "code",
   "execution_count": 79,
   "id": "1578633a",
   "metadata": {},
   "outputs": [
    {
     "data": {
      "text/plain": [
       "0.9899092"
      ]
     },
     "execution_count": 79,
     "metadata": {},
     "output_type": "execute_result"
    }
   ],
   "source": [
    "prediction[0,5,0]"
   ]
  },
  {
   "cell_type": "code",
   "execution_count": 64,
   "id": "6b1a8384",
   "metadata": {
    "scrolled": true
   },
   "outputs": [
    {
     "data": {
      "text/plain": [
       "array([[[8.3742070e-06, 1.4098549e-06, 6.5861754e-03, ...,\n",
       "         1.3929487e-06, 1.3458267e-06, 1.3111600e-06],\n",
       "        [3.7974369e-04, 8.7453395e-07, 1.7892161e-02, ...,\n",
       "         9.0219305e-07, 9.1668733e-07, 8.6946778e-07],\n",
       "        [2.0483108e-03, 5.9531010e-07, 1.1048008e-02, ...,\n",
       "         6.6449655e-07, 6.2310545e-07, 5.8859285e-07],\n",
       "        ...,\n",
       "        [9.9999952e-01, 3.4604161e-13, 2.7603728e-10, ...,\n",
       "         3.6542796e-13, 3.3970927e-13, 3.3975074e-13],\n",
       "        [9.9999952e-01, 3.4598550e-13, 2.7601357e-10, ...,\n",
       "         3.6530045e-13, 3.3962506e-13, 3.3969501e-13],\n",
       "        [9.9999952e-01, 3.4592481e-13, 2.7598673e-10, ...,\n",
       "         3.6517507e-13, 3.3954084e-13, 3.3963864e-13]],\n",
       "\n",
       "       [[2.5005045e-03, 2.6287576e-06, 3.9306772e-03, ...,\n",
       "         2.6972739e-06, 2.8987240e-06, 2.6490445e-06],\n",
       "        [2.5983499e-02, 9.0083904e-07, 4.4184611e-03, ...,\n",
       "         7.9166932e-07, 9.6195356e-07, 8.6236685e-07],\n",
       "        [1.4645259e-01, 3.5979941e-08, 3.9797407e-04, ...,\n",
       "         3.7502524e-08, 3.5116646e-08, 3.3525097e-08],\n",
       "        ...,\n",
       "        [9.9999952e-01, 3.4706813e-13, 2.7686564e-10, ...,\n",
       "         3.6636663e-13, 3.4048640e-13, 3.4060981e-13],\n",
       "        [9.9999952e-01, 3.4689607e-13, 2.7674421e-10, ...,\n",
       "         3.6612773e-13, 3.4030981e-13, 3.4045523e-13],\n",
       "        [9.9999952e-01, 3.4672807e-13, 2.7662705e-10, ...,\n",
       "         3.6589945e-13, 3.4014236e-13, 3.4030461e-13]],\n",
       "\n",
       "       [[5.9916871e-05, 8.8301732e-07, 5.4043503e-03, ...,\n",
       "         9.2981742e-07, 9.1482065e-07, 8.9488253e-07],\n",
       "        [1.7532542e-03, 1.0315242e-06, 1.2150825e-02, ...,\n",
       "         1.0203256e-06, 1.1280154e-06, 1.0877491e-06],\n",
       "        [1.5475099e-02, 5.8179762e-07, 3.8177771e-03, ...,\n",
       "         5.5789059e-07, 5.8100142e-07, 5.5304406e-07],\n",
       "        ...,\n",
       "        [9.9999952e-01, 3.4595251e-13, 2.7576416e-10, ...,\n",
       "         3.6526213e-13, 3.3953954e-13, 3.3954732e-13],\n",
       "        [9.9999952e-01, 3.4588654e-13, 2.7574629e-10, ...,\n",
       "         3.6513327e-13, 3.3945150e-13, 3.3949292e-13],\n",
       "        [9.9999952e-01, 3.4582190e-13, 2.7572419e-10, ...,\n",
       "         3.6500794e-13, 3.3937122e-13, 3.3943725e-13]],\n",
       "\n",
       "       ...,\n",
       "\n",
       "       [[7.4665826e-05, 9.5655628e-07, 5.2526542e-03, ...,\n",
       "         1.0129500e-06, 9.9195859e-07, 9.6561746e-07],\n",
       "        [1.9087842e-03, 5.8118832e-07, 1.1744892e-02, ...,\n",
       "         5.5921072e-07, 6.1442478e-07, 5.9101899e-07],\n",
       "        [7.7273999e-03, 1.8179801e-07, 2.8671452e-03, ...,\n",
       "         1.6821602e-07, 1.7253787e-07, 1.6646695e-07],\n",
       "        ...,\n",
       "        [9.9999952e-01, 3.4533940e-13, 2.7530012e-10, ...,\n",
       "         3.6466069e-13, 3.3910656e-13, 3.3900763e-13],\n",
       "        [9.9999952e-01, 3.4531438e-13, 2.7530853e-10, ...,\n",
       "         3.6457165e-13, 3.3904644e-13, 3.3898952e-13],\n",
       "        [9.9999952e-01, 3.4528738e-13, 2.7531480e-10, ...,\n",
       "         3.6448684e-13, 3.3898952e-13, 3.3896882e-13]],\n",
       "\n",
       "       [[2.7110751e-05, 1.0695640e-06, 5.9167799e-03, ...,\n",
       "         1.1107491e-06, 1.1118333e-06, 1.0811607e-06],\n",
       "        [1.2681487e-03, 7.8571412e-07, 1.4341043e-02, ...,\n",
       "         7.8367941e-07, 8.3146631e-07, 8.2461895e-07],\n",
       "        [2.9130777e-02, 5.4423839e-07, 4.1661048e-03, ...,\n",
       "         5.2917784e-07, 5.4217918e-07, 5.1850975e-07],\n",
       "        ...,\n",
       "        [9.9999952e-01, 3.4473788e-13, 2.7455757e-10, ...,\n",
       "         3.6408384e-13, 3.3849654e-13, 3.3832035e-13],\n",
       "        [9.9999952e-01, 3.4474512e-13, 2.7460628e-10, ...,\n",
       "         3.6402484e-13, 3.3847138e-13, 3.3833580e-13],\n",
       "        [9.9999952e-01, 3.4474710e-13, 2.7464767e-10, ...,\n",
       "         3.6396512e-13, 3.3844555e-13, 3.3835001e-13]],\n",
       "\n",
       "       [[6.4835406e-04, 1.6627907e-06, 4.2302022e-03, ...,\n",
       "         1.8080917e-06, 1.8071626e-06, 1.6973597e-06],\n",
       "        [6.8034385e-03, 9.8094381e-07, 6.7668692e-03, ...,\n",
       "         8.5611106e-07, 1.0272706e-06, 9.2693381e-07],\n",
       "        [1.1402255e-02, 3.9520316e-08, 5.5941002e-04, ...,\n",
       "         3.7613788e-08, 3.6400458e-08, 3.5061372e-08],\n",
       "        ...,\n",
       "        [9.9999952e-01, 3.4600136e-13, 2.7591990e-10, ...,\n",
       "         3.6524402e-13, 3.3963219e-13, 3.3965419e-13],\n",
       "        [9.9999952e-01, 3.4591427e-13, 2.7587252e-10, ...,\n",
       "         3.6509635e-13, 3.3952401e-13, 3.3957453e-13],\n",
       "        [9.9999952e-01, 3.4582718e-13, 2.7582517e-10, ...,\n",
       "         3.6495432e-13, 3.3942171e-13, 3.3949682e-13]]], dtype=float32)"
      ]
     },
     "execution_count": 64,
     "metadata": {},
     "output_type": "execute_result"
    }
   ],
   "source": [
    "prediction"
   ]
  },
  {
   "cell_type": "code",
   "execution_count": 69,
   "id": "12bb0f5f",
   "metadata": {},
   "outputs": [
    {
     "name": "stdout",
     "output_type": "stream",
     "text": [
      "Model: \"model\"\n",
      "__________________________________________________________________________________________________\n",
      "Layer (type)                    Output Shape         Param #     Connected to                     \n",
      "==================================================================================================\n",
      "input_1 (InputLayer)            [(None, None, 27)]   0                                            \n",
      "__________________________________________________________________________________________________\n",
      "input_2 (InputLayer)            [(None, None, 2972)] 0                                            \n",
      "__________________________________________________________________________________________________\n",
      "lstm (LSTM)                     [(None, 256), (None, 290816      input_1[0][0]                    \n",
      "__________________________________________________________________________________________________\n",
      "lstm_1 (LSTM)                   [(None, None, 256),  3306496     input_2[0][0]                    \n",
      "                                                                 lstm[0][1]                       \n",
      "                                                                 lstm[0][2]                       \n",
      "__________________________________________________________________________________________________\n",
      "dense (Dense)                   (None, None, 2972)   763804      lstm_1[0][0]                     \n",
      "==================================================================================================\n",
      "Total params: 4,361,116\n",
      "Trainable params: 4,361,116\n",
      "Non-trainable params: 0\n",
      "__________________________________________________________________________________________________\n"
     ]
    }
   ],
   "source": [
    "trainer_and_tester.model.summary()"
   ]
  },
  {
   "cell_type": "code",
   "execution_count": null,
   "id": "a7eef0a5",
   "metadata": {},
   "outputs": [],
   "source": []
  }
 ],
 "metadata": {
  "kernelspec": {
   "display_name": "Python 3",
   "language": "python",
   "name": "python3"
  },
  "language_info": {
   "codemirror_mode": {
    "name": "ipython",
    "version": 3
   },
   "file_extension": ".py",
   "mimetype": "text/x-python",
   "name": "python",
   "nbconvert_exporter": "python",
   "pygments_lexer": "ipython3",
   "version": "3.8.2"
  }
 },
 "nbformat": 4,
 "nbformat_minor": 5
}
