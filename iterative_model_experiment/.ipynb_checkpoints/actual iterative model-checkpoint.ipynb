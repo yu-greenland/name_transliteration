{
 "cells": [
  {
   "cell_type": "code",
   "execution_count": 1,
   "id": "f44f455a",
   "metadata": {},
   "outputs": [],
   "source": [
    "language = 'ja'\n",
    "import name_transliteration.filtering as filter\n",
    "import name_transliteration.cleansing as cleanse\n",
    "import name_transliteration.model_trainer_and_tester as model_trainer_and_tester"
   ]
  },
  {
   "cell_type": "code",
   "execution_count": 2,
   "id": "6dc75682",
   "metadata": {},
   "outputs": [
    {
     "name": "stdout",
     "output_type": "stream",
     "text": [
      "./data/stream-2021-03-07T03:05:07.831679.gz\n",
      "./data/stream-2021-01-13T01:21:29.804195.gz\n",
      "./data/stream-2021-01-13T04:07:46.253913.gz\n",
      "./data/stream-2021-01-12T23:08:30.828340.gz\n",
      "./data/stream-2021-01-13T03:38:20.383129.gz\n"
     ]
    }
   ],
   "source": [
    "# filter testing and training data\n",
    "my_filter = filter.Filter(language)\n",
    "my_filter.filterData(\"./data/\",5)\n",
    "\n",
    "# split filtered data into two sets\n",
    "filtered_set_A = my_filter.getDataFrame().iloc[:int(len(my_filter.getDataFrame())/2)]\n",
    "filtered_set_B = my_filter.getDataFrame().iloc[int(len(my_filter.getDataFrame())/2):]"
   ]
  },
  {
   "cell_type": "code",
   "execution_count": 3,
   "id": "f0c114e2",
   "metadata": {},
   "outputs": [],
   "source": [
    "# instantiate the cleanser\n",
    "my_cleanser = cleanse.Cleanser()\n",
    "\n",
    "# perform pre-processing on set B and save\n",
    "filtered_set_B[\"username\"] = filtered_set_B[\"username\"].apply(my_cleanser.transformUserName)\n",
    "filtered_set_B = filtered_set_B[['username','screen_name']]\n",
    "filtered_set_B.to_csv('filtered_set_B.txt', header=None, index=None, sep='\\t', mode='w')"
   ]
  },
  {
   "cell_type": "code",
   "execution_count": 4,
   "id": "8593340f",
   "metadata": {},
   "outputs": [
    {
     "name": "stdout",
     "output_type": "stream",
     "text": [
      "Saved cleansed names as: \n",
      "train_10_edit_distance_language_cleansed.txt 909 number of rows. \n",
      "test1_cleansed.txt 150 number of rows. \n",
      "test2_cleansed.txt 215 number of rows. \n",
      "test3_cleansed.txt 430 number of rows. \n",
      "\n"
     ]
    }
   ],
   "source": [
    "\n",
    "# the split data is uncleansed btw\n",
    "my_cleanser.splitTrainTest(filtered_set_A)\n",
    "\n",
    "# this does the cleansing of the test datasets\n",
    "my_cleanser.createTestDataSets()\n",
    "# this does the cleansing of the training dataset\n",
    "my_cleanser.createTrainDataSet(edit_threshold = 0.3)\n",
    "# save cleansed test and train files\n",
    "my_cleanser.saveTestAndTrain()"
   ]
  },
  {
   "cell_type": "code",
   "execution_count": 5,
   "id": "5cd06dae",
   "metadata": {
    "scrolled": true
   },
   "outputs": [
    {
     "name": "stdout",
     "output_type": "stream",
     "text": [
      "Number of unique input tokens: 27\n",
      "Number of unique output tokens: 2972\n",
      "Max sequence length for inputs: 22\n",
      "Max sequence length for outputs: 51\n",
      "Epoch 1/20\n",
      "23/23 [==============================] - 16s 556ms/step - loss: 3.6238 - accuracy: 0.7667 - val_loss: 0.4956 - val_accuracy: 0.9175\n",
      "Epoch 2/20\n",
      "23/23 [==============================] - 11s 467ms/step - loss: 0.4817 - accuracy: 0.9133 - val_loss: 0.4779 - val_accuracy: 0.9175\n",
      "Epoch 3/20\n",
      "23/23 [==============================] - 10s 458ms/step - loss: 0.4543 - accuracy: 0.9144 - val_loss: 0.4685 - val_accuracy: 0.9174\n",
      "Epoch 4/20\n",
      "23/23 [==============================] - 10s 450ms/step - loss: 0.4415 - accuracy: 0.9161 - val_loss: 0.4618 - val_accuracy: 0.9175\n",
      "Epoch 5/20\n",
      "23/23 [==============================] - 10s 452ms/step - loss: 0.4247 - accuracy: 0.9161 - val_loss: 0.4727 - val_accuracy: 0.9181\n",
      "Epoch 6/20\n",
      "23/23 [==============================] - 10s 447ms/step - loss: 0.4361 - accuracy: 0.9148 - val_loss: 0.4647 - val_accuracy: 0.9177\n",
      "Epoch 7/20\n",
      "23/23 [==============================] - 11s 471ms/step - loss: 0.4178 - accuracy: 0.9166 - val_loss: 0.4656 - val_accuracy: 0.9202\n",
      "Epoch 8/20\n",
      "23/23 [==============================] - 10s 448ms/step - loss: 0.4169 - accuracy: 0.9179 - val_loss: 0.4641 - val_accuracy: 0.9206\n",
      "Epoch 9/20\n",
      "23/23 [==============================] - 10s 447ms/step - loss: 0.4096 - accuracy: 0.9186 - val_loss: 0.4587 - val_accuracy: 0.9228\n",
      "Epoch 10/20\n",
      "23/23 [==============================] - 10s 435ms/step - loss: 0.4148 - accuracy: 0.9192 - val_loss: 0.4755 - val_accuracy: 0.9197\n",
      "Epoch 11/20\n",
      "23/23 [==============================] - 10s 440ms/step - loss: 0.4099 - accuracy: 0.9198 - val_loss: 0.4596 - val_accuracy: 0.9238\n",
      "Epoch 12/20\n",
      "23/23 [==============================] - 10s 449ms/step - loss: 0.3993 - accuracy: 0.9230 - val_loss: 0.4600 - val_accuracy: 0.9220\n",
      "Epoch 13/20\n",
      "23/23 [==============================] - 10s 454ms/step - loss: 0.3894 - accuracy: 0.9251 - val_loss: 0.4476 - val_accuracy: 0.9280\n",
      "Epoch 14/20\n",
      "23/23 [==============================] - 10s 443ms/step - loss: 0.3889 - accuracy: 0.9244 - val_loss: 0.4428 - val_accuracy: 0.9301\n",
      "Epoch 15/20\n",
      "23/23 [==============================] - 10s 433ms/step - loss: 0.3803 - accuracy: 0.9279 - val_loss: 0.4464 - val_accuracy: 0.9301\n",
      "Epoch 16/20\n",
      "23/23 [==============================] - 10s 432ms/step - loss: 0.3733 - accuracy: 0.9284 - val_loss: 0.4437 - val_accuracy: 0.9260\n",
      "Epoch 17/20\n",
      "23/23 [==============================] - 10s 437ms/step - loss: 0.3843 - accuracy: 0.9264 - val_loss: 0.4354 - val_accuracy: 0.9322\n",
      "Epoch 18/20\n",
      "23/23 [==============================] - 10s 440ms/step - loss: 0.3802 - accuracy: 0.9267 - val_loss: 0.4595 - val_accuracy: 0.9260\n",
      "Epoch 19/20\n",
      "23/23 [==============================] - 10s 443ms/step - loss: 0.3664 - accuracy: 0.9299 - val_loss: 0.4415 - val_accuracy: 0.9302\n",
      "Epoch 20/20\n",
      "23/23 [==============================] - 10s 436ms/step - loss: 0.3672 - accuracy: 0.9305 - val_loss: 0.4282 - val_accuracy: 0.9324\n"
     ]
    },
    {
     "name": "stderr",
     "output_type": "stream",
     "text": [
      "WARNING:absl:Found untraced functions such as lstm_cell_layer_call_fn, lstm_cell_layer_call_and_return_conditional_losses, lstm_cell_1_layer_call_fn, lstm_cell_1_layer_call_and_return_conditional_losses, lstm_cell_layer_call_fn while saving (showing 5 of 10). These functions will not be directly callable after loading.\n",
      "WARNING:absl:Found untraced functions such as lstm_cell_layer_call_fn, lstm_cell_layer_call_and_return_conditional_losses, lstm_cell_1_layer_call_fn, lstm_cell_1_layer_call_and_return_conditional_losses, lstm_cell_layer_call_fn while saving (showing 5 of 10). These functions will not be directly callable after loading.\n",
      "INFO:tensorflow:Assets written to: ja_model_20/assets\n"
     ]
    }
   ],
   "source": [
    "# train model and save model 1\n",
    "trainer_and_tester = model_trainer_and_tester.ModelTrainerAndTester(\n",
    "    language=language, \n",
    "    epochs=20\n",
    ")\n",
    "trainer_and_tester.determineDimensions(['train_10_edit_distance_language_cleansed.txt', 'test1_cleansed.txt', 'test2_cleansed.txt', 'test3_cleansed.txt', 'filtered_set_B.txt'])\n",
    "train_encode_input, train_decode_input, train_decode_output = trainer_and_tester.processData('train_10_edit_distance_language_cleansed.txt')\n",
    "trainer_and_tester.buildModel()\n",
    "trainer_and_tester.trainModel(language + '_model_'+str(20), train_encode_input, train_decode_input, train_decode_output)\n",
    "trainer_and_tester.createDecoderEncoder(language + '_model_'+str(20))"
   ]
  },
  {
   "cell_type": "code",
   "execution_count": 6,
   "id": "fe283f7a",
   "metadata": {},
   "outputs": [
    {
     "name": "stdout",
     "output_type": "stream",
     "text": [
      "\n",
      "evaluating on test set with 0 edit threshold...\n",
      "5/5 [==============================] - 1s 128ms/step - loss: 0.3786 - accuracy: 0.9374\n",
      "test loss, test acc: [0.37864211201667786, 0.937385618686676]\n",
      "evaluating on test set with 0.1 edit threshold...\n",
      "7/7 [==============================] - 1s 131ms/step - loss: 0.4291 - accuracy: 0.9307\n",
      "test loss, test acc: [0.42912402749061584, 0.9306885600090027]\n",
      "evaluating on test set with 0.25 edit threshold...\n",
      "14/14 [==============================] - 2s 142ms/step - loss: 0.4492 - accuracy: 0.9279\n",
      "test loss, test acc: [0.4492156207561493, 0.9278613924980164]\n"
     ]
    }
   ],
   "source": [
    "trainer_and_tester.evaluateOnTestData(language + '_model_'+str(20))"
   ]
  },
  {
   "cell_type": "code",
   "execution_count": 6,
   "id": "b3a9573a",
   "metadata": {},
   "outputs": [],
   "source": [
    "# encoder_input_data, decoder_input_data, _ = trainer_and_tester.processData('filtered_set_B.txt')"
   ]
  },
  {
   "cell_type": "code",
   "execution_count": 47,
   "id": "94514f84",
   "metadata": {},
   "outputs": [],
   "source": [
    "def predict_confidence(name, model_class):\n",
    "    _, conf = model_class.predict(name)\n",
    "    return conf"
   ]
  },
  {
   "cell_type": "code",
   "execution_count": 17,
   "id": "c9982b5e",
   "metadata": {},
   "outputs": [
    {
     "data": {
      "text/html": [
       "<div>\n",
       "<style scoped>\n",
       "    .dataframe tbody tr th:only-of-type {\n",
       "        vertical-align: middle;\n",
       "    }\n",
       "\n",
       "    .dataframe tbody tr th {\n",
       "        vertical-align: top;\n",
       "    }\n",
       "\n",
       "    .dataframe thead th {\n",
       "        text-align: right;\n",
       "    }\n",
       "</style>\n",
       "<table border=\"1\" class=\"dataframe\">\n",
       "  <thead>\n",
       "    <tr style=\"text-align: right;\">\n",
       "      <th></th>\n",
       "      <th>username</th>\n",
       "      <th>screen_name</th>\n",
       "    </tr>\n",
       "  </thead>\n",
       "  <tbody>\n",
       "    <tr>\n",
       "      <th>25831</th>\n",
       "      <td>oharafumi</td>\n",
       "      <td>ふみ</td>\n",
       "    </tr>\n",
       "    <tr>\n",
       "      <th>25832</th>\n",
       "      <td>gy w</td>\n",
       "      <td>半片</td>\n",
       "    </tr>\n",
       "    <tr>\n",
       "      <th>25833</th>\n",
       "      <td>d op er</td>\n",
       "      <td>リイ</td>\n",
       "    </tr>\n",
       "    <tr>\n",
       "      <th>25834</th>\n",
       "      <td>azumi s goods</td>\n",
       "      <td>アズミ取引垢</td>\n",
       "    </tr>\n",
       "    <tr>\n",
       "      <th>25835</th>\n",
       "      <td>andy</td>\n",
       "      <td>あんじー</td>\n",
       "    </tr>\n",
       "    <tr>\n",
       "      <th>...</th>\n",
       "      <td>...</td>\n",
       "      <td>...</td>\n",
       "    </tr>\n",
       "    <tr>\n",
       "      <th>51658</th>\n",
       "      <td>sir</td>\n",
       "      <td>さー</td>\n",
       "    </tr>\n",
       "    <tr>\n",
       "      <th>51659</th>\n",
       "      <td>jimoto  love</td>\n",
       "      <td>やっぱり地元が一番</td>\n",
       "    </tr>\n",
       "    <tr>\n",
       "      <th>51660</th>\n",
       "      <td>erusyadai lucife</td>\n",
       "      <td>ルシフェル</td>\n",
       "    </tr>\n",
       "    <tr>\n",
       "      <th>51661</th>\n",
       "      <td>japan lawson</td>\n",
       "      <td>ローソン公式返信用アカウント</td>\n",
       "    </tr>\n",
       "    <tr>\n",
       "      <th>51662</th>\n",
       "      <td>susususmum</td>\n",
       "      <td>スススフライト</td>\n",
       "    </tr>\n",
       "  </tbody>\n",
       "</table>\n",
       "<p>25832 rows × 2 columns</p>\n",
       "</div>"
      ],
      "text/plain": [
       "               username     screen_name\n",
       "25831         oharafumi              ふみ\n",
       "25832              gy w              半片\n",
       "25833           d op er              リイ\n",
       "25834     azumi s goods          アズミ取引垢\n",
       "25835              andy            あんじー\n",
       "...                 ...             ...\n",
       "51658               sir              さー\n",
       "51659      jimoto  love       やっぱり地元が一番\n",
       "51660  erusyadai lucife           ルシフェル\n",
       "51661      japan lawson  ローソン公式返信用アカウント\n",
       "51662        susususmum         スススフライト\n",
       "\n",
       "[25832 rows x 2 columns]"
      ]
     },
     "execution_count": 17,
     "metadata": {},
     "output_type": "execute_result"
    }
   ],
   "source": [
    "filtered_set_B"
   ]
  },
  {
   "cell_type": "code",
   "execution_count": 32,
   "id": "63dcfbca",
   "metadata": {},
   "outputs": [],
   "source": [
    "# filtered_set_B[\"conf\"] = filtered_set_B[\"username\"].apply(predict_confidence)\n",
    "# this didn't have the exact same result as the other notebook\n",
    "# filtered_set_B.to_pickle(\"with_confidence_df\")"
   ]
  },
  {
   "cell_type": "code",
   "execution_count": 7,
   "id": "f8c04073",
   "metadata": {},
   "outputs": [],
   "source": [
    "import pandas as pd\n",
    "filtered_set_B = pd.read_pickle(\"with_confidence_df\")"
   ]
  },
  {
   "cell_type": "code",
   "execution_count": 8,
   "id": "3a34354a",
   "metadata": {},
   "outputs": [],
   "source": [
    "cleansed_set_B_95 = filtered_set_B.loc[filtered_set_B['conf'] > 0.95]"
   ]
  },
  {
   "cell_type": "code",
   "execution_count": 10,
   "id": "ca50ab4f",
   "metadata": {},
   "outputs": [],
   "source": [
    "cleansed_set_B_95_just_names = cleansed_set_B_95[['username_pretty','screen_name']]"
   ]
  },
  {
   "cell_type": "code",
   "execution_count": 11,
   "id": "720bf00a",
   "metadata": {},
   "outputs": [],
   "source": [
    "cleansed_set_B_95_just_names.to_csv('model_cleansed_names.txt', header=None, index=None, sep='\\t', mode='w')"
   ]
  },
  {
   "cell_type": "code",
   "execution_count": 15,
   "id": "ed9e89ad",
   "metadata": {
    "scrolled": true
   },
   "outputs": [
    {
     "name": "stdout",
     "output_type": "stream",
     "text": [
      "Number of unique input tokens: 27\n",
      "Number of unique output tokens: 937\n",
      "Max sequence length for inputs: 19\n",
      "Max sequence length for outputs: 43\n",
      "Epoch 1/20\n",
      "21/21 [==============================] - 7s 182ms/step - loss: 3.0594 - accuracy: 0.7142 - val_loss: 0.8921 - val_accuracy: 0.8625\n",
      "Epoch 2/20\n",
      "21/21 [==============================] - 3s 139ms/step - loss: 0.9064 - accuracy: 0.8605 - val_loss: 0.8853 - val_accuracy: 0.8616\n",
      "Epoch 3/20\n",
      "21/21 [==============================] - 3s 141ms/step - loss: 0.9126 - accuracy: 0.8574 - val_loss: 0.8846 - val_accuracy: 0.8657\n",
      "Epoch 4/20\n",
      "21/21 [==============================] - 3s 143ms/step - loss: 0.8359 - accuracy: 0.8674 - val_loss: 0.8757 - val_accuracy: 0.8630\n",
      "Epoch 5/20\n",
      "21/21 [==============================] - 3s 142ms/step - loss: 0.9028 - accuracy: 0.8585 - val_loss: 0.9026 - val_accuracy: 0.8676\n",
      "Epoch 6/20\n",
      "21/21 [==============================] - 3s 142ms/step - loss: 0.8248 - accuracy: 0.8682 - val_loss: 0.8777 - val_accuracy: 0.8633\n",
      "Epoch 7/20\n",
      "21/21 [==============================] - 3s 156ms/step - loss: 0.8599 - accuracy: 0.8587 - val_loss: 0.8813 - val_accuracy: 0.8670\n",
      "Epoch 8/20\n",
      "21/21 [==============================] - 3s 157ms/step - loss: 0.7949 - accuracy: 0.8689 - val_loss: 0.8580 - val_accuracy: 0.8656\n",
      "Epoch 9/20\n",
      "21/21 [==============================] - 3s 145ms/step - loss: 0.7958 - accuracy: 0.8657 - val_loss: 0.8492 - val_accuracy: 0.8656\n",
      "Epoch 10/20\n",
      "21/21 [==============================] - 3s 147ms/step - loss: 0.8010 - accuracy: 0.8649 - val_loss: 0.8397 - val_accuracy: 0.8680\n",
      "Epoch 11/20\n",
      "21/21 [==============================] - 3s 148ms/step - loss: 0.7319 - accuracy: 0.8743 - val_loss: 0.8268 - val_accuracy: 0.8724\n",
      "Epoch 12/20\n",
      "21/21 [==============================] - 3s 147ms/step - loss: 0.7322 - accuracy: 0.8743 - val_loss: 0.8235 - val_accuracy: 0.8759\n",
      "Epoch 13/20\n",
      "21/21 [==============================] - 3s 153ms/step - loss: 0.7324 - accuracy: 0.8719 - val_loss: 0.8176 - val_accuracy: 0.8792\n",
      "Epoch 14/20\n",
      "21/21 [==============================] - 3s 146ms/step - loss: 0.7077 - accuracy: 0.8793 - val_loss: 0.8106 - val_accuracy: 0.8802\n",
      "Epoch 15/20\n",
      "21/21 [==============================] - 3s 149ms/step - loss: 0.6734 - accuracy: 0.8837 - val_loss: 0.8092 - val_accuracy: 0.8802\n",
      "Epoch 16/20\n",
      "21/21 [==============================] - 3s 156ms/step - loss: 0.7558 - accuracy: 0.8689 - val_loss: 0.8011 - val_accuracy: 0.8810\n",
      "Epoch 17/20\n",
      "21/21 [==============================] - 3s 151ms/step - loss: 0.7161 - accuracy: 0.8752 - val_loss: 0.8035 - val_accuracy: 0.8810\n",
      "Epoch 18/20\n",
      "21/21 [==============================] - 3s 151ms/step - loss: 0.6849 - accuracy: 0.8803 - val_loss: 0.8007 - val_accuracy: 0.8803\n",
      "Epoch 19/20\n",
      "21/21 [==============================] - 3s 149ms/step - loss: 0.6729 - accuracy: 0.8804 - val_loss: 0.8070 - val_accuracy: 0.8789\n",
      "Epoch 20/20\n",
      "21/21 [==============================] - 3s 151ms/step - loss: 0.7168 - accuracy: 0.8763 - val_loss: 0.7963 - val_accuracy: 0.8827\n"
     ]
    },
    {
     "name": "stderr",
     "output_type": "stream",
     "text": [
      "WARNING:absl:Found untraced functions such as lstm_cell_10_layer_call_fn, lstm_cell_10_layer_call_and_return_conditional_losses, lstm_cell_11_layer_call_fn, lstm_cell_11_layer_call_and_return_conditional_losses, lstm_cell_10_layer_call_fn while saving (showing 5 of 10). These functions will not be directly callable after loading.\n",
      "WARNING:absl:Found untraced functions such as lstm_cell_10_layer_call_fn, lstm_cell_10_layer_call_and_return_conditional_losses, lstm_cell_11_layer_call_fn, lstm_cell_11_layer_call_and_return_conditional_losses, lstm_cell_10_layer_call_fn while saving (showing 5 of 10). These functions will not be directly callable after loading.\n",
      "INFO:tensorflow:Assets written to: ja_model_20_v2/assets\n"
     ]
    }
   ],
   "source": [
    "# train model 2 and save model 2\n",
    "trainer_and_tester2 = model_trainer_and_tester.ModelTrainerAndTester(\n",
    "    language=language, \n",
    "    epochs=20\n",
    ")\n",
    "# trainer_and_tester2.determineDimensions(['train_10_edit_distance_language_cleansed.txt', 'test1_cleansed.txt', 'test2_cleansed.txt', 'test3_cleansed.txt', 'filtered_set_B.txt','model_cleansed_names.txt'])\n",
    "# train_encode_input, train_decode_input, train_decode_output = trainer_and_tester2.processData('model_cleansed_names.txt')\n",
    "# trainer_and_tester2.buildModel()\n",
    "# trainer_and_tester2.trainModel(language + '_model_'+str(20)+'_v2', train_encode_input, train_decode_input, train_decode_output)\n",
    "# trainer_and_tester2.createDecoderEncoder(language + '_model_'+str(20)+'_v2')\n",
    "\n",
    "trainer_and_tester2.runWholeTrainProcess('model_cleansed_names.txt', 'ja_model_20_v2')"
   ]
  },
  {
   "cell_type": "code",
   "execution_count": 17,
   "id": "22515644",
   "metadata": {},
   "outputs": [
    {
     "name": "stdout",
     "output_type": "stream",
     "text": [
      "\n",
      "evaluating on test set with 0 edit threshold...\n",
      "5/5 [==============================] - 2s 51ms/step - loss: 0.4865 - accuracy: 0.9243\n",
      "test loss, test acc: [0.4865431785583496, 0.924341082572937]\n",
      "evaluating on test set with 0.1 edit threshold...\n",
      "7/7 [==============================] - 0s 51ms/step - loss: 0.5410 - accuracy: 0.9169\n",
      "test loss, test acc: [0.5409690141677856, 0.9169280529022217]\n",
      "evaluating on test set with 0.25 edit threshold...\n",
      "14/14 [==============================] - 1s 52ms/step - loss: 0.5494 - accuracy: 0.9153\n",
      "test loss, test acc: [0.5494069457054138, 0.9152514934539795]\n"
     ]
    }
   ],
   "source": [
    "trainer_and_tester2.evaluateOnTestData(language + '_model_'+str(20)+'_v2')"
   ]
  },
  {
   "cell_type": "code",
   "execution_count": 18,
   "id": "260b80bd",
   "metadata": {},
   "outputs": [
    {
     "name": "stdout",
     "output_type": "stream",
     "text": [
      "('あくち\\n', 0.16104132)\n",
      "('り\\n', 0.075644255)\n"
     ]
    }
   ],
   "source": [
    "print(trainer_and_tester.predict('reiwatomo'))\n",
    "print(trainer_and_tester2.predict('reiwatomo'))"
   ]
  },
  {
   "cell_type": "code",
   "execution_count": 45,
   "id": "f003a35c",
   "metadata": {},
   "outputs": [
    {
     "data": {
      "text/html": [
       "<div>\n",
       "<style scoped>\n",
       "    .dataframe tbody tr th:only-of-type {\n",
       "        vertical-align: middle;\n",
       "    }\n",
       "\n",
       "    .dataframe tbody tr th {\n",
       "        vertical-align: top;\n",
       "    }\n",
       "\n",
       "    .dataframe thead th {\n",
       "        text-align: right;\n",
       "    }\n",
       "</style>\n",
       "<table border=\"1\" class=\"dataframe\">\n",
       "  <thead>\n",
       "    <tr style=\"text-align: right;\">\n",
       "      <th></th>\n",
       "      <th>index</th>\n",
       "      <th>username</th>\n",
       "      <th>screen_name</th>\n",
       "      <th>language</th>\n",
       "    </tr>\n",
       "  </thead>\n",
       "  <tbody>\n",
       "    <tr>\n",
       "      <th>0</th>\n",
       "      <td>42</td>\n",
       "      <td>tsudayan</td>\n",
       "      <td>つだやん</td>\n",
       "      <td>ja</td>\n",
       "    </tr>\n",
       "    <tr>\n",
       "      <th>1</th>\n",
       "      <td>63</td>\n",
       "      <td>mashiroharu</td>\n",
       "      <td>ましろはる</td>\n",
       "      <td>ja</td>\n",
       "    </tr>\n",
       "    <tr>\n",
       "      <th>2</th>\n",
       "      <td>67</td>\n",
       "      <td>mana</td>\n",
       "      <td>まな</td>\n",
       "      <td>ja</td>\n",
       "    </tr>\n",
       "    <tr>\n",
       "      <th>3</th>\n",
       "      <td>123</td>\n",
       "      <td>uisawashigure</td>\n",
       "      <td>憂沢時雨</td>\n",
       "      <td>ja</td>\n",
       "    </tr>\n",
       "    <tr>\n",
       "      <th>4</th>\n",
       "      <td>125</td>\n",
       "      <td>nameneko</td>\n",
       "      <td>なめ猫</td>\n",
       "      <td>ja</td>\n",
       "    </tr>\n",
       "    <tr>\n",
       "      <th>...</th>\n",
       "      <td>...</td>\n",
       "      <td>...</td>\n",
       "      <td>...</td>\n",
       "      <td>...</td>\n",
       "    </tr>\n",
       "    <tr>\n",
       "      <th>904</th>\n",
       "      <td>25670</td>\n",
       "      <td>airakukaria</td>\n",
       "      <td>哀楽狩阿</td>\n",
       "      <td>ja</td>\n",
       "    </tr>\n",
       "    <tr>\n",
       "      <th>905</th>\n",
       "      <td>25719</td>\n",
       "      <td>poroporo</td>\n",
       "      <td>ポロポロ</td>\n",
       "      <td>ja</td>\n",
       "    </tr>\n",
       "    <tr>\n",
       "      <th>906</th>\n",
       "      <td>25724</td>\n",
       "      <td>hajikko</td>\n",
       "      <td>はじっこ</td>\n",
       "      <td>ja</td>\n",
       "    </tr>\n",
       "    <tr>\n",
       "      <th>907</th>\n",
       "      <td>25736</td>\n",
       "      <td>areumi</td>\n",
       "      <td>あれうみ</td>\n",
       "      <td>ja</td>\n",
       "    </tr>\n",
       "    <tr>\n",
       "      <th>908</th>\n",
       "      <td>25756</td>\n",
       "      <td>yanpa</td>\n",
       "      <td>やんぱ</td>\n",
       "      <td>ja</td>\n",
       "    </tr>\n",
       "  </tbody>\n",
       "</table>\n",
       "<p>909 rows × 4 columns</p>\n",
       "</div>"
      ],
      "text/plain": [
       "     index       username screen_name language\n",
       "0       42       tsudayan        つだやん       ja\n",
       "1       63    mashiroharu       ましろはる       ja\n",
       "2       67           mana          まな       ja\n",
       "3      123  uisawashigure        憂沢時雨       ja\n",
       "4      125       nameneko         なめ猫       ja\n",
       "..     ...            ...         ...      ...\n",
       "904  25670    airakukaria        哀楽狩阿       ja\n",
       "905  25719       poroporo        ポロポロ       ja\n",
       "906  25724        hajikko        はじっこ       ja\n",
       "907  25736         areumi        あれうみ       ja\n",
       "908  25756          yanpa         やんぱ       ja\n",
       "\n",
       "[909 rows x 4 columns]"
      ]
     },
     "execution_count": 45,
     "metadata": {},
     "output_type": "execute_result"
    }
   ],
   "source": [
    "training_set_A = my_cleanser.training_dataframe"
   ]
  },
  {
   "cell_type": "code",
   "execution_count": 19,
   "id": "cb969175",
   "metadata": {},
   "outputs": [
    {
     "data": {
      "text/plain": [
       "('り\\n', 0.073119655)"
      ]
     },
     "execution_count": 19,
     "metadata": {},
     "output_type": "execute_result"
    }
   ],
   "source": [
    "trainer_and_tester2.predict('yanpa')"
   ]
  },
  {
   "cell_type": "code",
   "execution_count": null,
   "id": "23a458a0",
   "metadata": {},
   "outputs": [],
   "source": [
    "training_set_A[\"conf\"] = training_set_A[\"username\"].apply(predict_confidence, args=(trainer_and_tester2))"
   ]
  },
  {
   "cell_type": "code",
   "execution_count": null,
   "id": "7d289f00",
   "metadata": {},
   "outputs": [],
   "source": []
  },
  {
   "cell_type": "code",
   "execution_count": 13,
   "id": "301cc7c8",
   "metadata": {},
   "outputs": [
    {
     "data": {
      "text/plain": [
       "<name_transliteration.model_trainer_and_tester.ModelTrainerAndTester at 0x16e2e4880>"
      ]
     },
     "execution_count": 13,
     "metadata": {},
     "output_type": "execute_result"
    }
   ],
   "source": [
    "trainer_and_tester2"
   ]
  },
  {
   "cell_type": "code",
   "execution_count": 14,
   "id": "d56d4c0f",
   "metadata": {},
   "outputs": [
    {
     "data": {
      "text/plain": [
       "<name_transliteration.model_trainer_and_tester.ModelTrainerAndTester at 0x16ec401c0>"
      ]
     },
     "execution_count": 14,
     "metadata": {},
     "output_type": "execute_result"
    }
   ],
   "source": [
    "trainer_and_tester"
   ]
  },
  {
   "cell_type": "code",
   "execution_count": null,
   "id": "0c0e7c49",
   "metadata": {},
   "outputs": [],
   "source": []
  }
 ],
 "metadata": {
  "kernelspec": {
   "display_name": "Python 3",
   "language": "python",
   "name": "python3"
  },
  "language_info": {
   "codemirror_mode": {
    "name": "ipython",
    "version": 3
   },
   "file_extension": ".py",
   "mimetype": "text/x-python",
   "name": "python",
   "nbconvert_exporter": "python",
   "pygments_lexer": "ipython3",
   "version": "3.8.2"
  }
 },
 "nbformat": 4,
 "nbformat_minor": 5
}
