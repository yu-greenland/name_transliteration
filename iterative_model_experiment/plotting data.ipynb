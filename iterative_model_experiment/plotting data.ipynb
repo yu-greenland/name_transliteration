{
 "cells": [
  {
   "cell_type": "markdown",
   "id": "d9c8e3b7",
   "metadata": {},
   "source": [
    "this notebook is for plotting out graphs and exploring the data"
   ]
  },
  {
   "cell_type": "code",
   "execution_count": 1,
   "id": "686332aa",
   "metadata": {},
   "outputs": [],
   "source": [
    "import gc\n",
    "from tensorflow.keras import backend as K"
   ]
  },
  {
   "cell_type": "code",
   "execution_count": 2,
   "id": "bd5483bf",
   "metadata": {},
   "outputs": [],
   "source": [
    "language = 'ja'\n",
    "import name_transliteration.filtering as filter\n",
    "import name_transliteration.cleansing as cleanse\n",
    "import name_transliteration.model_trainer_and_tester as model_trainer_and_tester"
   ]
  },
  {
   "cell_type": "code",
   "execution_count": 3,
   "id": "aa3a881f",
   "metadata": {},
   "outputs": [
    {
     "name": "stdout",
     "output_type": "stream",
     "text": [
      "./data/stream-2021-03-07T03:05:07.831679.gz\n",
      "./data/stream-2021-01-13T01:21:29.804195.gz\n",
      "./data/stream-2021-01-13T04:07:46.253913.gz\n"
     ]
    }
   ],
   "source": [
    "# filter testing and training data\n",
    "my_filter = filter.Filter(language)\n",
    "my_filter.filterData(\"./data/\",3)"
   ]
  },
  {
   "cell_type": "code",
   "execution_count": 4,
   "id": "925fd835",
   "metadata": {},
   "outputs": [],
   "source": [
    "# instantiate the cleanser\n",
    "my_cleanser = cleanse.Cleanser()\n",
    "\n",
    "raw_names = my_filter.getDataFrame()\n",
    "\n",
    "raw_names[\"username\"] = raw_names[\"username\"].apply(my_cleanser.transformUserName)\n",
    "raw_names = raw_names[['username','screen_name']]\n",
    "raw_names.to_csv('raw_names.txt', header=None, index=None, sep='\\t', mode='w')"
   ]
  },
  {
   "cell_type": "code",
   "execution_count": 5,
   "id": "af1df428",
   "metadata": {},
   "outputs": [],
   "source": [
    "\n",
    "loaded_model = model_trainer_and_tester.ModelTrainerAndTester(\n",
    "    language=language\n",
    ")\n",
    "loaded_model.loadDataParameters()\n",
    "loaded_model.createDecoderEncoder('model_A')"
   ]
  },
  {
   "cell_type": "code",
   "execution_count": 6,
   "id": "8ae4252b",
   "metadata": {},
   "outputs": [
    {
     "name": "stdout",
     "output_type": "stream",
     "text": [
      "data is processed\n",
      "completed prediction iteration: 1 of 28\n",
      "completed prediction iteration: 2 of 28\n",
      "completed prediction iteration: 3 of 28\n",
      "completed prediction iteration: 4 of 28\n",
      "completed prediction iteration: 5 of 28\n",
      "completed prediction iteration: 6 of 28\n",
      "completed prediction iteration: 7 of 28\n",
      "completed prediction iteration: 8 of 28\n",
      "completed prediction iteration: 9 of 28\n",
      "completed prediction iteration: 10 of 28\n",
      "completed prediction iteration: 11 of 28\n",
      "completed prediction iteration: 12 of 28\n",
      "completed prediction iteration: 13 of 28\n",
      "completed prediction iteration: 14 of 28\n",
      "completed prediction iteration: 15 of 28\n",
      "completed prediction iteration: 16 of 28\n",
      "completed prediction iteration: 17 of 28\n",
      "completed prediction iteration: 18 of 28\n",
      "completed prediction iteration: 19 of 28\n",
      "completed prediction iteration: 20 of 28\n",
      "20000 predictions completed\n"
     ]
    }
   ],
   "source": [
    "prob_list = loaded_model.create_probabilities(\"raw_names.txt\")"
   ]
  },
  {
   "cell_type": "code",
   "execution_count": 12,
   "id": "30b9874a",
   "metadata": {},
   "outputs": [
    {
     "data": {
      "image/png": "[encoded data removed]",
      "text/plain": [
       "<Figure size 432x288 with 1 Axes>"
      ]
     },
     "metadata": {
      "needs_background": "light"
     },
     "output_type": "display_data"
    }
   ],
   "source": [
    "import numpy as np\n",
    "import matplotlib.pyplot as plt\n",
    "plt.hist(np.array(prob_list), bins=np.arange(10)/10)\n",
    "plt.title('Probability distribution over un-cleansed data')\n",
    "plt.show()"
   ]
  },
  {
   "cell_type": "code",
   "execution_count": null,
   "id": "c7b9f369",
   "metadata": {},
   "outputs": [],
   "source": []
  },
  {
   "cell_type": "code",
   "execution_count": 19,
   "id": "28596329",
   "metadata": {},
   "outputs": [
    {
     "name": "stdout",
     "output_type": "stream",
     "text": [
      "Model: \"model\"\n",
      "__________________________________________________________________________________________________\n",
      "Layer (type)                    Output Shape         Param #     Connected to                     \n",
      "==================================================================================================\n",
      "input_1 (InputLayer)            [(None, None, 27)]   0                                            \n",
      "__________________________________________________________________________________________________\n",
      "input_2 (InputLayer)            [(None, None, 5071)] 0                                            \n",
      "__________________________________________________________________________________________________\n",
      "lstm (LSTM)                     [(None, 256), (None, 290816      input_1[0][0]                    \n",
      "__________________________________________________________________________________________________\n",
      "lstm_1 (LSTM)                   [(None, None, 256),  5455872     input_2[0][0]                    \n",
      "                                                                 lstm[0][1]                       \n",
      "                                                                 lstm[0][2]                       \n",
      "__________________________________________________________________________________________________\n",
      "dense (Dense)                   (None, None, 5071)   1303247     lstm_1[0][0]                     \n",
      "==================================================================================================\n",
      "Total params: 7,049,935\n",
      "Trainable params: 7,049,935\n",
      "Non-trainable params: 0\n",
      "__________________________________________________________________________________________________\n"
     ]
    }
   ],
   "source": [
    "loaded_model.model.summary()"
   ]
  },
  {
   "cell_type": "code",
   "execution_count": 24,
   "id": "f174d574",
   "metadata": {},
   "outputs": [
    {
     "data": {
      "text/plain": [
       "('ゆず\\n', 0.6737388)"
      ]
     },
     "execution_count": 24,
     "metadata": {},
     "output_type": "execute_result"
    }
   ],
   "source": [
    "loaded_model.predict(\"yuzu\")"
   ]
  },
  {
   "cell_type": "code",
   "execution_count": null,
   "id": "d8763625",
   "metadata": {},
   "outputs": [],
   "source": []
  },
  {
   "cell_type": "code",
   "execution_count": 13,
   "id": "d330058c",
   "metadata": {},
   "outputs": [],
   "source": [
    "cleansed_data = my_cleanser.cleanseData(my_filter.getDataFrame(), edit_threshold=0)"
   ]
  },
  {
   "cell_type": "code",
   "execution_count": 14,
   "id": "983e4105",
   "metadata": {},
   "outputs": [],
   "source": [
    "cleansed_data = cleansed_data[['username','screen_name']]\n",
    "cleansed_data.to_csv('cleansed_names.txt', header=None, index=None, sep='\\t', mode='w')"
   ]
  },
  {
   "cell_type": "code",
   "execution_count": 16,
   "id": "4d4d8f17",
   "metadata": {},
   "outputs": [
    {
     "name": "stdout",
     "output_type": "stream",
     "text": [
      "data is processed\n",
      "completed prediction iteration: 1 of 1\n",
      "846 predictions completed\n"
     ]
    }
   ],
   "source": [
    "prob_list_cleansed = loaded_model.create_probabilities(\"cleansed_names.txt\")"
   ]
  },
  {
   "cell_type": "code",
   "execution_count": 25,
   "id": "3e346a0c",
   "metadata": {},
   "outputs": [
    {
     "data": {
      "image/png": "[encoded data removed]",
      "text/plain": [
       "<Figure size 432x288 with 1 Axes>"
      ]
     },
     "metadata": {
      "needs_background": "light"
     },
     "output_type": "display_data"
    }
   ],
   "source": [
    "plt.hist(np.array(prob_list_cleansed), bins=np.arange(10)/10)\n",
    "plt.title('Probability distribution over cleansed data')\n",
    "plt.show()"
   ]
  },
  {
   "cell_type": "code",
   "execution_count": null,
   "id": "6e41be74",
   "metadata": {},
   "outputs": [],
   "source": []
  },
  {
   "cell_type": "code",
   "execution_count": null,
   "id": "b34b2e43",
   "metadata": {},
   "outputs": [],
   "source": []
  }
 ],
 "metadata": {
  "kernelspec": {
   "display_name": "Python 3",
   "language": "python",
   "name": "python3"
  },
  "language_info": {
   "codemirror_mode": {
    "name": "ipython",
    "version": 3
   },
   "file_extension": ".py",
   "mimetype": "text/x-python",
   "name": "python",
   "nbconvert_exporter": "python",
   "pygments_lexer": "ipython3",
   "version": "3.8.2"
  }
 },
 "nbformat": 4,
 "nbformat_minor": 5
}
