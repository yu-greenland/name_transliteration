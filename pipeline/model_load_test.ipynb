{
 "cells": [
  {
   "cell_type": "code",
   "execution_count": 1,
   "id": "2feb9f1d",
   "metadata": {},
   "outputs": [],
   "source": [
    "language = 'ja'\n",
    "import name_transliteration.model_trainer_and_tester as model_trainer_and_tester\n",
    "loaded_model = model_trainer_and_tester.ModelTrainerAndTester(\n",
    "    language=language\n",
    ")\n",
    "loaded_model.loadDataParameters()\n",
    "loaded_model.createDecoderEncoder('ja_model_20')"
   ]
  },
  {
   "cell_type": "code",
   "execution_count": 2,
   "id": "b5d7bdde",
   "metadata": {},
   "outputs": [],
   "source": []
  },
  {
   "cell_type": "code",
   "execution_count": 3,
   "id": "97275188",
   "metadata": {},
   "outputs": [],
   "source": []
  },
  {
   "cell_type": "code",
   "execution_count": 4,
   "id": "316a184f",
   "metadata": {},
   "outputs": [],
   "source": []
  },
  {
   "cell_type": "code",
   "execution_count": 5,
   "id": "9a85ed49",
   "metadata": {},
   "outputs": [
    {
     "data": {
      "text/plain": [
       "('ゆず\\n', 0.99782217)"
      ]
     },
     "execution_count": 5,
     "metadata": {},
     "output_type": "execute_result"
    }
   ],
   "source": [
    "loaded_model.predict(\"yuzu\")"
   ]
  },
  {
   "cell_type": "code",
   "execution_count": 6,
   "id": "aa36ebde",
   "metadata": {},
   "outputs": [
    {
     "name": "stdout",
     "output_type": "stream",
     "text": [
      "\n",
      "evaluating on test set with 0 edit threshold...\n",
      "1/1 [==============================] - 1s 624ms/step - loss: 0.5236 - accuracy: 0.8977\n",
      "test loss, test acc: [0.523586630821228, 0.8977272510528564]\n",
      "evaluating on test set with 0.1 edit threshold...\n",
      "2/2 [==============================] - 1s 16ms/step - loss: 1.0350 - accuracy: 0.8395\n",
      "test loss, test acc: [1.0350300073623657, 0.8394584059715271]\n",
      "evaluating on test set with 0.25 edit threshold...\n",
      "4/4 [==============================] - 0s 26ms/step - loss: 1.2872 - accuracy: 0.8036\n",
      "test loss, test acc: [1.2872000932693481, 0.8036020398139954]\n"
     ]
    }
   ],
   "source": [
    "loaded_model.evaluateOnTestData('ja_model_20')"
   ]
  }
 ],
 "metadata": {
  "kernelspec": {
   "display_name": "Python 3",
   "language": "python",
   "name": "python3"
  },
  "language_info": {
   "codemirror_mode": {
    "name": "ipython",
    "version": 3
   },
   "file_extension": ".py",
   "mimetype": "text/x-python",
   "name": "python",
   "nbconvert_exporter": "python",
   "pygments_lexer": "ipython3",
   "version": "3.8.2"
  }
 },
 "nbformat": 4,
 "nbformat_minor": 5
}
