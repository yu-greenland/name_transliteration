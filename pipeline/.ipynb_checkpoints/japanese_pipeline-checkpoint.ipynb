{
 "cells": [
  {
   "cell_type": "markdown",
   "id": "489095e2",
   "metadata": {},
   "source": [
    "This notebook is a demonstration of the entire Machine Translation pipeline (although we are trying to transliterate).\n",
    "\n",
    "It goes through the pre-processing of data all the way to outputting a model that can be re-used later on. It even performs some basic evaluation namely plotting training and validation loss.\n",
    "\n",
    "Works best on Japanese ('ja') as the Twitter data used contains higher portions of Japanese Tweets compared to other languages that are not English. Also the standard transliteration used when evaluating suitable name pairs works very well in Japanese.\n",
    "\n",
    "This version correctly implements splitting the data into **training, testing and validation**."
   ]
  },
  {
   "cell_type": "code",
   "execution_count": 1,
   "id": "8ce9b6d7",
   "metadata": {},
   "outputs": [],
   "source": [
    "language = 'ja'\n",
    "import name_transliteration.filtering as filter\n",
    "import name_transliteration.cleansing as cleanse\n",
    "import name_transliteration.model_trainer_and_tester as model_trainer_and_tester"
   ]
  },
  {
   "cell_type": "code",
   "execution_count": 2,
   "id": "3de56144",
   "metadata": {},
   "outputs": [
    {
     "name": "stdout",
     "output_type": "stream",
     "text": [
      "./data/stream-2021-03-07T03:05:07.831679.gz\n",
      "./data/stream-2021-01-13T01:21:29.804195.gz\n",
      "./data/stream-2021-01-13T04:07:46.253913.gz\n",
      "./data/stream-2021-01-12T23:08:30.828340.gz\n",
      "./data/stream-2021-01-13T03:38:20.383129.gz\n",
      "./data/stream-2021-03-07T06:30:03.830030.gz\n",
      "./data/stream-2021-01-13T04:37:35.200990.gz\n",
      "./data/stream-2021-03-07T03:34:53.811604.gz\n",
      "./data/stream-2021-04-17T07:23:41.809159.gz\n",
      "./data/stream-2021-01-12T22:39:33.810384.gz\n",
      "./data/stream-2021-03-06T03:25:42.946878.gz\n",
      "./data/stream-2021-01-12T22:09:26.798946.gz\n",
      "./data/stream-2021-03-07T04:06:04.938654.gz\n",
      "./data/stream-2021-03-07T01:39:45.126113.gz\n",
      "./data/stream-2021-03-07T08:30:55.833881.gz\n",
      "./data/stream-2021-03-07T02:36:22.842559.gz\n",
      "./data/stream-2021-03-06T01:33:50.975776.gz\n",
      "./data/stream-2021-03-06T01:59:57.825571.gz\n",
      "./data/stream-2021-03-07T07:50:03.791977.gz\n",
      "./data/stream-2021-04-17T04:49:34.818794.gz\n",
      "./data/stream-2021-03-06T00:38:21.058969.gz\n",
      "./data/stream-2021-03-07T01:29:37.938029.gz\n",
      "./data/stream-2021-01-13T00:02:22.807571.gz\n",
      "./data/stream-2021-03-06T23:16:19.931951.gz\n",
      "./data/stream-2021-01-13T02:14:13.914215.gz\n",
      "./data/stream-2021-03-07T05:50:51.797120.gz\n",
      "./data/stream-2021-03-06T02:27:32.944437.gz\n",
      "./data/stream-2021-04-17T06:45:57.765273.gz\n",
      "./data/stream-2021-03-06T22:46:55.051822.gz\n",
      "./data/stream-2021-04-17T05:28:35.936895.gz\n",
      "./data/stream-2021-03-06T03:56:50.840797.gz\n",
      "./data/stream-2021-03-06T23:44:28.885165.gz\n",
      "./data/stream-2021-03-07T00:38:41.940824.gz\n",
      "./data/stream-2021-04-17T03:33:36.470062.gz\n",
      "./data/stream-2021-03-07T01:54:03.127902.gz\n",
      "./data/stream-2021-03-07T01:04:07.119423.gz\n",
      "./data/stream-2021-01-13T03:09:29.015229.gz\n",
      "./data/stream-2021-03-07T06:39:59.560376.gz\n",
      "./data/stream-2021-04-17T06:07:42.842366.gz\n",
      "./data/stream-2021-01-13T00:55:27.831486.gz\n",
      "./data/stream-2021-03-06T04:30:10.792693.gz\n",
      "./data/stream-2021-01-13T05:09:14.938774.gz\n",
      "./data/stream-2021-03-06T02:55:50.791026.gz\n",
      "./data/stream-2021-04-17T03:36:31.821630.gz\n",
      "./data/stream-2021-03-07T04:38:41.798997.gz\n",
      "./data/stream-2021-01-12T23:35:55.813786.gz\n",
      "./data/stream-2021-01-13T00:28:46.798948.gz\n",
      "./data/stream-2021-03-07T00:12:11.870181.gz\n",
      "./data/stream-2021-04-17T04:12:10.798493.gz\n",
      "./data/stream-2021-03-07T05:13:24.789931.gz\n",
      "./data/stream-2021-01-13T01:47:06.536491.gz\n",
      "./data/stream-2021-01-13T02:42:07.071964.gz\n"
     ]
    }
   ],
   "source": [
    "# filter testing and training data\n",
    "\n",
    "my_filter = filter.Filter(language)\n",
    "my_filter.filterData(\"./data/\")"
   ]
  },
  {
   "cell_type": "code",
   "execution_count": 3,
   "id": "200c5c88",
   "metadata": {},
   "outputs": [],
   "source": [
    "# instantiate the cleanser\n",
    "my_cleanser = cleanse.Cleanser()\n",
    "# the split data is uncleansed btw\n",
    "my_cleanser.splitTrainTest(my_filter.getDataFrame())\n",
    "# this does the cleansing of the test datasets\n",
    "my_cleanser.createTestDataSets()\n",
    "# this does the cleansing of the training dataset\n",
    "my_cleanser.createTrainDataSet(edit_threshold = 0.1)"
   ]
  },
  {
   "cell_type": "code",
   "execution_count": 4,
   "id": "1583650c",
   "metadata": {},
   "outputs": [
    {
     "name": "stdout",
     "output_type": "stream",
     "text": [
      "Saving cleansed names as: \n",
      "train_0_edit_distance_language_cleansed.txt 17342 number of rows. \n",
      "test1_cleansed.txt 32 number of rows. \n",
      "test2_cleansed.txt 47 number of rows. \n",
      "test3_cleansed.txt 106 number of rows. \n",
      "\n"
     ]
    }
   ],
   "source": [
    "my_cleanser.saveTestAndTrain()"
   ]
  },
  {
   "cell_type": "code",
   "execution_count": 5,
   "id": "77b49f8e",
   "metadata": {
    "scrolled": true
   },
   "outputs": [
    {
     "name": "stdout",
     "output_type": "stream",
     "text": [
      "Number of unique input tokens: 27\n",
      "Number of unique output tokens: 1491\n",
      "Max sequence length for inputs: 15\n",
      "Max sequence length for outputs: 11\n",
      "Epoch 1/20\n",
      "434/434 [==============================] - 37s 79ms/step - loss: 2.1568 - accuracy: 0.6258 - val_loss: 1.5940 - val_accuracy: 0.6989\n",
      "Epoch 2/20\n",
      "434/434 [==============================] - 32s 74ms/step - loss: 1.5644 - accuracy: 0.7007 - val_loss: 1.4878 - val_accuracy: 0.6971\n",
      "Epoch 3/20\n",
      "434/434 [==============================] - 32s 73ms/step - loss: 1.3290 - accuracy: 0.7329 - val_loss: 1.1468 - val_accuracy: 0.7608\n",
      "Epoch 4/20\n",
      "434/434 [==============================] - 31s 71ms/step - loss: 1.0777 - accuracy: 0.7770 - val_loss: 0.9690 - val_accuracy: 0.8011\n",
      "Epoch 5/20\n",
      "434/434 [==============================] - 31s 72ms/step - loss: 0.8760 - accuracy: 0.8184 - val_loss: 0.8502 - val_accuracy: 0.8271\n",
      "Epoch 6/20\n",
      "434/434 [==============================] - 31s 72ms/step - loss: 0.7460 - accuracy: 0.8488 - val_loss: 0.7194 - val_accuracy: 0.8601\n",
      "Epoch 7/20\n",
      "434/434 [==============================] - 31s 72ms/step - loss: 0.6536 - accuracy: 0.8688 - val_loss: 0.6818 - val_accuracy: 0.8665\n",
      "Epoch 8/20\n",
      "434/434 [==============================] - 31s 72ms/step - loss: 0.5845 - accuracy: 0.8859 - val_loss: 0.6260 - val_accuracy: 0.8814\n",
      "Epoch 9/20\n",
      "434/434 [==============================] - 31s 71ms/step - loss: 0.5196 - accuracy: 0.8988 - val_loss: 0.6579 - val_accuracy: 0.8733\n",
      "Epoch 10/20\n",
      "434/434 [==============================] - 31s 71ms/step - loss: 0.4808 - accuracy: 0.9078 - val_loss: 0.5628 - val_accuracy: 0.8958\n",
      "Epoch 11/20\n",
      "434/434 [==============================] - 31s 71ms/step - loss: 0.4398 - accuracy: 0.9159 - val_loss: 0.5421 - val_accuracy: 0.9017\n",
      "Epoch 12/20\n",
      "434/434 [==============================] - 31s 71ms/step - loss: 0.4159 - accuracy: 0.9217 - val_loss: 0.5363 - val_accuracy: 0.9031\n",
      "Epoch 13/20\n",
      "434/434 [==============================] - 31s 71ms/step - loss: 0.3798 - accuracy: 0.9287 - val_loss: 0.5358 - val_accuracy: 0.9018\n",
      "Epoch 14/20\n",
      "434/434 [==============================] - 32s 73ms/step - loss: 0.3636 - accuracy: 0.9323 - val_loss: 0.5149 - val_accuracy: 0.9051\n",
      "Epoch 15/20\n",
      "434/434 [==============================] - 32s 74ms/step - loss: 0.3287 - accuracy: 0.9384 - val_loss: 0.5191 - val_accuracy: 0.9053\n",
      "Epoch 16/20\n",
      "434/434 [==============================] - 31s 71ms/step - loss: 0.3175 - accuracy: 0.9416 - val_loss: 0.5219 - val_accuracy: 0.9050\n",
      "Epoch 17/20\n",
      "434/434 [==============================] - 31s 71ms/step - loss: 0.2955 - accuracy: 0.9453 - val_loss: 0.5038 - val_accuracy: 0.9072\n",
      "Epoch 18/20\n",
      "434/434 [==============================] - 31s 71ms/step - loss: 0.2878 - accuracy: 0.9472 - val_loss: 0.5010 - val_accuracy: 0.9090\n",
      "Epoch 19/20\n",
      "434/434 [==============================] - 31s 72ms/step - loss: 0.2699 - accuracy: 0.9512 - val_loss: 0.5017 - val_accuracy: 0.9099\n",
      "Epoch 20/20\n",
      "434/434 [==============================] - 31s 71ms/step - loss: 0.2579 - accuracy: 0.9531 - val_loss: 0.5076 - val_accuracy: 0.9064\n",
      "\n",
      "evaluating on test set with 0 edit threshold...\n",
      "542/542 [==============================] - 13s 24ms/step - loss: 0.2978 - accuracy: 0.9464\n",
      "test loss, test acc: [0.297791063785553, 0.9464043974876404]\n"
     ]
    },
    {
     "name": "stderr",
     "output_type": "stream",
     "text": [
      "WARNING:absl:Found untraced functions such as lstm_cell_layer_call_fn, lstm_cell_layer_call_and_return_conditional_losses, lstm_cell_1_layer_call_fn, lstm_cell_1_layer_call_and_return_conditional_losses, lstm_cell_layer_call_fn while saving (showing 5 of 10). These functions will not be directly callable after loading.\n",
      "WARNING:absl:Found untraced functions such as lstm_cell_layer_call_fn, lstm_cell_layer_call_and_return_conditional_losses, lstm_cell_1_layer_call_fn, lstm_cell_1_layer_call_and_return_conditional_losses, lstm_cell_layer_call_fn while saving (showing 5 of 10). These functions will not be directly callable after loading.\n",
      "INFO:tensorflow:Assets written to: ja_model_20/assets\n"
     ]
    },
    {
     "data": {
      "text/html": [
       "\n",
       "                <audio  controls=\"controls\" autoplay=\"autoplay\">\n",
       "                    <source src=\"data:audio/x-wav;base64,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\" type=\"audio/x-wav\" />\n",
       "                    Your browser does not support the audio element.\n",
       "                </audio>\n",
       "              "
      ],
      "text/plain": [
       "<IPython.lib.display.Audio object>"
      ]
     },
     "execution_count": 5,
     "metadata": {},
     "output_type": "execute_result"
    }
   ],
   "source": [
    "trainer_and_tester = model_trainer_and_tester.ModelTrainerAndTester(\n",
    "    language=language, \n",
    "    epochs=20\n",
    ")\n",
    "trainer_and_tester.runWholeTrainProcess('train_0_edit_distance_language_cleansed.txt')\n",
    "\n",
    "\n",
    "\n",
    "\n",
    "\n",
    "from IPython.display import Audio\n",
    "sound_file = './sound/beep-03.wav'\n",
    "Audio(sound_file, autoplay=True)"
   ]
  },
  {
   "cell_type": "code",
   "execution_count": 7,
   "id": "8d51b371",
   "metadata": {},
   "outputs": [
    {
     "data": {
      "text/plain": [
       "'みるく\\n'"
      ]
     },
     "execution_count": 7,
     "metadata": {},
     "output_type": "execute_result"
    }
   ],
   "source": [
    "trainer_and_tester.predict(\"miruku\")"
   ]
  },
  {
   "cell_type": "code",
   "execution_count": 8,
   "id": "183bd8eb",
   "metadata": {},
   "outputs": [
    {
     "name": "stdout",
     "output_type": "stream",
     "text": [
      "\n",
      "evaluating on test set with 0 edit threshold...\n",
      "1/1 [==============================] - 1s 635ms/step - loss: 0.5243 - accuracy: 0.9006\n",
      "test loss, test acc: [0.5243222713470459, 0.9005681872367859]\n",
      "evaluating on test set with 0.1 edit threshold...\n",
      "2/2 [==============================] - 1s 14ms/step - loss: 0.9756 - accuracy: 0.8259\n",
      "test loss, test acc: [0.9756156206130981, 0.8259187340736389]\n",
      "evaluating on test set with 0.25 edit threshold...\n",
      "4/4 [==============================] - 0s 19ms/step - loss: 1.2439 - accuracy: 0.7967\n",
      "test loss, test acc: [1.2438719272613525, 0.7967410087585449]\n"
     ]
    }
   ],
   "source": [
    "trainer_and_tester.evaluateOnTestData(\"ja_model_20\")"
   ]
  },
  {
   "cell_type": "code",
   "execution_count": 9,
   "id": "cee628cd",
   "metadata": {},
   "outputs": [
    {
     "data": {
      "image/png": "[encoded data removed]",
      "text/plain": [
       "<Figure size 432x288 with 1 Axes>"
      ]
     },
     "metadata": {
      "needs_background": "light"
     },
     "output_type": "display_data"
    }
   ],
   "source": [
    "trainer_and_tester.plotLoss()"
   ]
  },
  {
   "cell_type": "code",
   "execution_count": 10,
   "id": "0029da68",
   "metadata": {},
   "outputs": [],
   "source": [
    "trainer_and_tester.saveTrainingStats()"
   ]
  },
  {
   "cell_type": "code",
   "execution_count": null,
   "id": "7bd4d670",
   "metadata": {},
   "outputs": [],
   "source": []
  }
 ],
 "metadata": {
  "kernelspec": {
   "display_name": "Python 3",
   "language": "python",
   "name": "python3"
  },
  "language_info": {
   "codemirror_mode": {
    "name": "ipython",
    "version": 3
   },
   "file_extension": ".py",
   "mimetype": "text/x-python",
   "name": "python",
   "nbconvert_exporter": "python",
   "pygments_lexer": "ipython3",
   "version": "3.8.2"
  }
 },
 "nbformat": 4,
 "nbformat_minor": 5
}
